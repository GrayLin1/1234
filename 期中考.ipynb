{
  "nbformat": 4,
  "nbformat_minor": 0,
  "metadata": {
    "colab": {
      "name": "期中考.ipynb",
      "provenance": [],
      "collapsed_sections": [],
      "include_colab_link": true
    },
    "kernelspec": {
      "name": "ir",
      "display_name": "R"
    }
  },
  "cells": [
    {
      "cell_type": "markdown",
      "metadata": {
        "id": "view-in-github",
        "colab_type": "text"
      },
      "source": [
        "<a href=\"https://colab.research.google.com/github/GrayLin1/1234/blob/master/%E6%9C%9F%E4%B8%AD%E8%80%83.ipynb\" target=\"_parent\"><img src=\"https://colab.research.google.com/assets/colab-badge.svg\" alt=\"Open In Colab\"/></a>"
      ]
    },
    {
      "cell_type": "code",
      "metadata": {
        "id": "-gqeReP7g1AH"
      },
      "source": [
        "install.packages(\"SportsAnalytics\")"
      ],
      "execution_count": null,
      "outputs": []
    },
    {
      "cell_type": "code",
      "metadata": {
        "id": "YV1oOa_3hkEU"
      },
      "source": [
        "install.packages(\"ggplot2\")"
      ],
      "execution_count": null,
      "outputs": []
    },
    {
      "cell_type": "code",
      "metadata": {
        "id": "jnCQZjB8k7ik"
      },
      "source": [
        "install.packages(\"datasets\")"
      ],
      "execution_count": null,
      "outputs": []
    },
    {
      "cell_type": "code",
      "metadata": {
        "id": "XFKqKqExk96v"
      },
      "source": [
        "install.packages(\"data.table\")"
      ],
      "execution_count": null,
      "outputs": []
    },
    {
      "cell_type": "code",
      "metadata": {
        "id": "Sfv2kFzmhmN2"
      },
      "source": [
        "library(SportsAnalytics)"
      ],
      "execution_count": 3,
      "outputs": []
    },
    {
      "cell_type": "code",
      "metadata": {
        "id": "bCWKehuMhotl"
      },
      "source": [
        "library(ggplot2)"
      ],
      "execution_count": 4,
      "outputs": []
    },
    {
      "cell_type": "code",
      "metadata": {
        "id": "ls4wn6OjlALn"
      },
      "source": [
        "library(datasets)"
      ],
      "execution_count": 20,
      "outputs": []
    },
    {
      "cell_type": "code",
      "metadata": {
        "id": "D8_oMtbslB71"
      },
      "source": [
        "library(data.table)"
      ],
      "execution_count": 22,
      "outputs": []
    },
    {
      "cell_type": "code",
      "metadata": {
        "id": "oL6QY7t7hsfS"
      },
      "source": [
        "NBA1718<-fetch_NBAPlayerStatistics(\"17-18\")"
      ],
      "execution_count": 5,
      "outputs": []
    },
    {
      "cell_type": "code",
      "metadata": {
        "id": "RSZ4VDsPiDhQ",
        "outputId": "f6e9d6fc-0fc9-4543-a611-2e846b25514a",
        "colab": {
          "base_uri": "https://localhost:8080/",
          "height": 603
        }
      },
      "source": [
        "NBA1718order<-NBA1718[order(NBA1718$TotalPoints,decreasing = T),]\n",
        "NBA1718order[1:20,]"
      ],
      "execution_count": 33,
      "outputs": [
        {
          "output_type": "display_data",
          "data": {
            "text/plain": [
              "    League Name             Team Position GamesPlayed TotalMinutesPlayed\n",
              "248 NBA    Lebron James     CLE  SF       82          3024              \n",
              "195 NBA    James Harden     HOU  SG       72          2547              \n",
              "123 NBA    Anthony Davis    NOR  PF       75          2740              \n",
              "508 NBA    Russel Westbrook OKL  PG       80          2916              \n",
              "16  NBA    Gi Antetokounmpo MIL  SF       75          2760              \n",
              "298 NBA    Damian Lillard   POR  PG       73          2670              \n",
              "37  NBA    Bradley Beal     WAS  SG       82          2977              \n",
              "131 NBA    Demar Derozan    TOR  SG       80          2707              \n",
              "144 NBA    Kevin Durant     GSW  SF       68          2327              \n",
              "520 NBA    Lou Williams     LAC  SG       79          2589              \n",
              "498 NBA    Kemba Walker     CHA  PG       80          2738              \n",
              "484 NBA    Karl-antho Towns MIN  C        82          2920              \n",
              "7   NBA    Lamarcu Aldridge SAN  PF       75          2512              \n",
              "382 NBA    Victor Oladipo   IND  SG       75          2555              \n",
              "174 NBA    Paul George      OKL  SF       79          2892              \n",
              "322 NBA    Cj Mccollum      POR  SG       81          2922              \n",
              "336 NBA    Khris Middleton  MIL  SF       82          2980              \n",
              "343 NBA    Donovan Mitchell UTA  SG       79          2638              \n",
              "220 NBA    Jrue Holiday     NOR  PG       81          2924              \n",
              "201 NBA    Tobias Harris    LAC  PF       80          2669              \n",
              "    FieldGoalsMade FieldGoalsAttempted ThreesMade ThreesAttempted ⋯ Steals\n",
              "248 857            1580                149        406             ⋯ 117   \n",
              "195 651            1448                265        722             ⋯ 126   \n",
              "123 780            1462                 55        161             ⋯ 115   \n",
              "508 757            1687                 97        326             ⋯ 148   \n",
              "16  742            1402                 43        140             ⋯ 108   \n",
              "298 621            1415                227        628             ⋯  78   \n",
              "37  683            1484                199        530             ⋯  97   \n",
              "131 645            1413                 89        287             ⋯  86   \n",
              "144 630            1221                173        413             ⋯  50   \n",
              "520 582            1337                186        518             ⋯  85   \n",
              "498 588            1363                231        601             ⋯  92   \n",
              "484 639            1171                120        285             ⋯  64   \n",
              "7   687            1347                 27         92             ⋯  43   \n",
              "382 640            1340                161        434             ⋯ 175   \n",
              "174 576            1340                244        609             ⋯ 161   \n",
              "322 667            1504                189        476             ⋯  77   \n",
              "336 593            1271                146        406             ⋯ 118   \n",
              "343 595            1362                187        550             ⋯ 118   \n",
              "220 615            1244                120        356             ⋯ 122   \n",
              "201 562            1221                183        445             ⋯  71   \n",
              "    Turnovers Blocks PersonalFouls Disqualifications TotalPoints Technicals\n",
              "248 348        71    135           0                 2251         6        \n",
              "195 315        50    169           1                 2191         6        \n",
              "123 162       191    159           2                 2110         5        \n",
              "508 381        20    200           1                 2028        14        \n",
              "16  221       106    231           2                 2014         3        \n",
              "298 205        27    117           0                 1962         1        \n",
              "37  214        35    160           1                 1857         3        \n",
              "131 176        22    151           0                 1840         4        \n",
              "144 208       119    133           0                 1792        12        \n",
              "520 234        20    106           0                 1782         2        \n",
              "498 179        24     98           0                 1770         0        \n",
              "484 160       116    285           3                 1743         4        \n",
              "7   112        89    161           1                 1735         3        \n",
              "382 222        57    175           0                 1735         2        \n",
              "174 212        39    232           1                 1734         6        \n",
              "322 152        35    168           0                 1732         1        \n",
              "336 191        21    270           1                 1652         4        \n",
              "343 217        27    213           0                 1616         2        \n",
              "220 216        64    201           1                 1537         0        \n",
              "201 104        35    164           1                 1486         3        \n",
              "    Ejections FlagrantFouls GamesStarted\n",
              "248 0         0             82          \n",
              "195 0         0             72          \n",
              "123 0         0             75          \n",
              "508 0         0             80          \n",
              "16  0         0             75          \n",
              "298 0         0             73          \n",
              "37  0         0             82          \n",
              "131 0         0             80          \n",
              "144 0         0             68          \n",
              "520 0         0             19          \n",
              "498 0         0             80          \n",
              "484 0         0             82          \n",
              "7   0         0             75          \n",
              "382 0         0             75          \n",
              "174 0         0             79          \n",
              "322 0         0             81          \n",
              "336 0         0             82          \n",
              "343 0         0             71          \n",
              "220 0         0             81          \n",
              "201 0         0             80          "
            ],
            "text/latex": "A data.frame: 20 × 25\n\\begin{tabular}{r|lllllllllllllllllllll}\n  & League & Name & Team & Position & GamesPlayed & TotalMinutesPlayed & FieldGoalsMade & FieldGoalsAttempted & ThreesMade & ThreesAttempted & ⋯ & Steals & Turnovers & Blocks & PersonalFouls & Disqualifications & TotalPoints & Technicals & Ejections & FlagrantFouls & GamesStarted\\\\\n  & <fct> & <chr> & <fct> & <fct> & <int> & <int> & <int> & <int> & <int> & <int> & ⋯ & <int> & <int> & <int> & <int> & <int> & <int> & <int> & <int> & <int> & <int>\\\\\n\\hline\n\t248 & NBA & Lebron James     & CLE & SF & 82 & 3024 & 857 & 1580 & 149 & 406 & ⋯ & 117 & 348 &  71 & 135 & 0 & 2251 &  6 & 0 & 0 & 82\\\\\n\t195 & NBA & James Harden     & HOU & SG & 72 & 2547 & 651 & 1448 & 265 & 722 & ⋯ & 126 & 315 &  50 & 169 & 1 & 2191 &  6 & 0 & 0 & 72\\\\\n\t123 & NBA & Anthony Davis    & NOR & PF & 75 & 2740 & 780 & 1462 &  55 & 161 & ⋯ & 115 & 162 & 191 & 159 & 2 & 2110 &  5 & 0 & 0 & 75\\\\\n\t508 & NBA & Russel Westbrook & OKL & PG & 80 & 2916 & 757 & 1687 &  97 & 326 & ⋯ & 148 & 381 &  20 & 200 & 1 & 2028 & 14 & 0 & 0 & 80\\\\\n\t16 & NBA & Gi Antetokounmpo & MIL & SF & 75 & 2760 & 742 & 1402 &  43 & 140 & ⋯ & 108 & 221 & 106 & 231 & 2 & 2014 &  3 & 0 & 0 & 75\\\\\n\t298 & NBA & Damian Lillard   & POR & PG & 73 & 2670 & 621 & 1415 & 227 & 628 & ⋯ &  78 & 205 &  27 & 117 & 0 & 1962 &  1 & 0 & 0 & 73\\\\\n\t37 & NBA & Bradley Beal     & WAS & SG & 82 & 2977 & 683 & 1484 & 199 & 530 & ⋯ &  97 & 214 &  35 & 160 & 1 & 1857 &  3 & 0 & 0 & 82\\\\\n\t131 & NBA & Demar Derozan    & TOR & SG & 80 & 2707 & 645 & 1413 &  89 & 287 & ⋯ &  86 & 176 &  22 & 151 & 0 & 1840 &  4 & 0 & 0 & 80\\\\\n\t144 & NBA & Kevin Durant     & GSW & SF & 68 & 2327 & 630 & 1221 & 173 & 413 & ⋯ &  50 & 208 & 119 & 133 & 0 & 1792 & 12 & 0 & 0 & 68\\\\\n\t520 & NBA & Lou Williams     & LAC & SG & 79 & 2589 & 582 & 1337 & 186 & 518 & ⋯ &  85 & 234 &  20 & 106 & 0 & 1782 &  2 & 0 & 0 & 19\\\\\n\t498 & NBA & Kemba Walker     & CHA & PG & 80 & 2738 & 588 & 1363 & 231 & 601 & ⋯ &  92 & 179 &  24 &  98 & 0 & 1770 &  0 & 0 & 0 & 80\\\\\n\t484 & NBA & Karl-antho Towns & MIN & C  & 82 & 2920 & 639 & 1171 & 120 & 285 & ⋯ &  64 & 160 & 116 & 285 & 3 & 1743 &  4 & 0 & 0 & 82\\\\\n\t7 & NBA & Lamarcu Aldridge & SAN & PF & 75 & 2512 & 687 & 1347 &  27 &  92 & ⋯ &  43 & 112 &  89 & 161 & 1 & 1735 &  3 & 0 & 0 & 75\\\\\n\t382 & NBA & Victor Oladipo   & IND & SG & 75 & 2555 & 640 & 1340 & 161 & 434 & ⋯ & 175 & 222 &  57 & 175 & 0 & 1735 &  2 & 0 & 0 & 75\\\\\n\t174 & NBA & Paul George      & OKL & SF & 79 & 2892 & 576 & 1340 & 244 & 609 & ⋯ & 161 & 212 &  39 & 232 & 1 & 1734 &  6 & 0 & 0 & 79\\\\\n\t322 & NBA & Cj Mccollum      & POR & SG & 81 & 2922 & 667 & 1504 & 189 & 476 & ⋯ &  77 & 152 &  35 & 168 & 0 & 1732 &  1 & 0 & 0 & 81\\\\\n\t336 & NBA & Khris Middleton  & MIL & SF & 82 & 2980 & 593 & 1271 & 146 & 406 & ⋯ & 118 & 191 &  21 & 270 & 1 & 1652 &  4 & 0 & 0 & 82\\\\\n\t343 & NBA & Donovan Mitchell & UTA & SG & 79 & 2638 & 595 & 1362 & 187 & 550 & ⋯ & 118 & 217 &  27 & 213 & 0 & 1616 &  2 & 0 & 0 & 71\\\\\n\t220 & NBA & Jrue Holiday     & NOR & PG & 81 & 2924 & 615 & 1244 & 120 & 356 & ⋯ & 122 & 216 &  64 & 201 & 1 & 1537 &  0 & 0 & 0 & 81\\\\\n\t201 & NBA & Tobias Harris    & LAC & PF & 80 & 2669 & 562 & 1221 & 183 & 445 & ⋯ &  71 & 104 &  35 & 164 & 1 & 1486 &  3 & 0 & 0 & 80\\\\\n\\end{tabular}\n",
            "text/markdown": "\nA data.frame: 20 × 25\n\n| <!--/--> | League &lt;fct&gt; | Name &lt;chr&gt; | Team &lt;fct&gt; | Position &lt;fct&gt; | GamesPlayed &lt;int&gt; | TotalMinutesPlayed &lt;int&gt; | FieldGoalsMade &lt;int&gt; | FieldGoalsAttempted &lt;int&gt; | ThreesMade &lt;int&gt; | ThreesAttempted &lt;int&gt; | ⋯ ⋯ | Steals &lt;int&gt; | Turnovers &lt;int&gt; | Blocks &lt;int&gt; | PersonalFouls &lt;int&gt; | Disqualifications &lt;int&gt; | TotalPoints &lt;int&gt; | Technicals &lt;int&gt; | Ejections &lt;int&gt; | FlagrantFouls &lt;int&gt; | GamesStarted &lt;int&gt; |\n|---|---|---|---|---|---|---|---|---|---|---|---|---|---|---|---|---|---|---|---|---|---|\n| 248 | NBA | Lebron James     | CLE | SF | 82 | 3024 | 857 | 1580 | 149 | 406 | ⋯ | 117 | 348 |  71 | 135 | 0 | 2251 |  6 | 0 | 0 | 82 |\n| 195 | NBA | James Harden     | HOU | SG | 72 | 2547 | 651 | 1448 | 265 | 722 | ⋯ | 126 | 315 |  50 | 169 | 1 | 2191 |  6 | 0 | 0 | 72 |\n| 123 | NBA | Anthony Davis    | NOR | PF | 75 | 2740 | 780 | 1462 |  55 | 161 | ⋯ | 115 | 162 | 191 | 159 | 2 | 2110 |  5 | 0 | 0 | 75 |\n| 508 | NBA | Russel Westbrook | OKL | PG | 80 | 2916 | 757 | 1687 |  97 | 326 | ⋯ | 148 | 381 |  20 | 200 | 1 | 2028 | 14 | 0 | 0 | 80 |\n| 16 | NBA | Gi Antetokounmpo | MIL | SF | 75 | 2760 | 742 | 1402 |  43 | 140 | ⋯ | 108 | 221 | 106 | 231 | 2 | 2014 |  3 | 0 | 0 | 75 |\n| 298 | NBA | Damian Lillard   | POR | PG | 73 | 2670 | 621 | 1415 | 227 | 628 | ⋯ |  78 | 205 |  27 | 117 | 0 | 1962 |  1 | 0 | 0 | 73 |\n| 37 | NBA | Bradley Beal     | WAS | SG | 82 | 2977 | 683 | 1484 | 199 | 530 | ⋯ |  97 | 214 |  35 | 160 | 1 | 1857 |  3 | 0 | 0 | 82 |\n| 131 | NBA | Demar Derozan    | TOR | SG | 80 | 2707 | 645 | 1413 |  89 | 287 | ⋯ |  86 | 176 |  22 | 151 | 0 | 1840 |  4 | 0 | 0 | 80 |\n| 144 | NBA | Kevin Durant     | GSW | SF | 68 | 2327 | 630 | 1221 | 173 | 413 | ⋯ |  50 | 208 | 119 | 133 | 0 | 1792 | 12 | 0 | 0 | 68 |\n| 520 | NBA | Lou Williams     | LAC | SG | 79 | 2589 | 582 | 1337 | 186 | 518 | ⋯ |  85 | 234 |  20 | 106 | 0 | 1782 |  2 | 0 | 0 | 19 |\n| 498 | NBA | Kemba Walker     | CHA | PG | 80 | 2738 | 588 | 1363 | 231 | 601 | ⋯ |  92 | 179 |  24 |  98 | 0 | 1770 |  0 | 0 | 0 | 80 |\n| 484 | NBA | Karl-antho Towns | MIN | C  | 82 | 2920 | 639 | 1171 | 120 | 285 | ⋯ |  64 | 160 | 116 | 285 | 3 | 1743 |  4 | 0 | 0 | 82 |\n| 7 | NBA | Lamarcu Aldridge | SAN | PF | 75 | 2512 | 687 | 1347 |  27 |  92 | ⋯ |  43 | 112 |  89 | 161 | 1 | 1735 |  3 | 0 | 0 | 75 |\n| 382 | NBA | Victor Oladipo   | IND | SG | 75 | 2555 | 640 | 1340 | 161 | 434 | ⋯ | 175 | 222 |  57 | 175 | 0 | 1735 |  2 | 0 | 0 | 75 |\n| 174 | NBA | Paul George      | OKL | SF | 79 | 2892 | 576 | 1340 | 244 | 609 | ⋯ | 161 | 212 |  39 | 232 | 1 | 1734 |  6 | 0 | 0 | 79 |\n| 322 | NBA | Cj Mccollum      | POR | SG | 81 | 2922 | 667 | 1504 | 189 | 476 | ⋯ |  77 | 152 |  35 | 168 | 0 | 1732 |  1 | 0 | 0 | 81 |\n| 336 | NBA | Khris Middleton  | MIL | SF | 82 | 2980 | 593 | 1271 | 146 | 406 | ⋯ | 118 | 191 |  21 | 270 | 1 | 1652 |  4 | 0 | 0 | 82 |\n| 343 | NBA | Donovan Mitchell | UTA | SG | 79 | 2638 | 595 | 1362 | 187 | 550 | ⋯ | 118 | 217 |  27 | 213 | 0 | 1616 |  2 | 0 | 0 | 71 |\n| 220 | NBA | Jrue Holiday     | NOR | PG | 81 | 2924 | 615 | 1244 | 120 | 356 | ⋯ | 122 | 216 |  64 | 201 | 1 | 1537 |  0 | 0 | 0 | 81 |\n| 201 | NBA | Tobias Harris    | LAC | PF | 80 | 2669 | 562 | 1221 | 183 | 445 | ⋯ |  71 | 104 |  35 | 164 | 1 | 1486 |  3 | 0 | 0 | 80 |\n\n",
            "text/html": [
              "<table>\n",
              "<caption>A data.frame: 20 × 25</caption>\n",
              "<thead>\n",
              "\t<tr><th></th><th scope=col>League</th><th scope=col>Name</th><th scope=col>Team</th><th scope=col>Position</th><th scope=col>GamesPlayed</th><th scope=col>TotalMinutesPlayed</th><th scope=col>FieldGoalsMade</th><th scope=col>FieldGoalsAttempted</th><th scope=col>ThreesMade</th><th scope=col>ThreesAttempted</th><th scope=col>⋯</th><th scope=col>Steals</th><th scope=col>Turnovers</th><th scope=col>Blocks</th><th scope=col>PersonalFouls</th><th scope=col>Disqualifications</th><th scope=col>TotalPoints</th><th scope=col>Technicals</th><th scope=col>Ejections</th><th scope=col>FlagrantFouls</th><th scope=col>GamesStarted</th></tr>\n",
              "\t<tr><th></th><th scope=col>&lt;fct&gt;</th><th scope=col>&lt;chr&gt;</th><th scope=col>&lt;fct&gt;</th><th scope=col>&lt;fct&gt;</th><th scope=col>&lt;int&gt;</th><th scope=col>&lt;int&gt;</th><th scope=col>&lt;int&gt;</th><th scope=col>&lt;int&gt;</th><th scope=col>&lt;int&gt;</th><th scope=col>&lt;int&gt;</th><th scope=col>⋯</th><th scope=col>&lt;int&gt;</th><th scope=col>&lt;int&gt;</th><th scope=col>&lt;int&gt;</th><th scope=col>&lt;int&gt;</th><th scope=col>&lt;int&gt;</th><th scope=col>&lt;int&gt;</th><th scope=col>&lt;int&gt;</th><th scope=col>&lt;int&gt;</th><th scope=col>&lt;int&gt;</th><th scope=col>&lt;int&gt;</th></tr>\n",
              "</thead>\n",
              "<tbody>\n",
              "\t<tr><th scope=row>248</th><td>NBA</td><td>Lebron James    </td><td>CLE</td><td>SF</td><td>82</td><td>3024</td><td>857</td><td>1580</td><td>149</td><td>406</td><td>⋯</td><td>117</td><td>348</td><td> 71</td><td>135</td><td>0</td><td>2251</td><td> 6</td><td>0</td><td>0</td><td>82</td></tr>\n",
              "\t<tr><th scope=row>195</th><td>NBA</td><td>James Harden    </td><td>HOU</td><td>SG</td><td>72</td><td>2547</td><td>651</td><td>1448</td><td>265</td><td>722</td><td>⋯</td><td>126</td><td>315</td><td> 50</td><td>169</td><td>1</td><td>2191</td><td> 6</td><td>0</td><td>0</td><td>72</td></tr>\n",
              "\t<tr><th scope=row>123</th><td>NBA</td><td>Anthony Davis   </td><td>NOR</td><td>PF</td><td>75</td><td>2740</td><td>780</td><td>1462</td><td> 55</td><td>161</td><td>⋯</td><td>115</td><td>162</td><td>191</td><td>159</td><td>2</td><td>2110</td><td> 5</td><td>0</td><td>0</td><td>75</td></tr>\n",
              "\t<tr><th scope=row>508</th><td>NBA</td><td>Russel Westbrook</td><td>OKL</td><td>PG</td><td>80</td><td>2916</td><td>757</td><td>1687</td><td> 97</td><td>326</td><td>⋯</td><td>148</td><td>381</td><td> 20</td><td>200</td><td>1</td><td>2028</td><td>14</td><td>0</td><td>0</td><td>80</td></tr>\n",
              "\t<tr><th scope=row>16</th><td>NBA</td><td>Gi Antetokounmpo</td><td>MIL</td><td>SF</td><td>75</td><td>2760</td><td>742</td><td>1402</td><td> 43</td><td>140</td><td>⋯</td><td>108</td><td>221</td><td>106</td><td>231</td><td>2</td><td>2014</td><td> 3</td><td>0</td><td>0</td><td>75</td></tr>\n",
              "\t<tr><th scope=row>298</th><td>NBA</td><td>Damian Lillard  </td><td>POR</td><td>PG</td><td>73</td><td>2670</td><td>621</td><td>1415</td><td>227</td><td>628</td><td>⋯</td><td> 78</td><td>205</td><td> 27</td><td>117</td><td>0</td><td>1962</td><td> 1</td><td>0</td><td>0</td><td>73</td></tr>\n",
              "\t<tr><th scope=row>37</th><td>NBA</td><td>Bradley Beal    </td><td>WAS</td><td>SG</td><td>82</td><td>2977</td><td>683</td><td>1484</td><td>199</td><td>530</td><td>⋯</td><td> 97</td><td>214</td><td> 35</td><td>160</td><td>1</td><td>1857</td><td> 3</td><td>0</td><td>0</td><td>82</td></tr>\n",
              "\t<tr><th scope=row>131</th><td>NBA</td><td>Demar Derozan   </td><td>TOR</td><td>SG</td><td>80</td><td>2707</td><td>645</td><td>1413</td><td> 89</td><td>287</td><td>⋯</td><td> 86</td><td>176</td><td> 22</td><td>151</td><td>0</td><td>1840</td><td> 4</td><td>0</td><td>0</td><td>80</td></tr>\n",
              "\t<tr><th scope=row>144</th><td>NBA</td><td>Kevin Durant    </td><td>GSW</td><td>SF</td><td>68</td><td>2327</td><td>630</td><td>1221</td><td>173</td><td>413</td><td>⋯</td><td> 50</td><td>208</td><td>119</td><td>133</td><td>0</td><td>1792</td><td>12</td><td>0</td><td>0</td><td>68</td></tr>\n",
              "\t<tr><th scope=row>520</th><td>NBA</td><td>Lou Williams    </td><td>LAC</td><td>SG</td><td>79</td><td>2589</td><td>582</td><td>1337</td><td>186</td><td>518</td><td>⋯</td><td> 85</td><td>234</td><td> 20</td><td>106</td><td>0</td><td>1782</td><td> 2</td><td>0</td><td>0</td><td>19</td></tr>\n",
              "\t<tr><th scope=row>498</th><td>NBA</td><td>Kemba Walker    </td><td>CHA</td><td>PG</td><td>80</td><td>2738</td><td>588</td><td>1363</td><td>231</td><td>601</td><td>⋯</td><td> 92</td><td>179</td><td> 24</td><td> 98</td><td>0</td><td>1770</td><td> 0</td><td>0</td><td>0</td><td>80</td></tr>\n",
              "\t<tr><th scope=row>484</th><td>NBA</td><td>Karl-antho Towns</td><td>MIN</td><td>C </td><td>82</td><td>2920</td><td>639</td><td>1171</td><td>120</td><td>285</td><td>⋯</td><td> 64</td><td>160</td><td>116</td><td>285</td><td>3</td><td>1743</td><td> 4</td><td>0</td><td>0</td><td>82</td></tr>\n",
              "\t<tr><th scope=row>7</th><td>NBA</td><td>Lamarcu Aldridge</td><td>SAN</td><td>PF</td><td>75</td><td>2512</td><td>687</td><td>1347</td><td> 27</td><td> 92</td><td>⋯</td><td> 43</td><td>112</td><td> 89</td><td>161</td><td>1</td><td>1735</td><td> 3</td><td>0</td><td>0</td><td>75</td></tr>\n",
              "\t<tr><th scope=row>382</th><td>NBA</td><td>Victor Oladipo  </td><td>IND</td><td>SG</td><td>75</td><td>2555</td><td>640</td><td>1340</td><td>161</td><td>434</td><td>⋯</td><td>175</td><td>222</td><td> 57</td><td>175</td><td>0</td><td>1735</td><td> 2</td><td>0</td><td>0</td><td>75</td></tr>\n",
              "\t<tr><th scope=row>174</th><td>NBA</td><td>Paul George     </td><td>OKL</td><td>SF</td><td>79</td><td>2892</td><td>576</td><td>1340</td><td>244</td><td>609</td><td>⋯</td><td>161</td><td>212</td><td> 39</td><td>232</td><td>1</td><td>1734</td><td> 6</td><td>0</td><td>0</td><td>79</td></tr>\n",
              "\t<tr><th scope=row>322</th><td>NBA</td><td>Cj Mccollum     </td><td>POR</td><td>SG</td><td>81</td><td>2922</td><td>667</td><td>1504</td><td>189</td><td>476</td><td>⋯</td><td> 77</td><td>152</td><td> 35</td><td>168</td><td>0</td><td>1732</td><td> 1</td><td>0</td><td>0</td><td>81</td></tr>\n",
              "\t<tr><th scope=row>336</th><td>NBA</td><td>Khris Middleton </td><td>MIL</td><td>SF</td><td>82</td><td>2980</td><td>593</td><td>1271</td><td>146</td><td>406</td><td>⋯</td><td>118</td><td>191</td><td> 21</td><td>270</td><td>1</td><td>1652</td><td> 4</td><td>0</td><td>0</td><td>82</td></tr>\n",
              "\t<tr><th scope=row>343</th><td>NBA</td><td>Donovan Mitchell</td><td>UTA</td><td>SG</td><td>79</td><td>2638</td><td>595</td><td>1362</td><td>187</td><td>550</td><td>⋯</td><td>118</td><td>217</td><td> 27</td><td>213</td><td>0</td><td>1616</td><td> 2</td><td>0</td><td>0</td><td>71</td></tr>\n",
              "\t<tr><th scope=row>220</th><td>NBA</td><td>Jrue Holiday    </td><td>NOR</td><td>PG</td><td>81</td><td>2924</td><td>615</td><td>1244</td><td>120</td><td>356</td><td>⋯</td><td>122</td><td>216</td><td> 64</td><td>201</td><td>1</td><td>1537</td><td> 0</td><td>0</td><td>0</td><td>81</td></tr>\n",
              "\t<tr><th scope=row>201</th><td>NBA</td><td>Tobias Harris   </td><td>LAC</td><td>PF</td><td>80</td><td>2669</td><td>562</td><td>1221</td><td>183</td><td>445</td><td>⋯</td><td> 71</td><td>104</td><td> 35</td><td>164</td><td>1</td><td>1486</td><td> 3</td><td>0</td><td>0</td><td>80</td></tr>\n",
              "</tbody>\n",
              "</table>\n"
            ]
          },
          "metadata": {
            "tags": []
          }
        }
      ]
    },
    {
      "cell_type": "code",
      "metadata": {
        "id": "89-hRssKqpOK",
        "outputId": "26a0dde1-ffbd-4502-f243-b2b65a4cd31e",
        "colab": {
          "base_uri": "https://localhost:8080/",
          "height": 34
        }
      },
      "source": [
        "paste0(\"利用order()函數，選一種類型的資料出來，由小到大排序(decreasing = T)\")"
      ],
      "execution_count": 36,
      "outputs": [
        {
          "output_type": "display_data",
          "data": {
            "text/plain": [
              "[1] \"利用order()函數，選一種類型的資料出來，由小到大排序(decreasing = T)\""
            ],
            "text/latex": "'利用order()函數，選一種類型的資料出來，由小到大排序(decreasing = T)'",
            "text/markdown": "'利用order()函數，選一種類型的資料出來，由小到大排序(decreasing = T)'",
            "text/html": [
              "'利用order()函數，選一種類型的資料出來，由小到大排序(decreasing = T)'"
            ]
          },
          "metadata": {
            "tags": []
          }
        }
      ]
    },
    {
      "cell_type": "code",
      "metadata": {
        "id": "QksHYPDgikfE",
        "outputId": "a09c0de3-da4d-405a-c26a-3c8a42d013d4",
        "colab": {
          "base_uri": "https://localhost:8080/",
          "height": 1000
        }
      },
      "source": [
        "subset(NBA1718,Position==\"SF\")"
      ],
      "execution_count": 34,
      "outputs": [
        {
          "output_type": "display_data",
          "data": {
            "text/plain": [
              "    League Name             Team Position GamesPlayed TotalMinutesPlayed\n",
              "2   NBA    Quincy Acy       BRO  SF       70          1361              \n",
              "11  NBA    Al-farouq Aminu  POR  SF       69          2070              \n",
              "16  NBA    Gi Antetokounmpo MIL  SF       75          2760              \n",
              "17  NBA    Carmelo Anthony  OKL  SF       78          2502              \n",
              "18  NBA    Og Anunoby       TOR  SF       74          1479              \n",
              "20  NBA    Trevor Ariza     HOU  SF       67          2269              \n",
              "31  NBA    Harrison Barnes  DAL  SF       77          2637              \n",
              "36  NBA    Kent Bazemore    ATL  SF       65          1787              \n",
              "39  NBA    Michael Beasley  NYK  SF       73          1654              \n",
              "42  NBA    Deandre' Bembry  ATL  SF       26           453              \n",
              "44  NBA    Davis Bertans    SAN  SF       76          1085              \n",
              "55  NBA    Bojan Bogdanovic IND  SF       80          2463              \n",
              "66  NBA    Dillon Brooks    MEM  SF       82          2352              \n",
              "68  NBA    Anthony Brown    MIN  SF        1             4              \n",
              "74  NBA    Nicolas Brussino ATL  SF        3            10              \n",
              "76  NBA    Reggie Bullock   DET  SF       62          1730              \n",
              "79  NBA    Jimmy Butler     MIN  SF       59          2160              \n",
              "81  NBA    Bruno Caboclo    SAC  SF       12           107              \n",
              "86  NBA    Demarre Carroll  BRO  SF       73          2181              \n",
              "90  NBA    Omri Casspi      GSW  SF       53           740              \n",
              "95  NBA    Wilson Chandler  DEN  SF       74          2341              \n",
              "112 NBA    Matt Costello    SAN  SF        4            33              \n",
              "114 NBA    Robert Covington PHI  SF       80          2527              \n",
              "119 NBA    Jae Crowder      UTA  SF       80          2093              \n",
              "127 NBA    Sam Dekker       LAC  SF       73           881              \n",
              "130 NBA    Luol Deng        LAL  SF        1            13              \n",
              "142 NBA    Jared Dudley     PHO  SF       48           687              \n",
              "144 NBA    Kevin Durant     GSW  SF       68          2327              \n",
              "152 NBA    Jeremy Evans     ATL  SF        1             5              \n",
              "160 NBA    Terranc Ferguson OKL  SF       60           763              \n",
              "⋮   ⋮      ⋮                ⋮    ⋮        ⋮           ⋮                 \n",
              "339 NBA    Malcolm Miller   TOR  SF       14           127              \n",
              "358 NBA    Shabazz Muhammad MIL  SF       43           417              \n",
              "363 NBA    Abdel Nader      BOS  SF       47           522              \n",
              "368 NBA    Georges Niang    UTA  SF        9            33              \n",
              "377 NBA    Royce O'neale    UTA  SF       69          1145              \n",
              "385 NBA    Cedi Osman       CLE  SF       58           668              \n",
              "386 NBA    Kelly Oubre      WAS  SF       81          2232              \n",
              "392 NBA    Chandler Parsons MEM  SF       36           691              \n",
              "409 NBA    Otto Porter      WAS  SF       77          2428              \n",
              "414 NBA    Alex Poythress   IND  SF       24           103              \n",
              "415 NBA    Taurean Prince   ATL  SF       82          2466              \n",
              "416 NBA    Jacob Pullen     PHI  SF        3             6              \n",
              "431 NBA    Devin Robinson   WAS  SF        1            13              \n",
              "435 NBA    Terrence Ross    ORL  SF       24           598              \n",
              "440 NBA    Jakarr Sampson   SAC  SF       22           345              \n",
              "445 NBA    Thabo Sefolosha  UTA  SF       38           805              \n",
              "451 NBA    Ben Simmons      PHI  SF       81          2734              \n",
              "454 NBA    Kyle Singler     OKL  SF       12            60              \n",
              "469 NBA    Jayson Tatum     BOS  SF       80          2438              \n",
              "479 NBA    Lance Thomas     NYK  SF       73          1352              \n",
              "485 NBA    Pj Tucker        HOU  SF       82          2281              \n",
              "501 NBA    Derrick Walton   MIA  SF       16           145              \n",
              "503 NBA    Tj Warren        PHO  SF       65          2137              \n",
              "504 NBA    Travis Wear      LAL  SF       17           229              \n",
              "505 NBA    James Webb       BRO  SF       10           120              \n",
              "511 NBA    Andrew White_iii ATL  SF       15           208              \n",
              "515 NBA    Jacob Wiley      BRO  SF        5            33              \n",
              "523 NBA    Troy Williams    NYK  SF       21           307              \n",
              "525 NBA    Jamil Wilson     LAC  SF       15           273              \n",
              "526 NBA    Justise Winslow  MIA  SF       68          1679              \n",
              "    FieldGoalsMade FieldGoalsAttempted ThreesMade ThreesAttempted ⋯ Steals\n",
              "2   130             365                102        292             ⋯  34   \n",
              "11  230             582                125        339             ⋯  80   \n",
              "16  742            1402                 43        140             ⋯ 108   \n",
              "17  472            1169                169        474             ⋯  47   \n",
              "18  163             346                 73        197             ⋯  52   \n",
              "20  268             651                170        462             ⋯  98   \n",
              "31  537            1207                119        333             ⋯  50   \n",
              "36  284             676                108        274             ⋯ 100   \n",
              "39  409             805                 34         86             ⋯  36   \n",
              "42   53             128                 11         30             ⋯  21   \n",
              "44  161             365                 94        251             ⋯  27   \n",
              "55  404             852                155        386             ⋯  54   \n",
              "66  340             772                 94        264             ⋯  73   \n",
              "68    1               1                  1          1             ⋯   0   \n",
              "74    0               2                  0          2             ⋯   0   \n",
              "76  267             546                125        281             ⋯  47   \n",
              "79  437             921                 70        200             ⋯ 117   \n",
              "81    9              31                  3         17             ⋯   3   \n",
              "86  325             785                145        391             ⋯  59   \n",
              "90  120             207                 10         22             ⋯  18   \n",
              "95  281             632                 88        246             ⋯  43   \n",
              "112   2               4                  0          0             ⋯   2   \n",
              "114 345             835                203        549             ⋯ 137   \n",
              "119 271             671                110        341             ⋯  64   \n",
              "127 128             259                 10         60             ⋯  24   \n",
              "130   1               2                  0          0             ⋯   1   \n",
              "142  48             122                 29         80             ⋯  25   \n",
              "144 630            1221                173        413             ⋯  50   \n",
              "152   1               1                  0          0             ⋯   0   \n",
              "160  70             169                 40        120             ⋯  25   \n",
              "⋮   ⋮              ⋮                   ⋮          ⋮               ⋱ ⋮     \n",
              "339  13              28                  8         21             ⋯   1   \n",
              "358  84             188                  7         27             ⋯   9   \n",
              "363  50             149                 23         65             ⋯  15   \n",
              "368   4              11                  0          4             ⋯   2   \n",
              "377 120             285                 42        118             ⋯  36   \n",
              "385  90             186                 32         87             ⋯  22   \n",
              "386 318             790                126        369             ⋯  80   \n",
              "392 108             234                 51        121             ⋯  18   \n",
              "409 445             885                138        313             ⋯ 117   \n",
              "414  11              26                  4         11             ⋯   3   \n",
              "415 415             975                176        457             ⋯  84   \n",
              "416   1               2                  0          1             ⋯   0   \n",
              "431   1               3                  0          0             ⋯   1   \n",
              "435  76             191                 30         93             ⋯  27   \n",
              "440  44              81                  5         10             ⋯   8   \n",
              "445 118             240                 32         84             ⋯  51   \n",
              "451 544             999                  0         11             ⋯ 141   \n",
              "454   7              21                  2          5             ⋯   1   \n",
              "469 397             835                105        242             ⋯  83   \n",
              "479 102             267                 50        124             ⋯  30   \n",
              "485 172             441                115        310             ⋯  78   \n",
              "501   8              25                  7         17             ⋯   7   \n",
              "503 529            1063                 20         90             ⋯  65   \n",
              "504  25              72                 17         47             ⋯   4   \n",
              "505   6              24                  4         19             ⋯   1   \n",
              "511  25              73                 18         49             ⋯   3   \n",
              "515   1               4                  1          2             ⋯   1   \n",
              "523  51             109                 11         38             ⋯  20   \n",
              "525  38              81                 27         63             ⋯   5   \n",
              "526 207             487                 49        130             ⋯  53   \n",
              "    Turnovers Blocks PersonalFouls Disqualifications TotalPoints Technicals\n",
              "2    60        28    149           0                  411         4        \n",
              "11   79        39    136           0                  644         0        \n",
              "16  221       106    231           2                 2014         3        \n",
              "17  100        49    197           0                 1261        10        \n",
              "18   45        14    130           0                  438         0        \n",
              "20   54        13    132           0                  782         2        \n",
              "31  118        14     94           0                 1452         0        \n",
              "36  157        45    147           1                  836         7        \n",
              "39  143        43    145           2                  976         1        \n",
              "42   47        12     38           0                  136         0        \n",
              "44   36        29     93           0                  456         0        \n",
              "55  105         9    129           0                 1141         1        \n",
              "66  124        18    233           3                  898         4        \n",
              "68    0         0      0           0                    3         0        \n",
              "74    0         0      0           0                    0         0        \n",
              "76   48        13     70           0                  698         0        \n",
              "79  108        24     78           0                 1307         4        \n",
              "81    4         4      8           0                   26         0        \n",
              "86  103        31    163           2                  983         4        \n",
              "90   37        19     71           0                  300         1        \n",
              "95   92        39    156           2                  738         0        \n",
              "112   1         2      7           0                    4         0        \n",
              "114 129        72    238           1                 1009         1        \n",
              "119  74        21    187           0                  773         1        \n",
              "127  35         9     71           0                  303         1        \n",
              "130   1         0      0           0                    2         0        \n",
              "142  28        10     85           0                  152         1        \n",
              "144 208       119    133           0                 1792        12        \n",
              "152   1         0      1           0                    2         0        \n",
              "160  11        10     83           1                  189         1        \n",
              "⋮   ⋮         ⋮      ⋮             ⋮                 ⋮           ⋮         \n",
              "339   5        2      10           0                   38         0        \n",
              "358   6        3      30           0                  214         0        \n",
              "363  34       10      45           0                  146         0        \n",
              "368   3        0       1           0                    9         0        \n",
              "377  56       16     105           0                  343         0        \n",
              "385  32        3      78           0                  238         0        \n",
              "386  90       35     234           1                  953        10        \n",
              "392  35       11      53           0                  284         0        \n",
              "409  75       39     151           1                 1134         0        \n",
              "414   2        1      16           0                   26         0        \n",
              "415 191       42     168           1                 1158         3        \n",
              "416   1        0       0           0                    2         0        \n",
              "431   0        0       2           0                    2         0        \n",
              "435  29       12      45           0                  209         1        \n",
              "440   8       22      48           0                  103         0        \n",
              "445  30       12      59           0                  312         3        \n",
              "451 278       69     211           1                 1279         5        \n",
              "454   3        0       4           0                   23         0        \n",
              "469 116       58     170           0                 1112         1        \n",
              "479  41       14     134           1                  298         0        \n",
              "485  75       26     205           4                  502         7        \n",
              "501   2        3       7           0                   29         0        \n",
              "503  84       41     149           2                 1271         8        \n",
              "504   6        5      30           0                   75         0        \n",
              "505   4        0      10           0                   16         0        \n",
              "511   8        1      12           0                   69         0        \n",
              "515   0        0       4           0                    4         0        \n",
              "523  19        4      34           0                  133         0        \n",
              "525   8        8      34           1                  105         0        \n",
              "526  77       33     140           1                  529         3        \n",
              "    Ejections FlagrantFouls GamesStarted\n",
              "2   0         0              8          \n",
              "11  0         0             67          \n",
              "16  0         0             75          \n",
              "17  0         0             78          \n",
              "18  0         0             62          \n",
              "20  0         0             67          \n",
              "31  0         0             77          \n",
              "36  0         0             65          \n",
              "39  0         0             29          \n",
              "42  0         0              3          \n",
              "44  0         0             10          \n",
              "55  0         0             80          \n",
              "66  0         0             74          \n",
              "68  0         0              0          \n",
              "74  0         0              0          \n",
              "76  0         0             52          \n",
              "79  0         0             59          \n",
              "81  0         0              0          \n",
              "86  0         0             73          \n",
              "90  0         0              7          \n",
              "95  0         0             71          \n",
              "112 0         0              0          \n",
              "114 0         0             80          \n",
              "119 0         0             47          \n",
              "127 0         0              1          \n",
              "130 0         0              1          \n",
              "142 0         0              0          \n",
              "144 0         0             68          \n",
              "152 0         0              0          \n",
              "160 0         0             12          \n",
              "⋮   ⋮         ⋮             ⋮           \n",
              "339 0         0              4          \n",
              "358 0         0              2          \n",
              "363 0         0              1          \n",
              "368 0         0              0          \n",
              "377 0         0              4          \n",
              "385 0         0             12          \n",
              "386 0         0             11          \n",
              "392 0         0              8          \n",
              "409 0         0             77          \n",
              "414 0         0              0          \n",
              "415 0         0             82          \n",
              "416 0         0              0          \n",
              "431 0         0              0          \n",
              "435 0         0             20          \n",
              "440 0         0              6          \n",
              "445 0         0              6          \n",
              "451 0         0             81          \n",
              "454 0         0              0          \n",
              "469 0         0             80          \n",
              "479 0         0             31          \n",
              "485 0         0             34          \n",
              "501 0         0              0          \n",
              "503 0         0             65          \n",
              "504 0         0              0          \n",
              "505 0         0              0          \n",
              "511 0         0              0          \n",
              "515 0         0              0          \n",
              "523 0         0              1          \n",
              "525 0         0             10          \n",
              "526 0         0             25          "
            ],
            "text/latex": "A data.frame: 101 × 25\n\\begin{tabular}{r|lllllllllllllllllllll}\n  & League & Name & Team & Position & GamesPlayed & TotalMinutesPlayed & FieldGoalsMade & FieldGoalsAttempted & ThreesMade & ThreesAttempted & ⋯ & Steals & Turnovers & Blocks & PersonalFouls & Disqualifications & TotalPoints & Technicals & Ejections & FlagrantFouls & GamesStarted\\\\\n  & <fct> & <chr> & <fct> & <fct> & <int> & <int> & <int> & <int> & <int> & <int> & ⋯ & <int> & <int> & <int> & <int> & <int> & <int> & <int> & <int> & <int> & <int>\\\\\n\\hline\n\t2 & NBA & Quincy Acy       & BRO & SF & 70 & 1361 & 130 &  365 & 102 & 292 & ⋯ &  34 &  60 &  28 & 149 & 0 &  411 &  4 & 0 & 0 &  8\\\\\n\t11 & NBA & Al-farouq Aminu  & POR & SF & 69 & 2070 & 230 &  582 & 125 & 339 & ⋯ &  80 &  79 &  39 & 136 & 0 &  644 &  0 & 0 & 0 & 67\\\\\n\t16 & NBA & Gi Antetokounmpo & MIL & SF & 75 & 2760 & 742 & 1402 &  43 & 140 & ⋯ & 108 & 221 & 106 & 231 & 2 & 2014 &  3 & 0 & 0 & 75\\\\\n\t17 & NBA & Carmelo Anthony  & OKL & SF & 78 & 2502 & 472 & 1169 & 169 & 474 & ⋯ &  47 & 100 &  49 & 197 & 0 & 1261 & 10 & 0 & 0 & 78\\\\\n\t18 & NBA & Og Anunoby       & TOR & SF & 74 & 1479 & 163 &  346 &  73 & 197 & ⋯ &  52 &  45 &  14 & 130 & 0 &  438 &  0 & 0 & 0 & 62\\\\\n\t20 & NBA & Trevor Ariza     & HOU & SF & 67 & 2269 & 268 &  651 & 170 & 462 & ⋯ &  98 &  54 &  13 & 132 & 0 &  782 &  2 & 0 & 0 & 67\\\\\n\t31 & NBA & Harrison Barnes  & DAL & SF & 77 & 2637 & 537 & 1207 & 119 & 333 & ⋯ &  50 & 118 &  14 &  94 & 0 & 1452 &  0 & 0 & 0 & 77\\\\\n\t36 & NBA & Kent Bazemore    & ATL & SF & 65 & 1787 & 284 &  676 & 108 & 274 & ⋯ & 100 & 157 &  45 & 147 & 1 &  836 &  7 & 0 & 0 & 65\\\\\n\t39 & NBA & Michael Beasley  & NYK & SF & 73 & 1654 & 409 &  805 &  34 &  86 & ⋯ &  36 & 143 &  43 & 145 & 2 &  976 &  1 & 0 & 0 & 29\\\\\n\t42 & NBA & Deandre' Bembry  & ATL & SF & 26 &  453 &  53 &  128 &  11 &  30 & ⋯ &  21 &  47 &  12 &  38 & 0 &  136 &  0 & 0 & 0 &  3\\\\\n\t44 & NBA & Davis Bertans    & SAN & SF & 76 & 1085 & 161 &  365 &  94 & 251 & ⋯ &  27 &  36 &  29 &  93 & 0 &  456 &  0 & 0 & 0 & 10\\\\\n\t55 & NBA & Bojan Bogdanovic & IND & SF & 80 & 2463 & 404 &  852 & 155 & 386 & ⋯ &  54 & 105 &   9 & 129 & 0 & 1141 &  1 & 0 & 0 & 80\\\\\n\t66 & NBA & Dillon Brooks    & MEM & SF & 82 & 2352 & 340 &  772 &  94 & 264 & ⋯ &  73 & 124 &  18 & 233 & 3 &  898 &  4 & 0 & 0 & 74\\\\\n\t68 & NBA & Anthony Brown    & MIN & SF &  1 &    4 &   1 &    1 &   1 &   1 & ⋯ &   0 &   0 &   0 &   0 & 0 &    3 &  0 & 0 & 0 &  0\\\\\n\t74 & NBA & Nicolas Brussino & ATL & SF &  3 &   10 &   0 &    2 &   0 &   2 & ⋯ &   0 &   0 &   0 &   0 & 0 &    0 &  0 & 0 & 0 &  0\\\\\n\t76 & NBA & Reggie Bullock   & DET & SF & 62 & 1730 & 267 &  546 & 125 & 281 & ⋯ &  47 &  48 &  13 &  70 & 0 &  698 &  0 & 0 & 0 & 52\\\\\n\t79 & NBA & Jimmy Butler     & MIN & SF & 59 & 2160 & 437 &  921 &  70 & 200 & ⋯ & 117 & 108 &  24 &  78 & 0 & 1307 &  4 & 0 & 0 & 59\\\\\n\t81 & NBA & Bruno Caboclo    & SAC & SF & 12 &  107 &   9 &   31 &   3 &  17 & ⋯ &   3 &   4 &   4 &   8 & 0 &   26 &  0 & 0 & 0 &  0\\\\\n\t86 & NBA & Demarre Carroll  & BRO & SF & 73 & 2181 & 325 &  785 & 145 & 391 & ⋯ &  59 & 103 &  31 & 163 & 2 &  983 &  4 & 0 & 0 & 73\\\\\n\t90 & NBA & Omri Casspi      & GSW & SF & 53 &  740 & 120 &  207 &  10 &  22 & ⋯ &  18 &  37 &  19 &  71 & 0 &  300 &  1 & 0 & 0 &  7\\\\\n\t95 & NBA & Wilson Chandler  & DEN & SF & 74 & 2341 & 281 &  632 &  88 & 246 & ⋯ &  43 &  92 &  39 & 156 & 2 &  738 &  0 & 0 & 0 & 71\\\\\n\t112 & NBA & Matt Costello    & SAN & SF &  4 &   33 &   2 &    4 &   0 &   0 & ⋯ &   2 &   1 &   2 &   7 & 0 &    4 &  0 & 0 & 0 &  0\\\\\n\t114 & NBA & Robert Covington & PHI & SF & 80 & 2527 & 345 &  835 & 203 & 549 & ⋯ & 137 & 129 &  72 & 238 & 1 & 1009 &  1 & 0 & 0 & 80\\\\\n\t119 & NBA & Jae Crowder      & UTA & SF & 80 & 2093 & 271 &  671 & 110 & 341 & ⋯ &  64 &  74 &  21 & 187 & 0 &  773 &  1 & 0 & 0 & 47\\\\\n\t127 & NBA & Sam Dekker       & LAC & SF & 73 &  881 & 128 &  259 &  10 &  60 & ⋯ &  24 &  35 &   9 &  71 & 0 &  303 &  1 & 0 & 0 &  1\\\\\n\t130 & NBA & Luol Deng        & LAL & SF &  1 &   13 &   1 &    2 &   0 &   0 & ⋯ &   1 &   1 &   0 &   0 & 0 &    2 &  0 & 0 & 0 &  1\\\\\n\t142 & NBA & Jared Dudley     & PHO & SF & 48 &  687 &  48 &  122 &  29 &  80 & ⋯ &  25 &  28 &  10 &  85 & 0 &  152 &  1 & 0 & 0 &  0\\\\\n\t144 & NBA & Kevin Durant     & GSW & SF & 68 & 2327 & 630 & 1221 & 173 & 413 & ⋯ &  50 & 208 & 119 & 133 & 0 & 1792 & 12 & 0 & 0 & 68\\\\\n\t152 & NBA & Jeremy Evans     & ATL & SF &  1 &    5 &   1 &    1 &   0 &   0 & ⋯ &   0 &   1 &   0 &   1 & 0 &    2 &  0 & 0 & 0 &  0\\\\\n\t160 & NBA & Terranc Ferguson & OKL & SF & 60 &  763 &  70 &  169 &  40 & 120 & ⋯ &  25 &  11 &  10 &  83 & 1 &  189 &  1 & 0 & 0 & 12\\\\\n\t⋮ & ⋮ & ⋮ & ⋮ & ⋮ & ⋮ & ⋮ & ⋮ & ⋮ & ⋮ & ⋮ & ⋱ & ⋮ & ⋮ & ⋮ & ⋮ & ⋮ & ⋮ & ⋮ & ⋮ & ⋮ & ⋮\\\\\n\t339 & NBA & Malcolm Miller   & TOR & SF & 14 &  127 &  13 &   28 &   8 &  21 & ⋯ &   1 &   5 &  2 &  10 & 0 &   38 &  0 & 0 & 0 &  4\\\\\n\t358 & NBA & Shabazz Muhammad & MIL & SF & 43 &  417 &  84 &  188 &   7 &  27 & ⋯ &   9 &   6 &  3 &  30 & 0 &  214 &  0 & 0 & 0 &  2\\\\\n\t363 & NBA & Abdel Nader      & BOS & SF & 47 &  522 &  50 &  149 &  23 &  65 & ⋯ &  15 &  34 & 10 &  45 & 0 &  146 &  0 & 0 & 0 &  1\\\\\n\t368 & NBA & Georges Niang    & UTA & SF &  9 &   33 &   4 &   11 &   0 &   4 & ⋯ &   2 &   3 &  0 &   1 & 0 &    9 &  0 & 0 & 0 &  0\\\\\n\t377 & NBA & Royce O'neale    & UTA & SF & 69 & 1145 & 120 &  285 &  42 & 118 & ⋯ &  36 &  56 & 16 & 105 & 0 &  343 &  0 & 0 & 0 &  4\\\\\n\t385 & NBA & Cedi Osman       & CLE & SF & 58 &  668 &  90 &  186 &  32 &  87 & ⋯ &  22 &  32 &  3 &  78 & 0 &  238 &  0 & 0 & 0 & 12\\\\\n\t386 & NBA & Kelly Oubre      & WAS & SF & 81 & 2232 & 318 &  790 & 126 & 369 & ⋯ &  80 &  90 & 35 & 234 & 1 &  953 & 10 & 0 & 0 & 11\\\\\n\t392 & NBA & Chandler Parsons & MEM & SF & 36 &  691 & 108 &  234 &  51 & 121 & ⋯ &  18 &  35 & 11 &  53 & 0 &  284 &  0 & 0 & 0 &  8\\\\\n\t409 & NBA & Otto Porter      & WAS & SF & 77 & 2428 & 445 &  885 & 138 & 313 & ⋯ & 117 &  75 & 39 & 151 & 1 & 1134 &  0 & 0 & 0 & 77\\\\\n\t414 & NBA & Alex Poythress   & IND & SF & 24 &  103 &  11 &   26 &   4 &  11 & ⋯ &   3 &   2 &  1 &  16 & 0 &   26 &  0 & 0 & 0 &  0\\\\\n\t415 & NBA & Taurean Prince   & ATL & SF & 82 & 2466 & 415 &  975 & 176 & 457 & ⋯ &  84 & 191 & 42 & 168 & 1 & 1158 &  3 & 0 & 0 & 82\\\\\n\t416 & NBA & Jacob Pullen     & PHI & SF &  3 &    6 &   1 &    2 &   0 &   1 & ⋯ &   0 &   1 &  0 &   0 & 0 &    2 &  0 & 0 & 0 &  0\\\\\n\t431 & NBA & Devin Robinson   & WAS & SF &  1 &   13 &   1 &    3 &   0 &   0 & ⋯ &   1 &   0 &  0 &   2 & 0 &    2 &  0 & 0 & 0 &  0\\\\\n\t435 & NBA & Terrence Ross    & ORL & SF & 24 &  598 &  76 &  191 &  30 &  93 & ⋯ &  27 &  29 & 12 &  45 & 0 &  209 &  1 & 0 & 0 & 20\\\\\n\t440 & NBA & Jakarr Sampson   & SAC & SF & 22 &  345 &  44 &   81 &   5 &  10 & ⋯ &   8 &   8 & 22 &  48 & 0 &  103 &  0 & 0 & 0 &  6\\\\\n\t445 & NBA & Thabo Sefolosha  & UTA & SF & 38 &  805 & 118 &  240 &  32 &  84 & ⋯ &  51 &  30 & 12 &  59 & 0 &  312 &  3 & 0 & 0 &  6\\\\\n\t451 & NBA & Ben Simmons      & PHI & SF & 81 & 2734 & 544 &  999 &   0 &  11 & ⋯ & 141 & 278 & 69 & 211 & 1 & 1279 &  5 & 0 & 0 & 81\\\\\n\t454 & NBA & Kyle Singler     & OKL & SF & 12 &   60 &   7 &   21 &   2 &   5 & ⋯ &   1 &   3 &  0 &   4 & 0 &   23 &  0 & 0 & 0 &  0\\\\\n\t469 & NBA & Jayson Tatum     & BOS & SF & 80 & 2438 & 397 &  835 & 105 & 242 & ⋯ &  83 & 116 & 58 & 170 & 0 & 1112 &  1 & 0 & 0 & 80\\\\\n\t479 & NBA & Lance Thomas     & NYK & SF & 73 & 1352 & 102 &  267 &  50 & 124 & ⋯ &  30 &  41 & 14 & 134 & 1 &  298 &  0 & 0 & 0 & 31\\\\\n\t485 & NBA & Pj Tucker        & HOU & SF & 82 & 2281 & 172 &  441 & 115 & 310 & ⋯ &  78 &  75 & 26 & 205 & 4 &  502 &  7 & 0 & 0 & 34\\\\\n\t501 & NBA & Derrick Walton   & MIA & SF & 16 &  145 &   8 &   25 &   7 &  17 & ⋯ &   7 &   2 &  3 &   7 & 0 &   29 &  0 & 0 & 0 &  0\\\\\n\t503 & NBA & Tj Warren        & PHO & SF & 65 & 2137 & 529 & 1063 &  20 &  90 & ⋯ &  65 &  84 & 41 & 149 & 2 & 1271 &  8 & 0 & 0 & 65\\\\\n\t504 & NBA & Travis Wear      & LAL & SF & 17 &  229 &  25 &   72 &  17 &  47 & ⋯ &   4 &   6 &  5 &  30 & 0 &   75 &  0 & 0 & 0 &  0\\\\\n\t505 & NBA & James Webb       & BRO & SF & 10 &  120 &   6 &   24 &   4 &  19 & ⋯ &   1 &   4 &  0 &  10 & 0 &   16 &  0 & 0 & 0 &  0\\\\\n\t511 & NBA & Andrew White\\_iii & ATL & SF & 15 &  208 &  25 &   73 &  18 &  49 & ⋯ &   3 &   8 &  1 &  12 & 0 &   69 &  0 & 0 & 0 &  0\\\\\n\t515 & NBA & Jacob Wiley      & BRO & SF &  5 &   33 &   1 &    4 &   1 &   2 & ⋯ &   1 &   0 &  0 &   4 & 0 &    4 &  0 & 0 & 0 &  0\\\\\n\t523 & NBA & Troy Williams    & NYK & SF & 21 &  307 &  51 &  109 &  11 &  38 & ⋯ &  20 &  19 &  4 &  34 & 0 &  133 &  0 & 0 & 0 &  1\\\\\n\t525 & NBA & Jamil Wilson     & LAC & SF & 15 &  273 &  38 &   81 &  27 &  63 & ⋯ &   5 &   8 &  8 &  34 & 1 &  105 &  0 & 0 & 0 & 10\\\\\n\t526 & NBA & Justise Winslow  & MIA & SF & 68 & 1679 & 207 &  487 &  49 & 130 & ⋯ &  53 &  77 & 33 & 140 & 1 &  529 &  3 & 0 & 0 & 25\\\\\n\\end{tabular}\n",
            "text/markdown": "\nA data.frame: 101 × 25\n\n| <!--/--> | League &lt;fct&gt; | Name &lt;chr&gt; | Team &lt;fct&gt; | Position &lt;fct&gt; | GamesPlayed &lt;int&gt; | TotalMinutesPlayed &lt;int&gt; | FieldGoalsMade &lt;int&gt; | FieldGoalsAttempted &lt;int&gt; | ThreesMade &lt;int&gt; | ThreesAttempted &lt;int&gt; | ⋯ ⋯ | Steals &lt;int&gt; | Turnovers &lt;int&gt; | Blocks &lt;int&gt; | PersonalFouls &lt;int&gt; | Disqualifications &lt;int&gt; | TotalPoints &lt;int&gt; | Technicals &lt;int&gt; | Ejections &lt;int&gt; | FlagrantFouls &lt;int&gt; | GamesStarted &lt;int&gt; |\n|---|---|---|---|---|---|---|---|---|---|---|---|---|---|---|---|---|---|---|---|---|---|\n| 2 | NBA | Quincy Acy       | BRO | SF | 70 | 1361 | 130 |  365 | 102 | 292 | ⋯ |  34 |  60 |  28 | 149 | 0 |  411 |  4 | 0 | 0 |  8 |\n| 11 | NBA | Al-farouq Aminu  | POR | SF | 69 | 2070 | 230 |  582 | 125 | 339 | ⋯ |  80 |  79 |  39 | 136 | 0 |  644 |  0 | 0 | 0 | 67 |\n| 16 | NBA | Gi Antetokounmpo | MIL | SF | 75 | 2760 | 742 | 1402 |  43 | 140 | ⋯ | 108 | 221 | 106 | 231 | 2 | 2014 |  3 | 0 | 0 | 75 |\n| 17 | NBA | Carmelo Anthony  | OKL | SF | 78 | 2502 | 472 | 1169 | 169 | 474 | ⋯ |  47 | 100 |  49 | 197 | 0 | 1261 | 10 | 0 | 0 | 78 |\n| 18 | NBA | Og Anunoby       | TOR | SF | 74 | 1479 | 163 |  346 |  73 | 197 | ⋯ |  52 |  45 |  14 | 130 | 0 |  438 |  0 | 0 | 0 | 62 |\n| 20 | NBA | Trevor Ariza     | HOU | SF | 67 | 2269 | 268 |  651 | 170 | 462 | ⋯ |  98 |  54 |  13 | 132 | 0 |  782 |  2 | 0 | 0 | 67 |\n| 31 | NBA | Harrison Barnes  | DAL | SF | 77 | 2637 | 537 | 1207 | 119 | 333 | ⋯ |  50 | 118 |  14 |  94 | 0 | 1452 |  0 | 0 | 0 | 77 |\n| 36 | NBA | Kent Bazemore    | ATL | SF | 65 | 1787 | 284 |  676 | 108 | 274 | ⋯ | 100 | 157 |  45 | 147 | 1 |  836 |  7 | 0 | 0 | 65 |\n| 39 | NBA | Michael Beasley  | NYK | SF | 73 | 1654 | 409 |  805 |  34 |  86 | ⋯ |  36 | 143 |  43 | 145 | 2 |  976 |  1 | 0 | 0 | 29 |\n| 42 | NBA | Deandre' Bembry  | ATL | SF | 26 |  453 |  53 |  128 |  11 |  30 | ⋯ |  21 |  47 |  12 |  38 | 0 |  136 |  0 | 0 | 0 |  3 |\n| 44 | NBA | Davis Bertans    | SAN | SF | 76 | 1085 | 161 |  365 |  94 | 251 | ⋯ |  27 |  36 |  29 |  93 | 0 |  456 |  0 | 0 | 0 | 10 |\n| 55 | NBA | Bojan Bogdanovic | IND | SF | 80 | 2463 | 404 |  852 | 155 | 386 | ⋯ |  54 | 105 |   9 | 129 | 0 | 1141 |  1 | 0 | 0 | 80 |\n| 66 | NBA | Dillon Brooks    | MEM | SF | 82 | 2352 | 340 |  772 |  94 | 264 | ⋯ |  73 | 124 |  18 | 233 | 3 |  898 |  4 | 0 | 0 | 74 |\n| 68 | NBA | Anthony Brown    | MIN | SF |  1 |    4 |   1 |    1 |   1 |   1 | ⋯ |   0 |   0 |   0 |   0 | 0 |    3 |  0 | 0 | 0 |  0 |\n| 74 | NBA | Nicolas Brussino | ATL | SF |  3 |   10 |   0 |    2 |   0 |   2 | ⋯ |   0 |   0 |   0 |   0 | 0 |    0 |  0 | 0 | 0 |  0 |\n| 76 | NBA | Reggie Bullock   | DET | SF | 62 | 1730 | 267 |  546 | 125 | 281 | ⋯ |  47 |  48 |  13 |  70 | 0 |  698 |  0 | 0 | 0 | 52 |\n| 79 | NBA | Jimmy Butler     | MIN | SF | 59 | 2160 | 437 |  921 |  70 | 200 | ⋯ | 117 | 108 |  24 |  78 | 0 | 1307 |  4 | 0 | 0 | 59 |\n| 81 | NBA | Bruno Caboclo    | SAC | SF | 12 |  107 |   9 |   31 |   3 |  17 | ⋯ |   3 |   4 |   4 |   8 | 0 |   26 |  0 | 0 | 0 |  0 |\n| 86 | NBA | Demarre Carroll  | BRO | SF | 73 | 2181 | 325 |  785 | 145 | 391 | ⋯ |  59 | 103 |  31 | 163 | 2 |  983 |  4 | 0 | 0 | 73 |\n| 90 | NBA | Omri Casspi      | GSW | SF | 53 |  740 | 120 |  207 |  10 |  22 | ⋯ |  18 |  37 |  19 |  71 | 0 |  300 |  1 | 0 | 0 |  7 |\n| 95 | NBA | Wilson Chandler  | DEN | SF | 74 | 2341 | 281 |  632 |  88 | 246 | ⋯ |  43 |  92 |  39 | 156 | 2 |  738 |  0 | 0 | 0 | 71 |\n| 112 | NBA | Matt Costello    | SAN | SF |  4 |   33 |   2 |    4 |   0 |   0 | ⋯ |   2 |   1 |   2 |   7 | 0 |    4 |  0 | 0 | 0 |  0 |\n| 114 | NBA | Robert Covington | PHI | SF | 80 | 2527 | 345 |  835 | 203 | 549 | ⋯ | 137 | 129 |  72 | 238 | 1 | 1009 |  1 | 0 | 0 | 80 |\n| 119 | NBA | Jae Crowder      | UTA | SF | 80 | 2093 | 271 |  671 | 110 | 341 | ⋯ |  64 |  74 |  21 | 187 | 0 |  773 |  1 | 0 | 0 | 47 |\n| 127 | NBA | Sam Dekker       | LAC | SF | 73 |  881 | 128 |  259 |  10 |  60 | ⋯ |  24 |  35 |   9 |  71 | 0 |  303 |  1 | 0 | 0 |  1 |\n| 130 | NBA | Luol Deng        | LAL | SF |  1 |   13 |   1 |    2 |   0 |   0 | ⋯ |   1 |   1 |   0 |   0 | 0 |    2 |  0 | 0 | 0 |  1 |\n| 142 | NBA | Jared Dudley     | PHO | SF | 48 |  687 |  48 |  122 |  29 |  80 | ⋯ |  25 |  28 |  10 |  85 | 0 |  152 |  1 | 0 | 0 |  0 |\n| 144 | NBA | Kevin Durant     | GSW | SF | 68 | 2327 | 630 | 1221 | 173 | 413 | ⋯ |  50 | 208 | 119 | 133 | 0 | 1792 | 12 | 0 | 0 | 68 |\n| 152 | NBA | Jeremy Evans     | ATL | SF |  1 |    5 |   1 |    1 |   0 |   0 | ⋯ |   0 |   1 |   0 |   1 | 0 |    2 |  0 | 0 | 0 |  0 |\n| 160 | NBA | Terranc Ferguson | OKL | SF | 60 |  763 |  70 |  169 |  40 | 120 | ⋯ |  25 |  11 |  10 |  83 | 1 |  189 |  1 | 0 | 0 | 12 |\n| ⋮ | ⋮ | ⋮ | ⋮ | ⋮ | ⋮ | ⋮ | ⋮ | ⋮ | ⋮ | ⋮ | ⋱ | ⋮ | ⋮ | ⋮ | ⋮ | ⋮ | ⋮ | ⋮ | ⋮ | ⋮ | ⋮ |\n| 339 | NBA | Malcolm Miller   | TOR | SF | 14 |  127 |  13 |   28 |   8 |  21 | ⋯ |   1 |   5 |  2 |  10 | 0 |   38 |  0 | 0 | 0 |  4 |\n| 358 | NBA | Shabazz Muhammad | MIL | SF | 43 |  417 |  84 |  188 |   7 |  27 | ⋯ |   9 |   6 |  3 |  30 | 0 |  214 |  0 | 0 | 0 |  2 |\n| 363 | NBA | Abdel Nader      | BOS | SF | 47 |  522 |  50 |  149 |  23 |  65 | ⋯ |  15 |  34 | 10 |  45 | 0 |  146 |  0 | 0 | 0 |  1 |\n| 368 | NBA | Georges Niang    | UTA | SF |  9 |   33 |   4 |   11 |   0 |   4 | ⋯ |   2 |   3 |  0 |   1 | 0 |    9 |  0 | 0 | 0 |  0 |\n| 377 | NBA | Royce O'neale    | UTA | SF | 69 | 1145 | 120 |  285 |  42 | 118 | ⋯ |  36 |  56 | 16 | 105 | 0 |  343 |  0 | 0 | 0 |  4 |\n| 385 | NBA | Cedi Osman       | CLE | SF | 58 |  668 |  90 |  186 |  32 |  87 | ⋯ |  22 |  32 |  3 |  78 | 0 |  238 |  0 | 0 | 0 | 12 |\n| 386 | NBA | Kelly Oubre      | WAS | SF | 81 | 2232 | 318 |  790 | 126 | 369 | ⋯ |  80 |  90 | 35 | 234 | 1 |  953 | 10 | 0 | 0 | 11 |\n| 392 | NBA | Chandler Parsons | MEM | SF | 36 |  691 | 108 |  234 |  51 | 121 | ⋯ |  18 |  35 | 11 |  53 | 0 |  284 |  0 | 0 | 0 |  8 |\n| 409 | NBA | Otto Porter      | WAS | SF | 77 | 2428 | 445 |  885 | 138 | 313 | ⋯ | 117 |  75 | 39 | 151 | 1 | 1134 |  0 | 0 | 0 | 77 |\n| 414 | NBA | Alex Poythress   | IND | SF | 24 |  103 |  11 |   26 |   4 |  11 | ⋯ |   3 |   2 |  1 |  16 | 0 |   26 |  0 | 0 | 0 |  0 |\n| 415 | NBA | Taurean Prince   | ATL | SF | 82 | 2466 | 415 |  975 | 176 | 457 | ⋯ |  84 | 191 | 42 | 168 | 1 | 1158 |  3 | 0 | 0 | 82 |\n| 416 | NBA | Jacob Pullen     | PHI | SF |  3 |    6 |   1 |    2 |   0 |   1 | ⋯ |   0 |   1 |  0 |   0 | 0 |    2 |  0 | 0 | 0 |  0 |\n| 431 | NBA | Devin Robinson   | WAS | SF |  1 |   13 |   1 |    3 |   0 |   0 | ⋯ |   1 |   0 |  0 |   2 | 0 |    2 |  0 | 0 | 0 |  0 |\n| 435 | NBA | Terrence Ross    | ORL | SF | 24 |  598 |  76 |  191 |  30 |  93 | ⋯ |  27 |  29 | 12 |  45 | 0 |  209 |  1 | 0 | 0 | 20 |\n| 440 | NBA | Jakarr Sampson   | SAC | SF | 22 |  345 |  44 |   81 |   5 |  10 | ⋯ |   8 |   8 | 22 |  48 | 0 |  103 |  0 | 0 | 0 |  6 |\n| 445 | NBA | Thabo Sefolosha  | UTA | SF | 38 |  805 | 118 |  240 |  32 |  84 | ⋯ |  51 |  30 | 12 |  59 | 0 |  312 |  3 | 0 | 0 |  6 |\n| 451 | NBA | Ben Simmons      | PHI | SF | 81 | 2734 | 544 |  999 |   0 |  11 | ⋯ | 141 | 278 | 69 | 211 | 1 | 1279 |  5 | 0 | 0 | 81 |\n| 454 | NBA | Kyle Singler     | OKL | SF | 12 |   60 |   7 |   21 |   2 |   5 | ⋯ |   1 |   3 |  0 |   4 | 0 |   23 |  0 | 0 | 0 |  0 |\n| 469 | NBA | Jayson Tatum     | BOS | SF | 80 | 2438 | 397 |  835 | 105 | 242 | ⋯ |  83 | 116 | 58 | 170 | 0 | 1112 |  1 | 0 | 0 | 80 |\n| 479 | NBA | Lance Thomas     | NYK | SF | 73 | 1352 | 102 |  267 |  50 | 124 | ⋯ |  30 |  41 | 14 | 134 | 1 |  298 |  0 | 0 | 0 | 31 |\n| 485 | NBA | Pj Tucker        | HOU | SF | 82 | 2281 | 172 |  441 | 115 | 310 | ⋯ |  78 |  75 | 26 | 205 | 4 |  502 |  7 | 0 | 0 | 34 |\n| 501 | NBA | Derrick Walton   | MIA | SF | 16 |  145 |   8 |   25 |   7 |  17 | ⋯ |   7 |   2 |  3 |   7 | 0 |   29 |  0 | 0 | 0 |  0 |\n| 503 | NBA | Tj Warren        | PHO | SF | 65 | 2137 | 529 | 1063 |  20 |  90 | ⋯ |  65 |  84 | 41 | 149 | 2 | 1271 |  8 | 0 | 0 | 65 |\n| 504 | NBA | Travis Wear      | LAL | SF | 17 |  229 |  25 |   72 |  17 |  47 | ⋯ |   4 |   6 |  5 |  30 | 0 |   75 |  0 | 0 | 0 |  0 |\n| 505 | NBA | James Webb       | BRO | SF | 10 |  120 |   6 |   24 |   4 |  19 | ⋯ |   1 |   4 |  0 |  10 | 0 |   16 |  0 | 0 | 0 |  0 |\n| 511 | NBA | Andrew White_iii | ATL | SF | 15 |  208 |  25 |   73 |  18 |  49 | ⋯ |   3 |   8 |  1 |  12 | 0 |   69 |  0 | 0 | 0 |  0 |\n| 515 | NBA | Jacob Wiley      | BRO | SF |  5 |   33 |   1 |    4 |   1 |   2 | ⋯ |   1 |   0 |  0 |   4 | 0 |    4 |  0 | 0 | 0 |  0 |\n| 523 | NBA | Troy Williams    | NYK | SF | 21 |  307 |  51 |  109 |  11 |  38 | ⋯ |  20 |  19 |  4 |  34 | 0 |  133 |  0 | 0 | 0 |  1 |\n| 525 | NBA | Jamil Wilson     | LAC | SF | 15 |  273 |  38 |   81 |  27 |  63 | ⋯ |   5 |   8 |  8 |  34 | 1 |  105 |  0 | 0 | 0 | 10 |\n| 526 | NBA | Justise Winslow  | MIA | SF | 68 | 1679 | 207 |  487 |  49 | 130 | ⋯ |  53 |  77 | 33 | 140 | 1 |  529 |  3 | 0 | 0 | 25 |\n\n",
            "text/html": [
              "<table>\n",
              "<caption>A data.frame: 101 × 25</caption>\n",
              "<thead>\n",
              "\t<tr><th></th><th scope=col>League</th><th scope=col>Name</th><th scope=col>Team</th><th scope=col>Position</th><th scope=col>GamesPlayed</th><th scope=col>TotalMinutesPlayed</th><th scope=col>FieldGoalsMade</th><th scope=col>FieldGoalsAttempted</th><th scope=col>ThreesMade</th><th scope=col>ThreesAttempted</th><th scope=col>⋯</th><th scope=col>Steals</th><th scope=col>Turnovers</th><th scope=col>Blocks</th><th scope=col>PersonalFouls</th><th scope=col>Disqualifications</th><th scope=col>TotalPoints</th><th scope=col>Technicals</th><th scope=col>Ejections</th><th scope=col>FlagrantFouls</th><th scope=col>GamesStarted</th></tr>\n",
              "\t<tr><th></th><th scope=col>&lt;fct&gt;</th><th scope=col>&lt;chr&gt;</th><th scope=col>&lt;fct&gt;</th><th scope=col>&lt;fct&gt;</th><th scope=col>&lt;int&gt;</th><th scope=col>&lt;int&gt;</th><th scope=col>&lt;int&gt;</th><th scope=col>&lt;int&gt;</th><th scope=col>&lt;int&gt;</th><th scope=col>&lt;int&gt;</th><th scope=col>⋯</th><th scope=col>&lt;int&gt;</th><th scope=col>&lt;int&gt;</th><th scope=col>&lt;int&gt;</th><th scope=col>&lt;int&gt;</th><th scope=col>&lt;int&gt;</th><th scope=col>&lt;int&gt;</th><th scope=col>&lt;int&gt;</th><th scope=col>&lt;int&gt;</th><th scope=col>&lt;int&gt;</th><th scope=col>&lt;int&gt;</th></tr>\n",
              "</thead>\n",
              "<tbody>\n",
              "\t<tr><th scope=row>2</th><td>NBA</td><td>Quincy Acy      </td><td>BRO</td><td>SF</td><td>70</td><td>1361</td><td>130</td><td> 365</td><td>102</td><td>292</td><td>⋯</td><td> 34</td><td> 60</td><td> 28</td><td>149</td><td>0</td><td> 411</td><td> 4</td><td>0</td><td>0</td><td> 8</td></tr>\n",
              "\t<tr><th scope=row>11</th><td>NBA</td><td>Al-farouq Aminu </td><td>POR</td><td>SF</td><td>69</td><td>2070</td><td>230</td><td> 582</td><td>125</td><td>339</td><td>⋯</td><td> 80</td><td> 79</td><td> 39</td><td>136</td><td>0</td><td> 644</td><td> 0</td><td>0</td><td>0</td><td>67</td></tr>\n",
              "\t<tr><th scope=row>16</th><td>NBA</td><td>Gi Antetokounmpo</td><td>MIL</td><td>SF</td><td>75</td><td>2760</td><td>742</td><td>1402</td><td> 43</td><td>140</td><td>⋯</td><td>108</td><td>221</td><td>106</td><td>231</td><td>2</td><td>2014</td><td> 3</td><td>0</td><td>0</td><td>75</td></tr>\n",
              "\t<tr><th scope=row>17</th><td>NBA</td><td>Carmelo Anthony </td><td>OKL</td><td>SF</td><td>78</td><td>2502</td><td>472</td><td>1169</td><td>169</td><td>474</td><td>⋯</td><td> 47</td><td>100</td><td> 49</td><td>197</td><td>0</td><td>1261</td><td>10</td><td>0</td><td>0</td><td>78</td></tr>\n",
              "\t<tr><th scope=row>18</th><td>NBA</td><td>Og Anunoby      </td><td>TOR</td><td>SF</td><td>74</td><td>1479</td><td>163</td><td> 346</td><td> 73</td><td>197</td><td>⋯</td><td> 52</td><td> 45</td><td> 14</td><td>130</td><td>0</td><td> 438</td><td> 0</td><td>0</td><td>0</td><td>62</td></tr>\n",
              "\t<tr><th scope=row>20</th><td>NBA</td><td>Trevor Ariza    </td><td>HOU</td><td>SF</td><td>67</td><td>2269</td><td>268</td><td> 651</td><td>170</td><td>462</td><td>⋯</td><td> 98</td><td> 54</td><td> 13</td><td>132</td><td>0</td><td> 782</td><td> 2</td><td>0</td><td>0</td><td>67</td></tr>\n",
              "\t<tr><th scope=row>31</th><td>NBA</td><td>Harrison Barnes </td><td>DAL</td><td>SF</td><td>77</td><td>2637</td><td>537</td><td>1207</td><td>119</td><td>333</td><td>⋯</td><td> 50</td><td>118</td><td> 14</td><td> 94</td><td>0</td><td>1452</td><td> 0</td><td>0</td><td>0</td><td>77</td></tr>\n",
              "\t<tr><th scope=row>36</th><td>NBA</td><td>Kent Bazemore   </td><td>ATL</td><td>SF</td><td>65</td><td>1787</td><td>284</td><td> 676</td><td>108</td><td>274</td><td>⋯</td><td>100</td><td>157</td><td> 45</td><td>147</td><td>1</td><td> 836</td><td> 7</td><td>0</td><td>0</td><td>65</td></tr>\n",
              "\t<tr><th scope=row>39</th><td>NBA</td><td>Michael Beasley </td><td>NYK</td><td>SF</td><td>73</td><td>1654</td><td>409</td><td> 805</td><td> 34</td><td> 86</td><td>⋯</td><td> 36</td><td>143</td><td> 43</td><td>145</td><td>2</td><td> 976</td><td> 1</td><td>0</td><td>0</td><td>29</td></tr>\n",
              "\t<tr><th scope=row>42</th><td>NBA</td><td>Deandre' Bembry </td><td>ATL</td><td>SF</td><td>26</td><td> 453</td><td> 53</td><td> 128</td><td> 11</td><td> 30</td><td>⋯</td><td> 21</td><td> 47</td><td> 12</td><td> 38</td><td>0</td><td> 136</td><td> 0</td><td>0</td><td>0</td><td> 3</td></tr>\n",
              "\t<tr><th scope=row>44</th><td>NBA</td><td>Davis Bertans   </td><td>SAN</td><td>SF</td><td>76</td><td>1085</td><td>161</td><td> 365</td><td> 94</td><td>251</td><td>⋯</td><td> 27</td><td> 36</td><td> 29</td><td> 93</td><td>0</td><td> 456</td><td> 0</td><td>0</td><td>0</td><td>10</td></tr>\n",
              "\t<tr><th scope=row>55</th><td>NBA</td><td>Bojan Bogdanovic</td><td>IND</td><td>SF</td><td>80</td><td>2463</td><td>404</td><td> 852</td><td>155</td><td>386</td><td>⋯</td><td> 54</td><td>105</td><td>  9</td><td>129</td><td>0</td><td>1141</td><td> 1</td><td>0</td><td>0</td><td>80</td></tr>\n",
              "\t<tr><th scope=row>66</th><td>NBA</td><td>Dillon Brooks   </td><td>MEM</td><td>SF</td><td>82</td><td>2352</td><td>340</td><td> 772</td><td> 94</td><td>264</td><td>⋯</td><td> 73</td><td>124</td><td> 18</td><td>233</td><td>3</td><td> 898</td><td> 4</td><td>0</td><td>0</td><td>74</td></tr>\n",
              "\t<tr><th scope=row>68</th><td>NBA</td><td>Anthony Brown   </td><td>MIN</td><td>SF</td><td> 1</td><td>   4</td><td>  1</td><td>   1</td><td>  1</td><td>  1</td><td>⋯</td><td>  0</td><td>  0</td><td>  0</td><td>  0</td><td>0</td><td>   3</td><td> 0</td><td>0</td><td>0</td><td> 0</td></tr>\n",
              "\t<tr><th scope=row>74</th><td>NBA</td><td>Nicolas Brussino</td><td>ATL</td><td>SF</td><td> 3</td><td>  10</td><td>  0</td><td>   2</td><td>  0</td><td>  2</td><td>⋯</td><td>  0</td><td>  0</td><td>  0</td><td>  0</td><td>0</td><td>   0</td><td> 0</td><td>0</td><td>0</td><td> 0</td></tr>\n",
              "\t<tr><th scope=row>76</th><td>NBA</td><td>Reggie Bullock  </td><td>DET</td><td>SF</td><td>62</td><td>1730</td><td>267</td><td> 546</td><td>125</td><td>281</td><td>⋯</td><td> 47</td><td> 48</td><td> 13</td><td> 70</td><td>0</td><td> 698</td><td> 0</td><td>0</td><td>0</td><td>52</td></tr>\n",
              "\t<tr><th scope=row>79</th><td>NBA</td><td>Jimmy Butler    </td><td>MIN</td><td>SF</td><td>59</td><td>2160</td><td>437</td><td> 921</td><td> 70</td><td>200</td><td>⋯</td><td>117</td><td>108</td><td> 24</td><td> 78</td><td>0</td><td>1307</td><td> 4</td><td>0</td><td>0</td><td>59</td></tr>\n",
              "\t<tr><th scope=row>81</th><td>NBA</td><td>Bruno Caboclo   </td><td>SAC</td><td>SF</td><td>12</td><td> 107</td><td>  9</td><td>  31</td><td>  3</td><td> 17</td><td>⋯</td><td>  3</td><td>  4</td><td>  4</td><td>  8</td><td>0</td><td>  26</td><td> 0</td><td>0</td><td>0</td><td> 0</td></tr>\n",
              "\t<tr><th scope=row>86</th><td>NBA</td><td>Demarre Carroll </td><td>BRO</td><td>SF</td><td>73</td><td>2181</td><td>325</td><td> 785</td><td>145</td><td>391</td><td>⋯</td><td> 59</td><td>103</td><td> 31</td><td>163</td><td>2</td><td> 983</td><td> 4</td><td>0</td><td>0</td><td>73</td></tr>\n",
              "\t<tr><th scope=row>90</th><td>NBA</td><td>Omri Casspi     </td><td>GSW</td><td>SF</td><td>53</td><td> 740</td><td>120</td><td> 207</td><td> 10</td><td> 22</td><td>⋯</td><td> 18</td><td> 37</td><td> 19</td><td> 71</td><td>0</td><td> 300</td><td> 1</td><td>0</td><td>0</td><td> 7</td></tr>\n",
              "\t<tr><th scope=row>95</th><td>NBA</td><td>Wilson Chandler </td><td>DEN</td><td>SF</td><td>74</td><td>2341</td><td>281</td><td> 632</td><td> 88</td><td>246</td><td>⋯</td><td> 43</td><td> 92</td><td> 39</td><td>156</td><td>2</td><td> 738</td><td> 0</td><td>0</td><td>0</td><td>71</td></tr>\n",
              "\t<tr><th scope=row>112</th><td>NBA</td><td>Matt Costello   </td><td>SAN</td><td>SF</td><td> 4</td><td>  33</td><td>  2</td><td>   4</td><td>  0</td><td>  0</td><td>⋯</td><td>  2</td><td>  1</td><td>  2</td><td>  7</td><td>0</td><td>   4</td><td> 0</td><td>0</td><td>0</td><td> 0</td></tr>\n",
              "\t<tr><th scope=row>114</th><td>NBA</td><td>Robert Covington</td><td>PHI</td><td>SF</td><td>80</td><td>2527</td><td>345</td><td> 835</td><td>203</td><td>549</td><td>⋯</td><td>137</td><td>129</td><td> 72</td><td>238</td><td>1</td><td>1009</td><td> 1</td><td>0</td><td>0</td><td>80</td></tr>\n",
              "\t<tr><th scope=row>119</th><td>NBA</td><td>Jae Crowder     </td><td>UTA</td><td>SF</td><td>80</td><td>2093</td><td>271</td><td> 671</td><td>110</td><td>341</td><td>⋯</td><td> 64</td><td> 74</td><td> 21</td><td>187</td><td>0</td><td> 773</td><td> 1</td><td>0</td><td>0</td><td>47</td></tr>\n",
              "\t<tr><th scope=row>127</th><td>NBA</td><td>Sam Dekker      </td><td>LAC</td><td>SF</td><td>73</td><td> 881</td><td>128</td><td> 259</td><td> 10</td><td> 60</td><td>⋯</td><td> 24</td><td> 35</td><td>  9</td><td> 71</td><td>0</td><td> 303</td><td> 1</td><td>0</td><td>0</td><td> 1</td></tr>\n",
              "\t<tr><th scope=row>130</th><td>NBA</td><td>Luol Deng       </td><td>LAL</td><td>SF</td><td> 1</td><td>  13</td><td>  1</td><td>   2</td><td>  0</td><td>  0</td><td>⋯</td><td>  1</td><td>  1</td><td>  0</td><td>  0</td><td>0</td><td>   2</td><td> 0</td><td>0</td><td>0</td><td> 1</td></tr>\n",
              "\t<tr><th scope=row>142</th><td>NBA</td><td>Jared Dudley    </td><td>PHO</td><td>SF</td><td>48</td><td> 687</td><td> 48</td><td> 122</td><td> 29</td><td> 80</td><td>⋯</td><td> 25</td><td> 28</td><td> 10</td><td> 85</td><td>0</td><td> 152</td><td> 1</td><td>0</td><td>0</td><td> 0</td></tr>\n",
              "\t<tr><th scope=row>144</th><td>NBA</td><td>Kevin Durant    </td><td>GSW</td><td>SF</td><td>68</td><td>2327</td><td>630</td><td>1221</td><td>173</td><td>413</td><td>⋯</td><td> 50</td><td>208</td><td>119</td><td>133</td><td>0</td><td>1792</td><td>12</td><td>0</td><td>0</td><td>68</td></tr>\n",
              "\t<tr><th scope=row>152</th><td>NBA</td><td>Jeremy Evans    </td><td>ATL</td><td>SF</td><td> 1</td><td>   5</td><td>  1</td><td>   1</td><td>  0</td><td>  0</td><td>⋯</td><td>  0</td><td>  1</td><td>  0</td><td>  1</td><td>0</td><td>   2</td><td> 0</td><td>0</td><td>0</td><td> 0</td></tr>\n",
              "\t<tr><th scope=row>160</th><td>NBA</td><td>Terranc Ferguson</td><td>OKL</td><td>SF</td><td>60</td><td> 763</td><td> 70</td><td> 169</td><td> 40</td><td>120</td><td>⋯</td><td> 25</td><td> 11</td><td> 10</td><td> 83</td><td>1</td><td> 189</td><td> 1</td><td>0</td><td>0</td><td>12</td></tr>\n",
              "\t<tr><th scope=row>⋮</th><td>⋮</td><td>⋮</td><td>⋮</td><td>⋮</td><td>⋮</td><td>⋮</td><td>⋮</td><td>⋮</td><td>⋮</td><td>⋮</td><td>⋱</td><td>⋮</td><td>⋮</td><td>⋮</td><td>⋮</td><td>⋮</td><td>⋮</td><td>⋮</td><td>⋮</td><td>⋮</td><td>⋮</td></tr>\n",
              "\t<tr><th scope=row>339</th><td>NBA</td><td>Malcolm Miller  </td><td>TOR</td><td>SF</td><td>14</td><td> 127</td><td> 13</td><td>  28</td><td>  8</td><td> 21</td><td>⋯</td><td>  1</td><td>  5</td><td> 2</td><td> 10</td><td>0</td><td>  38</td><td> 0</td><td>0</td><td>0</td><td> 4</td></tr>\n",
              "\t<tr><th scope=row>358</th><td>NBA</td><td>Shabazz Muhammad</td><td>MIL</td><td>SF</td><td>43</td><td> 417</td><td> 84</td><td> 188</td><td>  7</td><td> 27</td><td>⋯</td><td>  9</td><td>  6</td><td> 3</td><td> 30</td><td>0</td><td> 214</td><td> 0</td><td>0</td><td>0</td><td> 2</td></tr>\n",
              "\t<tr><th scope=row>363</th><td>NBA</td><td>Abdel Nader     </td><td>BOS</td><td>SF</td><td>47</td><td> 522</td><td> 50</td><td> 149</td><td> 23</td><td> 65</td><td>⋯</td><td> 15</td><td> 34</td><td>10</td><td> 45</td><td>0</td><td> 146</td><td> 0</td><td>0</td><td>0</td><td> 1</td></tr>\n",
              "\t<tr><th scope=row>368</th><td>NBA</td><td>Georges Niang   </td><td>UTA</td><td>SF</td><td> 9</td><td>  33</td><td>  4</td><td>  11</td><td>  0</td><td>  4</td><td>⋯</td><td>  2</td><td>  3</td><td> 0</td><td>  1</td><td>0</td><td>   9</td><td> 0</td><td>0</td><td>0</td><td> 0</td></tr>\n",
              "\t<tr><th scope=row>377</th><td>NBA</td><td>Royce O'neale   </td><td>UTA</td><td>SF</td><td>69</td><td>1145</td><td>120</td><td> 285</td><td> 42</td><td>118</td><td>⋯</td><td> 36</td><td> 56</td><td>16</td><td>105</td><td>0</td><td> 343</td><td> 0</td><td>0</td><td>0</td><td> 4</td></tr>\n",
              "\t<tr><th scope=row>385</th><td>NBA</td><td>Cedi Osman      </td><td>CLE</td><td>SF</td><td>58</td><td> 668</td><td> 90</td><td> 186</td><td> 32</td><td> 87</td><td>⋯</td><td> 22</td><td> 32</td><td> 3</td><td> 78</td><td>0</td><td> 238</td><td> 0</td><td>0</td><td>0</td><td>12</td></tr>\n",
              "\t<tr><th scope=row>386</th><td>NBA</td><td>Kelly Oubre     </td><td>WAS</td><td>SF</td><td>81</td><td>2232</td><td>318</td><td> 790</td><td>126</td><td>369</td><td>⋯</td><td> 80</td><td> 90</td><td>35</td><td>234</td><td>1</td><td> 953</td><td>10</td><td>0</td><td>0</td><td>11</td></tr>\n",
              "\t<tr><th scope=row>392</th><td>NBA</td><td>Chandler Parsons</td><td>MEM</td><td>SF</td><td>36</td><td> 691</td><td>108</td><td> 234</td><td> 51</td><td>121</td><td>⋯</td><td> 18</td><td> 35</td><td>11</td><td> 53</td><td>0</td><td> 284</td><td> 0</td><td>0</td><td>0</td><td> 8</td></tr>\n",
              "\t<tr><th scope=row>409</th><td>NBA</td><td>Otto Porter     </td><td>WAS</td><td>SF</td><td>77</td><td>2428</td><td>445</td><td> 885</td><td>138</td><td>313</td><td>⋯</td><td>117</td><td> 75</td><td>39</td><td>151</td><td>1</td><td>1134</td><td> 0</td><td>0</td><td>0</td><td>77</td></tr>\n",
              "\t<tr><th scope=row>414</th><td>NBA</td><td>Alex Poythress  </td><td>IND</td><td>SF</td><td>24</td><td> 103</td><td> 11</td><td>  26</td><td>  4</td><td> 11</td><td>⋯</td><td>  3</td><td>  2</td><td> 1</td><td> 16</td><td>0</td><td>  26</td><td> 0</td><td>0</td><td>0</td><td> 0</td></tr>\n",
              "\t<tr><th scope=row>415</th><td>NBA</td><td>Taurean Prince  </td><td>ATL</td><td>SF</td><td>82</td><td>2466</td><td>415</td><td> 975</td><td>176</td><td>457</td><td>⋯</td><td> 84</td><td>191</td><td>42</td><td>168</td><td>1</td><td>1158</td><td> 3</td><td>0</td><td>0</td><td>82</td></tr>\n",
              "\t<tr><th scope=row>416</th><td>NBA</td><td>Jacob Pullen    </td><td>PHI</td><td>SF</td><td> 3</td><td>   6</td><td>  1</td><td>   2</td><td>  0</td><td>  1</td><td>⋯</td><td>  0</td><td>  1</td><td> 0</td><td>  0</td><td>0</td><td>   2</td><td> 0</td><td>0</td><td>0</td><td> 0</td></tr>\n",
              "\t<tr><th scope=row>431</th><td>NBA</td><td>Devin Robinson  </td><td>WAS</td><td>SF</td><td> 1</td><td>  13</td><td>  1</td><td>   3</td><td>  0</td><td>  0</td><td>⋯</td><td>  1</td><td>  0</td><td> 0</td><td>  2</td><td>0</td><td>   2</td><td> 0</td><td>0</td><td>0</td><td> 0</td></tr>\n",
              "\t<tr><th scope=row>435</th><td>NBA</td><td>Terrence Ross   </td><td>ORL</td><td>SF</td><td>24</td><td> 598</td><td> 76</td><td> 191</td><td> 30</td><td> 93</td><td>⋯</td><td> 27</td><td> 29</td><td>12</td><td> 45</td><td>0</td><td> 209</td><td> 1</td><td>0</td><td>0</td><td>20</td></tr>\n",
              "\t<tr><th scope=row>440</th><td>NBA</td><td>Jakarr Sampson  </td><td>SAC</td><td>SF</td><td>22</td><td> 345</td><td> 44</td><td>  81</td><td>  5</td><td> 10</td><td>⋯</td><td>  8</td><td>  8</td><td>22</td><td> 48</td><td>0</td><td> 103</td><td> 0</td><td>0</td><td>0</td><td> 6</td></tr>\n",
              "\t<tr><th scope=row>445</th><td>NBA</td><td>Thabo Sefolosha </td><td>UTA</td><td>SF</td><td>38</td><td> 805</td><td>118</td><td> 240</td><td> 32</td><td> 84</td><td>⋯</td><td> 51</td><td> 30</td><td>12</td><td> 59</td><td>0</td><td> 312</td><td> 3</td><td>0</td><td>0</td><td> 6</td></tr>\n",
              "\t<tr><th scope=row>451</th><td>NBA</td><td>Ben Simmons     </td><td>PHI</td><td>SF</td><td>81</td><td>2734</td><td>544</td><td> 999</td><td>  0</td><td> 11</td><td>⋯</td><td>141</td><td>278</td><td>69</td><td>211</td><td>1</td><td>1279</td><td> 5</td><td>0</td><td>0</td><td>81</td></tr>\n",
              "\t<tr><th scope=row>454</th><td>NBA</td><td>Kyle Singler    </td><td>OKL</td><td>SF</td><td>12</td><td>  60</td><td>  7</td><td>  21</td><td>  2</td><td>  5</td><td>⋯</td><td>  1</td><td>  3</td><td> 0</td><td>  4</td><td>0</td><td>  23</td><td> 0</td><td>0</td><td>0</td><td> 0</td></tr>\n",
              "\t<tr><th scope=row>469</th><td>NBA</td><td>Jayson Tatum    </td><td>BOS</td><td>SF</td><td>80</td><td>2438</td><td>397</td><td> 835</td><td>105</td><td>242</td><td>⋯</td><td> 83</td><td>116</td><td>58</td><td>170</td><td>0</td><td>1112</td><td> 1</td><td>0</td><td>0</td><td>80</td></tr>\n",
              "\t<tr><th scope=row>479</th><td>NBA</td><td>Lance Thomas    </td><td>NYK</td><td>SF</td><td>73</td><td>1352</td><td>102</td><td> 267</td><td> 50</td><td>124</td><td>⋯</td><td> 30</td><td> 41</td><td>14</td><td>134</td><td>1</td><td> 298</td><td> 0</td><td>0</td><td>0</td><td>31</td></tr>\n",
              "\t<tr><th scope=row>485</th><td>NBA</td><td>Pj Tucker       </td><td>HOU</td><td>SF</td><td>82</td><td>2281</td><td>172</td><td> 441</td><td>115</td><td>310</td><td>⋯</td><td> 78</td><td> 75</td><td>26</td><td>205</td><td>4</td><td> 502</td><td> 7</td><td>0</td><td>0</td><td>34</td></tr>\n",
              "\t<tr><th scope=row>501</th><td>NBA</td><td>Derrick Walton  </td><td>MIA</td><td>SF</td><td>16</td><td> 145</td><td>  8</td><td>  25</td><td>  7</td><td> 17</td><td>⋯</td><td>  7</td><td>  2</td><td> 3</td><td>  7</td><td>0</td><td>  29</td><td> 0</td><td>0</td><td>0</td><td> 0</td></tr>\n",
              "\t<tr><th scope=row>503</th><td>NBA</td><td>Tj Warren       </td><td>PHO</td><td>SF</td><td>65</td><td>2137</td><td>529</td><td>1063</td><td> 20</td><td> 90</td><td>⋯</td><td> 65</td><td> 84</td><td>41</td><td>149</td><td>2</td><td>1271</td><td> 8</td><td>0</td><td>0</td><td>65</td></tr>\n",
              "\t<tr><th scope=row>504</th><td>NBA</td><td>Travis Wear     </td><td>LAL</td><td>SF</td><td>17</td><td> 229</td><td> 25</td><td>  72</td><td> 17</td><td> 47</td><td>⋯</td><td>  4</td><td>  6</td><td> 5</td><td> 30</td><td>0</td><td>  75</td><td> 0</td><td>0</td><td>0</td><td> 0</td></tr>\n",
              "\t<tr><th scope=row>505</th><td>NBA</td><td>James Webb      </td><td>BRO</td><td>SF</td><td>10</td><td> 120</td><td>  6</td><td>  24</td><td>  4</td><td> 19</td><td>⋯</td><td>  1</td><td>  4</td><td> 0</td><td> 10</td><td>0</td><td>  16</td><td> 0</td><td>0</td><td>0</td><td> 0</td></tr>\n",
              "\t<tr><th scope=row>511</th><td>NBA</td><td>Andrew White_iii</td><td>ATL</td><td>SF</td><td>15</td><td> 208</td><td> 25</td><td>  73</td><td> 18</td><td> 49</td><td>⋯</td><td>  3</td><td>  8</td><td> 1</td><td> 12</td><td>0</td><td>  69</td><td> 0</td><td>0</td><td>0</td><td> 0</td></tr>\n",
              "\t<tr><th scope=row>515</th><td>NBA</td><td>Jacob Wiley     </td><td>BRO</td><td>SF</td><td> 5</td><td>  33</td><td>  1</td><td>   4</td><td>  1</td><td>  2</td><td>⋯</td><td>  1</td><td>  0</td><td> 0</td><td>  4</td><td>0</td><td>   4</td><td> 0</td><td>0</td><td>0</td><td> 0</td></tr>\n",
              "\t<tr><th scope=row>523</th><td>NBA</td><td>Troy Williams   </td><td>NYK</td><td>SF</td><td>21</td><td> 307</td><td> 51</td><td> 109</td><td> 11</td><td> 38</td><td>⋯</td><td> 20</td><td> 19</td><td> 4</td><td> 34</td><td>0</td><td> 133</td><td> 0</td><td>0</td><td>0</td><td> 1</td></tr>\n",
              "\t<tr><th scope=row>525</th><td>NBA</td><td>Jamil Wilson    </td><td>LAC</td><td>SF</td><td>15</td><td> 273</td><td> 38</td><td>  81</td><td> 27</td><td> 63</td><td>⋯</td><td>  5</td><td>  8</td><td> 8</td><td> 34</td><td>1</td><td> 105</td><td> 0</td><td>0</td><td>0</td><td>10</td></tr>\n",
              "\t<tr><th scope=row>526</th><td>NBA</td><td>Justise Winslow </td><td>MIA</td><td>SF</td><td>68</td><td>1679</td><td>207</td><td> 487</td><td> 49</td><td>130</td><td>⋯</td><td> 53</td><td> 77</td><td>33</td><td>140</td><td>1</td><td> 529</td><td> 3</td><td>0</td><td>0</td><td>25</td></tr>\n",
              "</tbody>\n",
              "</table>\n"
            ]
          },
          "metadata": {
            "tags": []
          }
        }
      ]
    },
    {
      "cell_type": "code",
      "metadata": {
        "id": "8icgJYXyreWW",
        "outputId": "4f8acaef-a5fd-43af-88d8-2cbaa06e00c4",
        "colab": {
          "base_uri": "https://localhost:8080/",
          "height": 34
        }
      },
      "source": [
        "paste0(\"用subset()做欄位條件搜尋\")"
      ],
      "execution_count": 38,
      "outputs": [
        {
          "output_type": "display_data",
          "data": {
            "text/plain": [
              "[1] \"用subset()做欄位條件搜尋\""
            ],
            "text/latex": "'用subset()做欄位條件搜尋'",
            "text/markdown": "'用subset()做欄位條件搜尋'",
            "text/html": [
              "'用subset()做欄位條件搜尋'"
            ]
          },
          "metadata": {
            "tags": []
          }
        }
      ]
    },
    {
      "cell_type": "code",
      "metadata": {
        "id": "NjrrksfWjGLj",
        "outputId": "73ff8abf-4dc1-4067-c51a-d7cfe59a5454",
        "colab": {
          "base_uri": "https://localhost:8080/",
          "height": 99
        }
      },
      "source": [
        "NBA1718[grepl(\"Curry\",NBA1718$Name),]"
      ],
      "execution_count": 35,
      "outputs": [
        {
          "output_type": "display_data",
          "data": {
            "text/plain": [
              "    League Name          Team Position GamesPlayed TotalMinutesPlayed\n",
              "121 NBA    Stephen Curry GSW  PG       51          1637              \n",
              "    FieldGoalsMade FieldGoalsAttempted ThreesMade ThreesAttempted ⋯ Steals\n",
              "121 428            863                 212        500             ⋯ 81    \n",
              "    Turnovers Blocks PersonalFouls Disqualifications TotalPoints Technicals\n",
              "121 153       8      114           1                 1346        2         \n",
              "    Ejections FlagrantFouls GamesStarted\n",
              "121 0         0             51          "
            ],
            "text/latex": "A data.frame: 1 × 25\n\\begin{tabular}{r|lllllllllllllllllllll}\n  & League & Name & Team & Position & GamesPlayed & TotalMinutesPlayed & FieldGoalsMade & FieldGoalsAttempted & ThreesMade & ThreesAttempted & ⋯ & Steals & Turnovers & Blocks & PersonalFouls & Disqualifications & TotalPoints & Technicals & Ejections & FlagrantFouls & GamesStarted\\\\\n  & <fct> & <chr> & <fct> & <fct> & <int> & <int> & <int> & <int> & <int> & <int> & ⋯ & <int> & <int> & <int> & <int> & <int> & <int> & <int> & <int> & <int> & <int>\\\\\n\\hline\n\t121 & NBA & Stephen Curry & GSW & PG & 51 & 1637 & 428 & 863 & 212 & 500 & ⋯ & 81 & 153 & 8 & 114 & 1 & 1346 & 2 & 0 & 0 & 51\\\\\n\\end{tabular}\n",
            "text/markdown": "\nA data.frame: 1 × 25\n\n| <!--/--> | League &lt;fct&gt; | Name &lt;chr&gt; | Team &lt;fct&gt; | Position &lt;fct&gt; | GamesPlayed &lt;int&gt; | TotalMinutesPlayed &lt;int&gt; | FieldGoalsMade &lt;int&gt; | FieldGoalsAttempted &lt;int&gt; | ThreesMade &lt;int&gt; | ThreesAttempted &lt;int&gt; | ⋯ ⋯ | Steals &lt;int&gt; | Turnovers &lt;int&gt; | Blocks &lt;int&gt; | PersonalFouls &lt;int&gt; | Disqualifications &lt;int&gt; | TotalPoints &lt;int&gt; | Technicals &lt;int&gt; | Ejections &lt;int&gt; | FlagrantFouls &lt;int&gt; | GamesStarted &lt;int&gt; |\n|---|---|---|---|---|---|---|---|---|---|---|---|---|---|---|---|---|---|---|---|---|---|\n| 121 | NBA | Stephen Curry | GSW | PG | 51 | 1637 | 428 | 863 | 212 | 500 | ⋯ | 81 | 153 | 8 | 114 | 1 | 1346 | 2 | 0 | 0 | 51 |\n\n",
            "text/html": [
              "<table>\n",
              "<caption>A data.frame: 1 × 25</caption>\n",
              "<thead>\n",
              "\t<tr><th></th><th scope=col>League</th><th scope=col>Name</th><th scope=col>Team</th><th scope=col>Position</th><th scope=col>GamesPlayed</th><th scope=col>TotalMinutesPlayed</th><th scope=col>FieldGoalsMade</th><th scope=col>FieldGoalsAttempted</th><th scope=col>ThreesMade</th><th scope=col>ThreesAttempted</th><th scope=col>⋯</th><th scope=col>Steals</th><th scope=col>Turnovers</th><th scope=col>Blocks</th><th scope=col>PersonalFouls</th><th scope=col>Disqualifications</th><th scope=col>TotalPoints</th><th scope=col>Technicals</th><th scope=col>Ejections</th><th scope=col>FlagrantFouls</th><th scope=col>GamesStarted</th></tr>\n",
              "\t<tr><th></th><th scope=col>&lt;fct&gt;</th><th scope=col>&lt;chr&gt;</th><th scope=col>&lt;fct&gt;</th><th scope=col>&lt;fct&gt;</th><th scope=col>&lt;int&gt;</th><th scope=col>&lt;int&gt;</th><th scope=col>&lt;int&gt;</th><th scope=col>&lt;int&gt;</th><th scope=col>&lt;int&gt;</th><th scope=col>&lt;int&gt;</th><th scope=col>⋯</th><th scope=col>&lt;int&gt;</th><th scope=col>&lt;int&gt;</th><th scope=col>&lt;int&gt;</th><th scope=col>&lt;int&gt;</th><th scope=col>&lt;int&gt;</th><th scope=col>&lt;int&gt;</th><th scope=col>&lt;int&gt;</th><th scope=col>&lt;int&gt;</th><th scope=col>&lt;int&gt;</th><th scope=col>&lt;int&gt;</th></tr>\n",
              "</thead>\n",
              "<tbody>\n",
              "\t<tr><th scope=row>121</th><td>NBA</td><td>Stephen Curry</td><td>GSW</td><td>PG</td><td>51</td><td>1637</td><td>428</td><td>863</td><td>212</td><td>500</td><td>⋯</td><td>81</td><td>153</td><td>8</td><td>114</td><td>1</td><td>1346</td><td>2</td><td>0</td><td>0</td><td>51</td></tr>\n",
              "</tbody>\n",
              "</table>\n"
            ]
          },
          "metadata": {
            "tags": []
          }
        }
      ]
    },
    {
      "cell_type": "code",
      "metadata": {
        "id": "AheoGk3Lr5ne",
        "outputId": "4f0cb7e6-8a97-4983-9d0b-beaeb409da89",
        "colab": {
          "base_uri": "https://localhost:8080/",
          "height": 34
        }
      },
      "source": [
        "paste0(\"用grepl()做字串條件搜尋\")"
      ],
      "execution_count": 37,
      "outputs": [
        {
          "output_type": "display_data",
          "data": {
            "text/plain": [
              "[1] \"用grepl()做字串條件搜尋\""
            ],
            "text/latex": "'用grepl()做字串條件搜尋'",
            "text/markdown": "'用grepl()做字串條件搜尋'",
            "text/html": [
              "'用grepl()做字串條件搜尋'"
            ]
          },
          "metadata": {
            "tags": []
          }
        }
      ]
    },
    {
      "cell_type": "code",
      "metadata": {
        "id": "EObW9PJ-mAjV"
      },
      "source": [
        "df <- data.frame(gp=factor(rep(letters[1:3],each = 10)),y=rnorm(30))"
      ],
      "execution_count": 32,
      "outputs": []
    },
    {
      "cell_type": "code",
      "metadata": {
        "id": "JAW0qO3BonGA",
        "outputId": "d015c677-c66b-4008-daed-57741b5a960e",
        "colab": {
          "base_uri": "https://localhost:8080/",
          "height": 437
        }
      },
      "source": [
        "ggplot(df,aes(x = gp,y = y))+geom_boxplot()"
      ],
      "execution_count": 26,
      "outputs": [
        {
          "output_type": "display_data",
          "data": {
            "image/png": "[encoded data removed]",
            "text/plain": [
              "plot without title"
            ]
          },
          "metadata": {
            "tags": [],
            "image/png": {
              "width": 420,
              "height": 420
            }
          }
        }
      ]
    },
    {
      "cell_type": "code",
      "metadata": {
        "id": "PX3ei_3TotCH",
        "outputId": "b9576d0c-aeae-45a2-d02c-c848e3795db9",
        "colab": {
          "base_uri": "https://localhost:8080/",
          "height": 437
        }
      },
      "source": [
        "df$z<-df$y+rnorm(30)\n",
        "ggplot(df,aes(x = z,y = y))+geom_point()+facet_grid(gp~.)"
      ],
      "execution_count": 31,
      "outputs": [
        {
          "output_type": "display_data",
          "data": {
            "image/png": "[encoded data removed]",
            "text/plain": [
              "plot without title"
            ]
          },
          "metadata": {
            "tags": [],
            "image/png": {
              "width": 420,
              "height": 420
            }
          }
        }
      ]
    },
    {
      "cell_type": "code",
      "metadata": {
        "id": "vkwDBbS0pWFf",
        "outputId": "592ad1de-693c-43d9-a4ad-16262b3a64e7",
        "colab": {
          "base_uri": "https://localhost:8080/",
          "height": 437
        }
      },
      "source": [
        "ggplot(df,aes(x = z,y = y))+geom_line()+facet_grid(gp~.)"
      ],
      "execution_count": 30,
      "outputs": [
        {
          "output_type": "display_data",
          "data": {
            "image/png": "[encoded data removed]",
            "text/plain": [
              "plot without title"
            ]
          },
          "metadata": {
            "tags": [],
            "image/png": {
              "width": 420,
              "height": 420
            }
          }
        }
      ]
    },
    {
      "cell_type": "code",
      "metadata": {
        "id": "9Xi_wj-FkTYn",
        "outputId": "bedac035-de4a-44b3-b349-22133ce7672e",
        "colab": {
          "base_uri": "https://localhost:8080/",
          "height": 437
        }
      },
      "source": [
        "NBA1718$Position<-as.factor(NBA1718$Position)\n",
        "NBA1718.mean<-data.table(NBA1718)[,.(TotalPointsMean=mean(TotalPoints,na.rm = T)),by=Position]\n",
        "ggplot()+geom_bar(data = NBA1718.mean,aes(x=Position,y=TotalPointsMean),stat = \"identity\")"
      ],
      "execution_count": 23,
      "outputs": [
        {
          "output_type": "display_data",
          "data": {
            "image/png": "[encoded data removed]",
            "text/plain": [
              "plot without title"
            ]
          },
          "metadata": {
            "tags": [],
            "image/png": {
              "width": 420,
              "height": 420
            }
          }
        }
      ]
    },
    {
      "cell_type": "code",
      "metadata": {
        "id": "95nHngWksOK0",
        "outputId": "66b5a437-a80e-48a5-aa0f-8e4070c4354f",
        "colab": {
          "base_uri": "https://localhost:8080/",
          "height": 34
        }
      },
      "source": [
        "paste0(\"用ggplot()畫出，四種不同類型的圖表\")"
      ],
      "execution_count": 39,
      "outputs": [
        {
          "output_type": "display_data",
          "data": {
            "text/plain": [
              "[1] \"用ggplot()畫出，四種不同類型的圖表\""
            ],
            "text/latex": "'用ggplot()畫出，四種不同類型的圖表'",
            "text/markdown": "'用ggplot()畫出，四種不同類型的圖表'",
            "text/html": [
              "'用ggplot()畫出，四種不同類型的圖表'"
            ]
          },
          "metadata": {
            "tags": []
          }
        }
      ]
    }
  ]
}