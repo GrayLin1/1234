{
  "nbformat": 4,
  "nbformat_minor": 0,
  "metadata": {
    "colab": {
      "name": "Assessments8.ipynb",
      "provenance": [],
      "collapsed_sections": [],
      "include_colab_link": true
    },
    "kernelspec": {
      "name": "ir",
      "display_name": "R"
    }
  },
  "cells": [
    {
      "cell_type": "markdown",
      "metadata": {
        "id": "view-in-github",
        "colab_type": "text"
      },
      "source": [
        "<a href=\"https://colab.research.google.com/github/GrayLin1/1234/blob/master/Assessments8.ipynb\" target=\"_parent\"><img src=\"https://colab.research.google.com/assets/colab-badge.svg\" alt=\"Open In Colab\"/></a>"
      ]
    },
    {
      "cell_type": "code",
      "metadata": {
        "id": "AC6TCCFPdnYp"
      },
      "source": [
        "install.packages(\"rJava\")"
      ],
      "execution_count": null,
      "outputs": []
    },
    {
      "cell_type": "code",
      "metadata": {
        "id": "MVTXpcHudy8E"
      },
      "source": [
        "install.packages(\"jiebaR\")"
      ],
      "execution_count": null,
      "outputs": []
    },
    {
      "cell_type": "code",
      "metadata": {
        "id": "1bnG6-77d920"
      },
      "source": [
        "install.packages(\"tmcn\")"
      ],
      "execution_count": null,
      "outputs": []
    },
    {
      "cell_type": "code",
      "metadata": {
        "id": "vDRIMcFjeSFG"
      },
      "source": [
        "install.packages(\"dplyr\")"
      ],
      "execution_count": null,
      "outputs": []
    },
    {
      "cell_type": "code",
      "metadata": {
        "id": "-3dQFGE5eWMQ"
      },
      "source": [
        "install.packages(\"lubridate\")"
      ],
      "execution_count": null,
      "outputs": []
    },
    {
      "cell_type": "code",
      "metadata": {
        "id": "_yRzX3X8ed-d"
      },
      "source": [
        "install.packages(\"stringr\")"
      ],
      "execution_count": null,
      "outputs": []
    },
    {
      "cell_type": "code",
      "metadata": {
        "id": "KWMnZ-4uelUx"
      },
      "source": [
        "install.packages(\"wordcloud\")"
      ],
      "execution_count": null,
      "outputs": []
    },
    {
      "cell_type": "code",
      "metadata": {
        "id": "zKW-_CZoetwQ"
      },
      "source": [
        "install.packages(\"Rwordseg\",repos = \"http://R-Forge.R-project.org\")"
      ],
      "execution_count": null,
      "outputs": []
    },
    {
      "cell_type": "code",
      "metadata": {
        "id": "8iWEuVNkfI3S"
      },
      "source": [
        "library(dplyr)"
      ],
      "execution_count": null,
      "outputs": []
    },
    {
      "cell_type": "code",
      "metadata": {
        "id": "p-D8jeUGfPhi"
      },
      "source": [
        "library(lubridate)"
      ],
      "execution_count": null,
      "outputs": []
    },
    {
      "cell_type": "code",
      "metadata": {
        "id": "i_xCFpYjfVRe"
      },
      "source": [
        "library(stringr)"
      ],
      "execution_count": 11,
      "outputs": []
    },
    {
      "cell_type": "code",
      "metadata": {
        "id": "Jkv8o4BsfYlO"
      },
      "source": [
        "library(jiebaR)"
      ],
      "execution_count": null,
      "outputs": []
    },
    {
      "cell_type": "code",
      "metadata": {
        "id": "HLoriJz7fhdl"
      },
      "source": [
        "library(wordcloud)"
      ],
      "execution_count": null,
      "outputs": []
    },
    {
      "cell_type": "code",
      "metadata": {
        "id": "jS75P7wefmKL"
      },
      "source": [
        "content <- \"接下來肯定會有很多文章討論為什麼民調又失準了，但我認為其中一個關鍵因素，在於「議題取向勝於人選好惡」的這次選舉特質。川普當了三年多的總統，講了很多話、也做了很多事，人們對他的評價都已經很清楚；拜登從政40多年，也當過副總統。這次的選舉，儘管川普是競選連任的人，但兩人都有很多的從政包袱。川普要面對對他不滿的人全面的反撲，但其實就在四年前，美國民眾才用選票表達對民主黨政府的不滿，而拜登還是那個政府的副總統。從這裡可以知道，候選人的人設，在這次的選舉當中並不是問題。因為大家對川普和拜登個人的紀錄，都相當熟悉。取而代之的，是對議題的態度，這成為美國民眾選擇的關鍵。拜登陣營顯然不太擅長處理議題的表態，因為拜登本人從政四十多年，長時間是個沒有特定立場的民意代表，他在從政歷程中，對於司法以及種族問題，甚至能源問題的表態，都沒有一致的軌跡。在這次的選舉中也反覆再三。川普則是另一個非常鮮明的反例。他敢於表態，而且不惜得罪其他人。這種作風或許很多爭議，但是在以議題為主的選戰當中，卻是相當有利的。因為比起拜登的閃躲模糊，川普的直白會讓選民的抉擇更加清楚簡單。最後不管民調怎麼回答，問到議題立場時，選民都知道川普的立場，也因此能夠決定支持與否。這就造成了目前選舉跌破眼鏡的結果。以下搭配目前有點跌破大家眼鏡的幾個搖擺州來進行分析，也同時對比一下拜登與川普在對議題表態上，導致了怎樣的選民投票行為轉變。\""
      ],
      "execution_count": 14,
      "outputs": []
    },
    {
      "cell_type": "code",
      "metadata": {
        "id": "CaoqinTbgjCt"
      },
      "source": [
        "cutter <- worker(bylines = F)"
      ],
      "execution_count": 15,
      "outputs": []
    },
    {
      "cell_type": "code",
      "metadata": {
        "id": "G_-6fvTmgv_7",
        "outputId": "9d2c6fa4-caee-4b5f-f89f-d93cd7c61b71",
        "colab": {
          "base_uri": "https://localhost:8080/",
          "height": 153
        }
      },
      "source": [
        "cutter[content]"
      ],
      "execution_count": 16,
      "outputs": [
        {
          "output_type": "display_data",
          "data": {
            "text/plain": [
              "  [1] \"接下來\"   \"肯定\"     \"會\"       \"有\"       \"很多\"     \"文章\"    \n",
              "  [7] \"討論\"     \"為\"       \"什麼\"     \"民調\"     \"又\"       \"失準\"    \n",
              " [13] \"了\"       \"但\"       \"我\"       \"認為\"     \"其中\"     \"一個\"    \n",
              " [19] \"關鍵因素\" \"在於\"     \"議題\"     \"取向\"     \"勝於\"     \"人選\"    \n",
              " [25] \"好惡\"     \"的\"       \"這次\"     \"選舉\"     \"特質\"     \"川普當\"  \n",
              " [31] \"了\"       \"三年\"     \"多\"       \"的\"       \"總統\"     \"講了\"    \n",
              " [37] \"很多\"     \"話\"       \"也\"       \"做\"       \"了\"       \"很多\"    \n",
              " [43] \"事\"       \"人們\"     \"對\"       \"他\"       \"的\"       \"評價\"    \n",
              " [49] \"都\"       \"已經\"     \"很\"       \"清楚\"     \"拜登\"     \"從政\"    \n",
              " [55] \"40\"       \"多年\"     \"也\"       \"當過\"     \"副\"       \"總統\"    \n",
              " [61] \"這次\"     \"的\"       \"選舉\"     \"儘管\"     \"川普是\"   \"競選\"    \n",
              " [67] \"連任\"     \"的\"       \"人\"       \"但\"       \"兩人\"     \"都\"      \n",
              " [73] \"有\"       \"很多\"     \"的\"       \"從政\"     \"包袱\"     \"川普要\"  \n",
              " [79] \"面對\"     \"對\"       \"他\"       \"不滿\"     \"的\"       \"人\"      \n",
              " [85] \"全面\"     \"的\"       \"反撲\"     \"但\"       \"其實\"     \"就\"      \n",
              " [91] \"在\"       \"四年\"     \"前\"       \"美國\"     \"民眾\"     \"才\"      \n",
              " [97] \"用\"       \"選票\"     \"表達\"     \"對\"       \"民主黨\"   \"政府\"    \n",
              "[103] \"的\"       \"不滿\"     \"而\"       \"拜登\"     \"還是\"     \"那個\"    \n",
              "[109] \"政府\"     \"的\"       \"副\"       \"總統\"     \"從\"       \"這裡\"    \n",
              "[115] \"可以\"     \"知道\"     \"候選人\"   \"的\"       \"人設\"     \"在\"      \n",
              "[121] \"這次\"     \"的\"       \"選舉\"     \"當中\"     \"並\"       \"不是\"    \n",
              "[127] \"問題\"     \"因為\"     \"大家\"     \"對川普\"   \"和\"       \"拜登\"    \n",
              "[133] \"個人\"     \"的\"       \"紀錄\"     \"都\"       \"相當\"     \"熟悉\"    \n",
              "[139] \"取而代之\" \"的\"       \"是\"       \"對\"       \"議題\"     \"的\"      \n",
              "[145] \"態度\"     \"這成\"     \"為\"       \"美國\"     \"民眾\"     \"選擇\"    \n",
              "[151] \"的\"       \"關鍵\"     \"拜登\"     \"陣營\"     \"顯然\"     \"不太\"    \n",
              "[157] \"擅長\"     \"處理\"     \"議題\"     \"的\"       \"表態\"     \"因為\"    \n",
              "[163] \"拜登\"     \"本人\"     \"從政\"     \"四十多年\" \"長時間\"   \"是\"      \n",
              "[169] \"個\"       \"沒有\"     \"特定\"     \"立場\"     \"的\"       \"民意代表\"\n",
              "[175] \"他\"       \"在\"       \"從政\"     \"歷程\"     \"中\"       \"對於\"    \n",
              "[181] \"司法\"     \"以及\"     \"種族問題\" \"甚至\"     \"能源\"     \"問題\"    \n",
              "[187] \"的\"       \"表態\"     \"都\"       \"沒有\"     \"一致\"     \"的\"      \n",
              "[193] \"軌跡\"     \"在\"       \"這次\"     \"的\"       \"選舉\"     \"中\"      \n",
              "[199] \"也\"       \"反覆\"     \"再三\"     \"川普則\"   \"是\"       \"另\"      \n",
              "[205] \"一個\"     \"非常\"     \"鮮明\"     \"的\"       \"反例\"     \"他\"      \n",
              "[211] \"敢於\"     \"表態\"     \"而且\"     \"不惜\"     \"得罪\"     \"其他人\"  \n",
              "[217] \"這種\"     \"作風\"     \"或許\"     \"很多\"     \"爭議\"     \"但是\"    \n",
              "[223] \"在\"       \"以\"       \"議題\"     \"為主\"     \"的\"       \"選戰\"    \n",
              "[229] \"當中\"     \"卻是\"     \"相當\"     \"有利\"     \"的\"       \"因為\"    \n",
              "[235] \"比起\"     \"拜登\"     \"的\"       \"閃躲\"     \"模糊\"     \"川普\"    \n",
              "[241] \"的\"       \"直白\"     \"會\"       \"讓\"       \"選民\"     \"的\"      \n",
              "[247] \"抉擇\"     \"更加\"     \"清楚\"     \"簡單\"     \"最後\"     \"不管\"    \n",
              "[253] \"民調\"     \"怎麼\"     \"回答\"     \"問到\"     \"議題\"     \"立場\"    \n",
              "[259] \"時\"       \"選民\"     \"都\"       \"知道\"     \"川普\"     \"的\"      \n",
              "[265] \"立場\"     \"也\"       \"因此\"     \"能夠\"     \"決定\"     \"支持\"    \n",
              "[271] \"與否\"     \"這就\"     \"造成\"     \"了\"       \"目前\"     \"選舉\"    \n",
              "[277] \"跌破眼鏡\" \"的\"       \"結果\"     \"以下\"     \"搭配\"     \"目前\"    \n",
              "[283] \"有點\"     \"跌破\"     \"大家\"     \"眼鏡\"     \"的\"       \"幾個\"    \n",
              "[289] \"搖擺\"     \"州來\"     \"進行\"     \"分析\"     \"也\"       \"同時對比\"\n",
              "[295] \"一下\"     \"拜登\"     \"與川普\"   \"在\"       \"對\"       \"議題\"    \n",
              "[301] \"表態\"     \"上\"       \"導致\"     \"了\"       \"怎樣\"     \"的\"      \n",
              "[307] \"選民\"     \"投票\"     \"行為\"     \"轉變\"    "
            ],
            "text/latex": "\\begin{enumerate*}\n\\item '接下來'\n\\item '肯定'\n\\item '會'\n\\item '有'\n\\item '很多'\n\\item '文章'\n\\item '討論'\n\\item '為'\n\\item '什麼'\n\\item '民調'\n\\item '又'\n\\item '失準'\n\\item '了'\n\\item '但'\n\\item '我'\n\\item '認為'\n\\item '其中'\n\\item '一個'\n\\item '關鍵因素'\n\\item '在於'\n\\item '議題'\n\\item '取向'\n\\item '勝於'\n\\item '人選'\n\\item '好惡'\n\\item '的'\n\\item '這次'\n\\item '選舉'\n\\item '特質'\n\\item '川普當'\n\\item '了'\n\\item '三年'\n\\item '多'\n\\item '的'\n\\item '總統'\n\\item '講了'\n\\item '很多'\n\\item '話'\n\\item '也'\n\\item '做'\n\\item '了'\n\\item '很多'\n\\item '事'\n\\item '人們'\n\\item '對'\n\\item '他'\n\\item '的'\n\\item '評價'\n\\item '都'\n\\item '已經'\n\\item '很'\n\\item '清楚'\n\\item '拜登'\n\\item '從政'\n\\item '40'\n\\item '多年'\n\\item '也'\n\\item '當過'\n\\item '副'\n\\item '總統'\n\\item '這次'\n\\item '的'\n\\item '選舉'\n\\item '儘管'\n\\item '川普是'\n\\item '競選'\n\\item '連任'\n\\item '的'\n\\item '人'\n\\item '但'\n\\item '兩人'\n\\item '都'\n\\item '有'\n\\item '很多'\n\\item '的'\n\\item '從政'\n\\item '包袱'\n\\item '川普要'\n\\item '面對'\n\\item '對'\n\\item '他'\n\\item '不滿'\n\\item '的'\n\\item '人'\n\\item '全面'\n\\item '的'\n\\item '反撲'\n\\item '但'\n\\item '其實'\n\\item '就'\n\\item '在'\n\\item '四年'\n\\item '前'\n\\item '美國'\n\\item '民眾'\n\\item '才'\n\\item '用'\n\\item '選票'\n\\item '表達'\n\\item '對'\n\\item '民主黨'\n\\item '政府'\n\\item '的'\n\\item '不滿'\n\\item '而'\n\\item '拜登'\n\\item '還是'\n\\item '那個'\n\\item '政府'\n\\item '的'\n\\item '副'\n\\item '總統'\n\\item '從'\n\\item '這裡'\n\\item '可以'\n\\item '知道'\n\\item '候選人'\n\\item '的'\n\\item '人設'\n\\item '在'\n\\item '這次'\n\\item '的'\n\\item '選舉'\n\\item '當中'\n\\item '並'\n\\item '不是'\n\\item '問題'\n\\item '因為'\n\\item '大家'\n\\item '對川普'\n\\item '和'\n\\item '拜登'\n\\item '個人'\n\\item '的'\n\\item '紀錄'\n\\item '都'\n\\item '相當'\n\\item '熟悉'\n\\item '取而代之'\n\\item '的'\n\\item '是'\n\\item '對'\n\\item '議題'\n\\item '的'\n\\item '態度'\n\\item '這成'\n\\item '為'\n\\item '美國'\n\\item '民眾'\n\\item '選擇'\n\\item '的'\n\\item '關鍵'\n\\item '拜登'\n\\item '陣營'\n\\item '顯然'\n\\item '不太'\n\\item '擅長'\n\\item '處理'\n\\item '議題'\n\\item '的'\n\\item '表態'\n\\item '因為'\n\\item '拜登'\n\\item '本人'\n\\item '從政'\n\\item '四十多年'\n\\item '長時間'\n\\item '是'\n\\item '個'\n\\item '沒有'\n\\item '特定'\n\\item '立場'\n\\item '的'\n\\item '民意代表'\n\\item '他'\n\\item '在'\n\\item '從政'\n\\item '歷程'\n\\item '中'\n\\item '對於'\n\\item '司法'\n\\item '以及'\n\\item '種族問題'\n\\item '甚至'\n\\item '能源'\n\\item '問題'\n\\item '的'\n\\item '表態'\n\\item '都'\n\\item '沒有'\n\\item '一致'\n\\item '的'\n\\item '軌跡'\n\\item '在'\n\\item '這次'\n\\item '的'\n\\item '選舉'\n\\item '中'\n\\item '也'\n\\item '反覆'\n\\item '再三'\n\\item '川普則'\n\\item '是'\n\\item '另'\n\\item '一個'\n\\item '非常'\n\\item '鮮明'\n\\item '的'\n\\item '反例'\n\\item '他'\n\\item '敢於'\n\\item '表態'\n\\item '而且'\n\\item '不惜'\n\\item '得罪'\n\\item '其他人'\n\\item '這種'\n\\item '作風'\n\\item '或許'\n\\item '很多'\n\\item '爭議'\n\\item '但是'\n\\item '在'\n\\item '以'\n\\item '議題'\n\\item '為主'\n\\item '的'\n\\item '選戰'\n\\item '當中'\n\\item '卻是'\n\\item '相當'\n\\item '有利'\n\\item '的'\n\\item '因為'\n\\item '比起'\n\\item '拜登'\n\\item '的'\n\\item '閃躲'\n\\item '模糊'\n\\item '川普'\n\\item '的'\n\\item '直白'\n\\item '會'\n\\item '讓'\n\\item '選民'\n\\item '的'\n\\item '抉擇'\n\\item '更加'\n\\item '清楚'\n\\item '簡單'\n\\item '最後'\n\\item '不管'\n\\item '民調'\n\\item '怎麼'\n\\item '回答'\n\\item '問到'\n\\item '議題'\n\\item '立場'\n\\item '時'\n\\item '選民'\n\\item '都'\n\\item '知道'\n\\item '川普'\n\\item '的'\n\\item '立場'\n\\item '也'\n\\item '因此'\n\\item '能夠'\n\\item '決定'\n\\item '支持'\n\\item '與否'\n\\item '這就'\n\\item '造成'\n\\item '了'\n\\item '目前'\n\\item '選舉'\n\\item '跌破眼鏡'\n\\item '的'\n\\item '結果'\n\\item '以下'\n\\item '搭配'\n\\item '目前'\n\\item '有點'\n\\item '跌破'\n\\item '大家'\n\\item '眼鏡'\n\\item '的'\n\\item '幾個'\n\\item '搖擺'\n\\item '州來'\n\\item '進行'\n\\item '分析'\n\\item '也'\n\\item '同時對比'\n\\item '一下'\n\\item '拜登'\n\\item '與川普'\n\\item '在'\n\\item '對'\n\\item '議題'\n\\item '表態'\n\\item '上'\n\\item '導致'\n\\item '了'\n\\item '怎樣'\n\\item '的'\n\\item '選民'\n\\item '投票'\n\\item '行為'\n\\item '轉變'\n\\end{enumerate*}\n",
            "text/markdown": "1. '接下來'\n2. '肯定'\n3. '會'\n4. '有'\n5. '很多'\n6. '文章'\n7. '討論'\n8. '為'\n9. '什麼'\n10. '民調'\n11. '又'\n12. '失準'\n13. '了'\n14. '但'\n15. '我'\n16. '認為'\n17. '其中'\n18. '一個'\n19. '關鍵因素'\n20. '在於'\n21. '議題'\n22. '取向'\n23. '勝於'\n24. '人選'\n25. '好惡'\n26. '的'\n27. '這次'\n28. '選舉'\n29. '特質'\n30. '川普當'\n31. '了'\n32. '三年'\n33. '多'\n34. '的'\n35. '總統'\n36. '講了'\n37. '很多'\n38. '話'\n39. '也'\n40. '做'\n41. '了'\n42. '很多'\n43. '事'\n44. '人們'\n45. '對'\n46. '他'\n47. '的'\n48. '評價'\n49. '都'\n50. '已經'\n51. '很'\n52. '清楚'\n53. '拜登'\n54. '從政'\n55. '40'\n56. '多年'\n57. '也'\n58. '當過'\n59. '副'\n60. '總統'\n61. '這次'\n62. '的'\n63. '選舉'\n64. '儘管'\n65. '川普是'\n66. '競選'\n67. '連任'\n68. '的'\n69. '人'\n70. '但'\n71. '兩人'\n72. '都'\n73. '有'\n74. '很多'\n75. '的'\n76. '從政'\n77. '包袱'\n78. '川普要'\n79. '面對'\n80. '對'\n81. '他'\n82. '不滿'\n83. '的'\n84. '人'\n85. '全面'\n86. '的'\n87. '反撲'\n88. '但'\n89. '其實'\n90. '就'\n91. '在'\n92. '四年'\n93. '前'\n94. '美國'\n95. '民眾'\n96. '才'\n97. '用'\n98. '選票'\n99. '表達'\n100. '對'\n101. '民主黨'\n102. '政府'\n103. '的'\n104. '不滿'\n105. '而'\n106. '拜登'\n107. '還是'\n108. '那個'\n109. '政府'\n110. '的'\n111. '副'\n112. '總統'\n113. '從'\n114. '這裡'\n115. '可以'\n116. '知道'\n117. '候選人'\n118. '的'\n119. '人設'\n120. '在'\n121. '這次'\n122. '的'\n123. '選舉'\n124. '當中'\n125. '並'\n126. '不是'\n127. '問題'\n128. '因為'\n129. '大家'\n130. '對川普'\n131. '和'\n132. '拜登'\n133. '個人'\n134. '的'\n135. '紀錄'\n136. '都'\n137. '相當'\n138. '熟悉'\n139. '取而代之'\n140. '的'\n141. '是'\n142. '對'\n143. '議題'\n144. '的'\n145. '態度'\n146. '這成'\n147. '為'\n148. '美國'\n149. '民眾'\n150. '選擇'\n151. '的'\n152. '關鍵'\n153. '拜登'\n154. '陣營'\n155. '顯然'\n156. '不太'\n157. '擅長'\n158. '處理'\n159. '議題'\n160. '的'\n161. '表態'\n162. '因為'\n163. '拜登'\n164. '本人'\n165. '從政'\n166. '四十多年'\n167. '長時間'\n168. '是'\n169. '個'\n170. '沒有'\n171. '特定'\n172. '立場'\n173. '的'\n174. '民意代表'\n175. '他'\n176. '在'\n177. '從政'\n178. '歷程'\n179. '中'\n180. '對於'\n181. '司法'\n182. '以及'\n183. '種族問題'\n184. '甚至'\n185. '能源'\n186. '問題'\n187. '的'\n188. '表態'\n189. '都'\n190. '沒有'\n191. '一致'\n192. '的'\n193. '軌跡'\n194. '在'\n195. '這次'\n196. '的'\n197. '選舉'\n198. '中'\n199. '也'\n200. '反覆'\n201. '再三'\n202. '川普則'\n203. '是'\n204. '另'\n205. '一個'\n206. '非常'\n207. '鮮明'\n208. '的'\n209. '反例'\n210. '他'\n211. '敢於'\n212. '表態'\n213. '而且'\n214. '不惜'\n215. '得罪'\n216. '其他人'\n217. '這種'\n218. '作風'\n219. '或許'\n220. '很多'\n221. '爭議'\n222. '但是'\n223. '在'\n224. '以'\n225. '議題'\n226. '為主'\n227. '的'\n228. '選戰'\n229. '當中'\n230. '卻是'\n231. '相當'\n232. '有利'\n233. '的'\n234. '因為'\n235. '比起'\n236. '拜登'\n237. '的'\n238. '閃躲'\n239. '模糊'\n240. '川普'\n241. '的'\n242. '直白'\n243. '會'\n244. '讓'\n245. '選民'\n246. '的'\n247. '抉擇'\n248. '更加'\n249. '清楚'\n250. '簡單'\n251. '最後'\n252. '不管'\n253. '民調'\n254. '怎麼'\n255. '回答'\n256. '問到'\n257. '議題'\n258. '立場'\n259. '時'\n260. '選民'\n261. '都'\n262. '知道'\n263. '川普'\n264. '的'\n265. '立場'\n266. '也'\n267. '因此'\n268. '能夠'\n269. '決定'\n270. '支持'\n271. '與否'\n272. '這就'\n273. '造成'\n274. '了'\n275. '目前'\n276. '選舉'\n277. '跌破眼鏡'\n278. '的'\n279. '結果'\n280. '以下'\n281. '搭配'\n282. '目前'\n283. '有點'\n284. '跌破'\n285. '大家'\n286. '眼鏡'\n287. '的'\n288. '幾個'\n289. '搖擺'\n290. '州來'\n291. '進行'\n292. '分析'\n293. '也'\n294. '同時對比'\n295. '一下'\n296. '拜登'\n297. '與川普'\n298. '在'\n299. '對'\n300. '議題'\n301. '表態'\n302. '上'\n303. '導致'\n304. '了'\n305. '怎樣'\n306. '的'\n307. '選民'\n308. '投票'\n309. '行為'\n310. '轉變'\n\n\n",
            "text/html": [
              "<style>\n",
              ".list-inline {list-style: none; margin:0; padding: 0}\n",
              ".list-inline>li {display: inline-block}\n",
              ".list-inline>li:not(:last-child)::after {content: \"\\00b7\"; padding: 0 .5ex}\n",
              "</style>\n",
              "<ol class=list-inline><li>'接下來'</li><li>'肯定'</li><li>'會'</li><li>'有'</li><li>'很多'</li><li>'文章'</li><li>'討論'</li><li>'為'</li><li>'什麼'</li><li>'民調'</li><li>'又'</li><li>'失準'</li><li>'了'</li><li>'但'</li><li>'我'</li><li>'認為'</li><li>'其中'</li><li>'一個'</li><li>'關鍵因素'</li><li>'在於'</li><li>'議題'</li><li>'取向'</li><li>'勝於'</li><li>'人選'</li><li>'好惡'</li><li>'的'</li><li>'這次'</li><li>'選舉'</li><li>'特質'</li><li>'川普當'</li><li>'了'</li><li>'三年'</li><li>'多'</li><li>'的'</li><li>'總統'</li><li>'講了'</li><li>'很多'</li><li>'話'</li><li>'也'</li><li>'做'</li><li>'了'</li><li>'很多'</li><li>'事'</li><li>'人們'</li><li>'對'</li><li>'他'</li><li>'的'</li><li>'評價'</li><li>'都'</li><li>'已經'</li><li>'很'</li><li>'清楚'</li><li>'拜登'</li><li>'從政'</li><li>'40'</li><li>'多年'</li><li>'也'</li><li>'當過'</li><li>'副'</li><li>'總統'</li><li>'這次'</li><li>'的'</li><li>'選舉'</li><li>'儘管'</li><li>'川普是'</li><li>'競選'</li><li>'連任'</li><li>'的'</li><li>'人'</li><li>'但'</li><li>'兩人'</li><li>'都'</li><li>'有'</li><li>'很多'</li><li>'的'</li><li>'從政'</li><li>'包袱'</li><li>'川普要'</li><li>'面對'</li><li>'對'</li><li>'他'</li><li>'不滿'</li><li>'的'</li><li>'人'</li><li>'全面'</li><li>'的'</li><li>'反撲'</li><li>'但'</li><li>'其實'</li><li>'就'</li><li>'在'</li><li>'四年'</li><li>'前'</li><li>'美國'</li><li>'民眾'</li><li>'才'</li><li>'用'</li><li>'選票'</li><li>'表達'</li><li>'對'</li><li>'民主黨'</li><li>'政府'</li><li>'的'</li><li>'不滿'</li><li>'而'</li><li>'拜登'</li><li>'還是'</li><li>'那個'</li><li>'政府'</li><li>'的'</li><li>'副'</li><li>'總統'</li><li>'從'</li><li>'這裡'</li><li>'可以'</li><li>'知道'</li><li>'候選人'</li><li>'的'</li><li>'人設'</li><li>'在'</li><li>'這次'</li><li>'的'</li><li>'選舉'</li><li>'當中'</li><li>'並'</li><li>'不是'</li><li>'問題'</li><li>'因為'</li><li>'大家'</li><li>'對川普'</li><li>'和'</li><li>'拜登'</li><li>'個人'</li><li>'的'</li><li>'紀錄'</li><li>'都'</li><li>'相當'</li><li>'熟悉'</li><li>'取而代之'</li><li>'的'</li><li>'是'</li><li>'對'</li><li>'議題'</li><li>'的'</li><li>'態度'</li><li>'這成'</li><li>'為'</li><li>'美國'</li><li>'民眾'</li><li>'選擇'</li><li>'的'</li><li>'關鍵'</li><li>'拜登'</li><li>'陣營'</li><li>'顯然'</li><li>'不太'</li><li>'擅長'</li><li>'處理'</li><li>'議題'</li><li>'的'</li><li>'表態'</li><li>'因為'</li><li>'拜登'</li><li>'本人'</li><li>'從政'</li><li>'四十多年'</li><li>'長時間'</li><li>'是'</li><li>'個'</li><li>'沒有'</li><li>'特定'</li><li>'立場'</li><li>'的'</li><li>'民意代表'</li><li>'他'</li><li>'在'</li><li>'從政'</li><li>'歷程'</li><li>'中'</li><li>'對於'</li><li>'司法'</li><li>'以及'</li><li>'種族問題'</li><li>'甚至'</li><li>'能源'</li><li>'問題'</li><li>'的'</li><li>'表態'</li><li>'都'</li><li>'沒有'</li><li>'一致'</li><li>'的'</li><li>'軌跡'</li><li>'在'</li><li>'這次'</li><li>'的'</li><li>'選舉'</li><li>'中'</li><li>'也'</li><li>'反覆'</li><li>'再三'</li><li>'川普則'</li><li>'是'</li><li>'另'</li><li>'一個'</li><li>'非常'</li><li>'鮮明'</li><li>'的'</li><li>'反例'</li><li>'他'</li><li>'敢於'</li><li>'表態'</li><li>'而且'</li><li>'不惜'</li><li>'得罪'</li><li>'其他人'</li><li>'這種'</li><li>'作風'</li><li>'或許'</li><li>'很多'</li><li>'爭議'</li><li>'但是'</li><li>'在'</li><li>'以'</li><li>'議題'</li><li>'為主'</li><li>'的'</li><li>'選戰'</li><li>'當中'</li><li>'卻是'</li><li>'相當'</li><li>'有利'</li><li>'的'</li><li>'因為'</li><li>'比起'</li><li>'拜登'</li><li>'的'</li><li>'閃躲'</li><li>'模糊'</li><li>'川普'</li><li>'的'</li><li>'直白'</li><li>'會'</li><li>'讓'</li><li>'選民'</li><li>'的'</li><li>'抉擇'</li><li>'更加'</li><li>'清楚'</li><li>'簡單'</li><li>'最後'</li><li>'不管'</li><li>'民調'</li><li>'怎麼'</li><li>'回答'</li><li>'問到'</li><li>'議題'</li><li>'立場'</li><li>'時'</li><li>'選民'</li><li>'都'</li><li>'知道'</li><li>'川普'</li><li>'的'</li><li>'立場'</li><li>'也'</li><li>'因此'</li><li>'能夠'</li><li>'決定'</li><li>'支持'</li><li>'與否'</li><li>'這就'</li><li>'造成'</li><li>'了'</li><li>'目前'</li><li>'選舉'</li><li>'跌破眼鏡'</li><li>'的'</li><li>'結果'</li><li>'以下'</li><li>'搭配'</li><li>'目前'</li><li>'有點'</li><li>'跌破'</li><li>'大家'</li><li>'眼鏡'</li><li>'的'</li><li>'幾個'</li><li>'搖擺'</li><li>'州來'</li><li>'進行'</li><li>'分析'</li><li>'也'</li><li>'同時對比'</li><li>'一下'</li><li>'拜登'</li><li>'與川普'</li><li>'在'</li><li>'對'</li><li>'議題'</li><li>'表態'</li><li>'上'</li><li>'導致'</li><li>'了'</li><li>'怎樣'</li><li>'的'</li><li>'選民'</li><li>'投票'</li><li>'行為'</li><li>'轉變'</li></ol>\n"
            ]
          },
          "metadata": {
            "tags": []
          }
        }
      ]
    },
    {
      "cell_type": "code",
      "metadata": {
        "id": "oFBbTarYg155"
      },
      "source": [
        "new_words <- c(\"為什麼\",\"川普\",\"當了\",\"副總統\",\"全面的\",\"就在\",\"四年前\",\"個人的\",\"選擇的\",\"反覆再三\",\"另一個\",\"則是\",\"有利的\",\"同時\",\"對比\")\n",
        "for (i in 1:length(new_words)){\n",
        "  new_user_word(cutter, new_words[i])\n",
        "}"
      ],
      "execution_count": 17,
      "outputs": []
    },
    {
      "cell_type": "code",
      "metadata": {
        "id": "9AEi4A-yhpni"
      },
      "source": [
        "content <-str_remove_all(content,\"[0-9a-zA-Z]+?\")\n",
        "cutter[content]"
      ],
      "execution_count": null,
      "outputs": []
    },
    {
      "cell_type": "code",
      "metadata": {
        "id": "UNqPxeLDi44s"
      },
      "source": [
        "new_words <- c(\"為什麼\",\"川普\",\"當了\",\"副總統\",\"全面的\",\"就在\",\"四年前\",\"個人的\",\"選擇的\",\"反覆再三\",\"另一個\",\"則是\",\"有利的\",\"同時\",\"對比\")\n",
        "writeLines(new_words,\"new_words.txt\")"
      ],
      "execution_count": 19,
      "outputs": []
    },
    {
      "cell_type": "code",
      "metadata": {
        "id": "TRY-P3e5jcjz"
      },
      "source": [
        "stop_words <- c(\"會\",\"有\",\"又\",\"了\",\"但\",\"也\",\"對\",\"的\",\"都\",\"很\",\"從\",\"並\",\"和\",\"是\",\"在\",\"個\",\"中\",\"讓\",\"時\",\"也\",\"我\",\"他\",\"人\")\n",
        "writeLines(stop_words,\"stop_words.txt\")"
      ],
      "execution_count": 29,
      "outputs": []
    },
    {
      "cell_type": "code",
      "metadata": {
        "id": "9xqbMN3Hkg-h",
        "outputId": "4a7e404a-1b18-4c00-889a-b51deae3950a",
        "colab": {
          "base_uri": "https://localhost:8080/",
          "height": 119
        }
      },
      "source": [
        "cutter <- worker(user = \"new_words.txt\",stop_word = \"stop_words.txt\",\n",
        "bylines= FALSE)\n",
        "seg_words <- cutter[content]\n",
        "seg_words"
      ],
      "execution_count": 30,
      "outputs": [
        {
          "output_type": "display_data",
          "data": {
            "text/plain": [
              "  [1] \"接下來\"   \"肯定\"     \"很多\"     \"文章\"     \"討論\"     \"為什麼\"  \n",
              "  [7] \"民調\"     \"失準\"     \"認為\"     \"其中\"     \"一個\"     \"關鍵因素\"\n",
              " [13] \"在於\"     \"議題\"     \"取向\"     \"勝於\"     \"人選\"     \"好惡\"    \n",
              " [19] \"這次\"     \"選舉\"     \"特質\"     \"川普\"     \"當了\"     \"三年\"    \n",
              " [25] \"多\"       \"總統\"     \"講了\"     \"很多\"     \"話\"       \"做\"      \n",
              " [31] \"很多\"     \"事\"       \"人們\"     \"評價\"     \"已經\"     \"清楚\"    \n",
              " [37] \"拜登\"     \"從政\"     \"多年\"     \"當過\"     \"副總統\"   \"這次\"    \n",
              " [43] \"選舉\"     \"儘管\"     \"川普\"     \"競選\"     \"連任\"     \"兩人\"    \n",
              " [49] \"很多\"     \"從政\"     \"包袱\"     \"川普\"     \"要\"       \"面對\"    \n",
              " [55] \"不滿\"     \"全面的\"   \"反撲\"     \"其實\"     \"就在\"     \"四年前\"  \n",
              " [61] \"美國\"     \"民眾\"     \"才\"       \"用\"       \"選票\"     \"表達\"    \n",
              " [67] \"民主黨\"   \"政府\"     \"不滿\"     \"而\"       \"拜登\"     \"還是\"    \n",
              " [73] \"那個\"     \"政府\"     \"副總統\"   \"這裡\"     \"可以\"     \"知道\"    \n",
              " [79] \"候選人\"   \"人設\"     \"這次\"     \"選舉\"     \"當中\"     \"不是\"    \n",
              " [85] \"問題\"     \"因為\"     \"大家\"     \"川普\"     \"拜登\"     \"個人的\"  \n",
              " [91] \"紀錄\"     \"相當\"     \"熟悉\"     \"取而代之\" \"議題\"     \"態度\"    \n",
              " [97] \"這成\"     \"為\"       \"美國\"     \"民眾\"     \"選擇的\"   \"關鍵\"    \n",
              "[103] \"拜登\"     \"陣營\"     \"顯然\"     \"不太\"     \"擅長\"     \"處理\"    \n",
              "[109] \"議題\"     \"表態\"     \"因為\"     \"拜登\"     \"本人\"     \"從政\"    \n",
              "[115] \"四十多年\" \"長時間\"   \"沒有\"     \"特定\"     \"立場\"     \"民意代表\"\n",
              "[121] \"從政\"     \"歷程\"     \"對於\"     \"司法\"     \"以及\"     \"種族問題\"\n",
              "[127] \"甚至\"     \"能源\"     \"問題\"     \"表態\"     \"沒有\"     \"一致\"    \n",
              "[133] \"軌跡\"     \"這次\"     \"選舉\"     \"反覆再三\" \"川普\"     \"則是\"    \n",
              "[139] \"另\"       \"一個\"     \"非常\"     \"鮮明\"     \"反例\"     \"敢於\"    \n",
              "[145] \"表態\"     \"而且\"     \"不惜\"     \"得罪\"     \"其他人\"   \"這種\"    \n",
              "[151] \"作風\"     \"或許\"     \"很多\"     \"爭議\"     \"但是\"     \"以\"      \n",
              "[157] \"議題\"     \"為主\"     \"選戰\"     \"當中\"     \"卻是\"     \"相當\"    \n",
              "[163] \"有利的\"   \"因為\"     \"比起\"     \"拜登\"     \"閃躲\"     \"模糊\"    \n",
              "[169] \"川普\"     \"直白\"     \"選民\"     \"抉擇\"     \"更加\"     \"清楚\"    \n",
              "[175] \"簡單\"     \"最後\"     \"不管\"     \"民調\"     \"怎麼\"     \"回答\"    \n",
              "[181] \"問到\"     \"議題\"     \"立場\"     \"選民\"     \"知道\"     \"川普\"    \n",
              "[187] \"立場\"     \"因此\"     \"能夠\"     \"決定\"     \"支持\"     \"與否\"    \n",
              "[193] \"這就\"     \"造成\"     \"目前\"     \"選舉\"     \"跌破眼鏡\" \"結果\"    \n",
              "[199] \"以下\"     \"搭配\"     \"目前\"     \"有點\"     \"跌破\"     \"大家\"    \n",
              "[205] \"眼鏡\"     \"幾個\"     \"搖擺\"     \"州來\"     \"進行\"     \"分析\"    \n",
              "[211] \"同時\"     \"對比\"     \"一下\"     \"拜登\"     \"與\"       \"川普\"    \n",
              "[217] \"議題\"     \"表態\"     \"上\"       \"導致\"     \"怎樣\"     \"選民\"    \n",
              "[223] \"投票\"     \"行為\"     \"轉變\"    "
            ],
            "text/latex": "\\begin{enumerate*}\n\\item '接下來'\n\\item '肯定'\n\\item '很多'\n\\item '文章'\n\\item '討論'\n\\item '為什麼'\n\\item '民調'\n\\item '失準'\n\\item '認為'\n\\item '其中'\n\\item '一個'\n\\item '關鍵因素'\n\\item '在於'\n\\item '議題'\n\\item '取向'\n\\item '勝於'\n\\item '人選'\n\\item '好惡'\n\\item '這次'\n\\item '選舉'\n\\item '特質'\n\\item '川普'\n\\item '當了'\n\\item '三年'\n\\item '多'\n\\item '總統'\n\\item '講了'\n\\item '很多'\n\\item '話'\n\\item '做'\n\\item '很多'\n\\item '事'\n\\item '人們'\n\\item '評價'\n\\item '已經'\n\\item '清楚'\n\\item '拜登'\n\\item '從政'\n\\item '多年'\n\\item '當過'\n\\item '副總統'\n\\item '這次'\n\\item '選舉'\n\\item '儘管'\n\\item '川普'\n\\item '競選'\n\\item '連任'\n\\item '兩人'\n\\item '很多'\n\\item '從政'\n\\item '包袱'\n\\item '川普'\n\\item '要'\n\\item '面對'\n\\item '不滿'\n\\item '全面的'\n\\item '反撲'\n\\item '其實'\n\\item '就在'\n\\item '四年前'\n\\item '美國'\n\\item '民眾'\n\\item '才'\n\\item '用'\n\\item '選票'\n\\item '表達'\n\\item '民主黨'\n\\item '政府'\n\\item '不滿'\n\\item '而'\n\\item '拜登'\n\\item '還是'\n\\item '那個'\n\\item '政府'\n\\item '副總統'\n\\item '這裡'\n\\item '可以'\n\\item '知道'\n\\item '候選人'\n\\item '人設'\n\\item '這次'\n\\item '選舉'\n\\item '當中'\n\\item '不是'\n\\item '問題'\n\\item '因為'\n\\item '大家'\n\\item '川普'\n\\item '拜登'\n\\item '個人的'\n\\item '紀錄'\n\\item '相當'\n\\item '熟悉'\n\\item '取而代之'\n\\item '議題'\n\\item '態度'\n\\item '這成'\n\\item '為'\n\\item '美國'\n\\item '民眾'\n\\item '選擇的'\n\\item '關鍵'\n\\item '拜登'\n\\item '陣營'\n\\item '顯然'\n\\item '不太'\n\\item '擅長'\n\\item '處理'\n\\item '議題'\n\\item '表態'\n\\item '因為'\n\\item '拜登'\n\\item '本人'\n\\item '從政'\n\\item '四十多年'\n\\item '長時間'\n\\item '沒有'\n\\item '特定'\n\\item '立場'\n\\item '民意代表'\n\\item '從政'\n\\item '歷程'\n\\item '對於'\n\\item '司法'\n\\item '以及'\n\\item '種族問題'\n\\item '甚至'\n\\item '能源'\n\\item '問題'\n\\item '表態'\n\\item '沒有'\n\\item '一致'\n\\item '軌跡'\n\\item '這次'\n\\item '選舉'\n\\item '反覆再三'\n\\item '川普'\n\\item '則是'\n\\item '另'\n\\item '一個'\n\\item '非常'\n\\item '鮮明'\n\\item '反例'\n\\item '敢於'\n\\item '表態'\n\\item '而且'\n\\item '不惜'\n\\item '得罪'\n\\item '其他人'\n\\item '這種'\n\\item '作風'\n\\item '或許'\n\\item '很多'\n\\item '爭議'\n\\item '但是'\n\\item '以'\n\\item '議題'\n\\item '為主'\n\\item '選戰'\n\\item '當中'\n\\item '卻是'\n\\item '相當'\n\\item '有利的'\n\\item '因為'\n\\item '比起'\n\\item '拜登'\n\\item '閃躲'\n\\item '模糊'\n\\item '川普'\n\\item '直白'\n\\item '選民'\n\\item '抉擇'\n\\item '更加'\n\\item '清楚'\n\\item '簡單'\n\\item '最後'\n\\item '不管'\n\\item '民調'\n\\item '怎麼'\n\\item '回答'\n\\item '問到'\n\\item '議題'\n\\item '立場'\n\\item '選民'\n\\item '知道'\n\\item '川普'\n\\item '立場'\n\\item '因此'\n\\item '能夠'\n\\item '決定'\n\\item '支持'\n\\item '與否'\n\\item '這就'\n\\item '造成'\n\\item '目前'\n\\item '選舉'\n\\item '跌破眼鏡'\n\\item '結果'\n\\item '以下'\n\\item '搭配'\n\\item '目前'\n\\item '有點'\n\\item '跌破'\n\\item '大家'\n\\item '眼鏡'\n\\item '幾個'\n\\item '搖擺'\n\\item '州來'\n\\item '進行'\n\\item '分析'\n\\item '同時'\n\\item '對比'\n\\item '一下'\n\\item '拜登'\n\\item '與'\n\\item '川普'\n\\item '議題'\n\\item '表態'\n\\item '上'\n\\item '導致'\n\\item '怎樣'\n\\item '選民'\n\\item '投票'\n\\item '行為'\n\\item '轉變'\n\\end{enumerate*}\n",
            "text/markdown": "1. '接下來'\n2. '肯定'\n3. '很多'\n4. '文章'\n5. '討論'\n6. '為什麼'\n7. '民調'\n8. '失準'\n9. '認為'\n10. '其中'\n11. '一個'\n12. '關鍵因素'\n13. '在於'\n14. '議題'\n15. '取向'\n16. '勝於'\n17. '人選'\n18. '好惡'\n19. '這次'\n20. '選舉'\n21. '特質'\n22. '川普'\n23. '當了'\n24. '三年'\n25. '多'\n26. '總統'\n27. '講了'\n28. '很多'\n29. '話'\n30. '做'\n31. '很多'\n32. '事'\n33. '人們'\n34. '評價'\n35. '已經'\n36. '清楚'\n37. '拜登'\n38. '從政'\n39. '多年'\n40. '當過'\n41. '副總統'\n42. '這次'\n43. '選舉'\n44. '儘管'\n45. '川普'\n46. '競選'\n47. '連任'\n48. '兩人'\n49. '很多'\n50. '從政'\n51. '包袱'\n52. '川普'\n53. '要'\n54. '面對'\n55. '不滿'\n56. '全面的'\n57. '反撲'\n58. '其實'\n59. '就在'\n60. '四年前'\n61. '美國'\n62. '民眾'\n63. '才'\n64. '用'\n65. '選票'\n66. '表達'\n67. '民主黨'\n68. '政府'\n69. '不滿'\n70. '而'\n71. '拜登'\n72. '還是'\n73. '那個'\n74. '政府'\n75. '副總統'\n76. '這裡'\n77. '可以'\n78. '知道'\n79. '候選人'\n80. '人設'\n81. '這次'\n82. '選舉'\n83. '當中'\n84. '不是'\n85. '問題'\n86. '因為'\n87. '大家'\n88. '川普'\n89. '拜登'\n90. '個人的'\n91. '紀錄'\n92. '相當'\n93. '熟悉'\n94. '取而代之'\n95. '議題'\n96. '態度'\n97. '這成'\n98. '為'\n99. '美國'\n100. '民眾'\n101. '選擇的'\n102. '關鍵'\n103. '拜登'\n104. '陣營'\n105. '顯然'\n106. '不太'\n107. '擅長'\n108. '處理'\n109. '議題'\n110. '表態'\n111. '因為'\n112. '拜登'\n113. '本人'\n114. '從政'\n115. '四十多年'\n116. '長時間'\n117. '沒有'\n118. '特定'\n119. '立場'\n120. '民意代表'\n121. '從政'\n122. '歷程'\n123. '對於'\n124. '司法'\n125. '以及'\n126. '種族問題'\n127. '甚至'\n128. '能源'\n129. '問題'\n130. '表態'\n131. '沒有'\n132. '一致'\n133. '軌跡'\n134. '這次'\n135. '選舉'\n136. '反覆再三'\n137. '川普'\n138. '則是'\n139. '另'\n140. '一個'\n141. '非常'\n142. '鮮明'\n143. '反例'\n144. '敢於'\n145. '表態'\n146. '而且'\n147. '不惜'\n148. '得罪'\n149. '其他人'\n150. '這種'\n151. '作風'\n152. '或許'\n153. '很多'\n154. '爭議'\n155. '但是'\n156. '以'\n157. '議題'\n158. '為主'\n159. '選戰'\n160. '當中'\n161. '卻是'\n162. '相當'\n163. '有利的'\n164. '因為'\n165. '比起'\n166. '拜登'\n167. '閃躲'\n168. '模糊'\n169. '川普'\n170. '直白'\n171. '選民'\n172. '抉擇'\n173. '更加'\n174. '清楚'\n175. '簡單'\n176. '最後'\n177. '不管'\n178. '民調'\n179. '怎麼'\n180. '回答'\n181. '問到'\n182. '議題'\n183. '立場'\n184. '選民'\n185. '知道'\n186. '川普'\n187. '立場'\n188. '因此'\n189. '能夠'\n190. '決定'\n191. '支持'\n192. '與否'\n193. '這就'\n194. '造成'\n195. '目前'\n196. '選舉'\n197. '跌破眼鏡'\n198. '結果'\n199. '以下'\n200. '搭配'\n201. '目前'\n202. '有點'\n203. '跌破'\n204. '大家'\n205. '眼鏡'\n206. '幾個'\n207. '搖擺'\n208. '州來'\n209. '進行'\n210. '分析'\n211. '同時'\n212. '對比'\n213. '一下'\n214. '拜登'\n215. '與'\n216. '川普'\n217. '議題'\n218. '表態'\n219. '上'\n220. '導致'\n221. '怎樣'\n222. '選民'\n223. '投票'\n224. '行為'\n225. '轉變'\n\n\n",
            "text/html": [
              "<style>\n",
              ".list-inline {list-style: none; margin:0; padding: 0}\n",
              ".list-inline>li {display: inline-block}\n",
              ".list-inline>li:not(:last-child)::after {content: \"\\00b7\"; padding: 0 .5ex}\n",
              "</style>\n",
              "<ol class=list-inline><li>'接下來'</li><li>'肯定'</li><li>'很多'</li><li>'文章'</li><li>'討論'</li><li>'為什麼'</li><li>'民調'</li><li>'失準'</li><li>'認為'</li><li>'其中'</li><li>'一個'</li><li>'關鍵因素'</li><li>'在於'</li><li>'議題'</li><li>'取向'</li><li>'勝於'</li><li>'人選'</li><li>'好惡'</li><li>'這次'</li><li>'選舉'</li><li>'特質'</li><li>'川普'</li><li>'當了'</li><li>'三年'</li><li>'多'</li><li>'總統'</li><li>'講了'</li><li>'很多'</li><li>'話'</li><li>'做'</li><li>'很多'</li><li>'事'</li><li>'人們'</li><li>'評價'</li><li>'已經'</li><li>'清楚'</li><li>'拜登'</li><li>'從政'</li><li>'多年'</li><li>'當過'</li><li>'副總統'</li><li>'這次'</li><li>'選舉'</li><li>'儘管'</li><li>'川普'</li><li>'競選'</li><li>'連任'</li><li>'兩人'</li><li>'很多'</li><li>'從政'</li><li>'包袱'</li><li>'川普'</li><li>'要'</li><li>'面對'</li><li>'不滿'</li><li>'全面的'</li><li>'反撲'</li><li>'其實'</li><li>'就在'</li><li>'四年前'</li><li>'美國'</li><li>'民眾'</li><li>'才'</li><li>'用'</li><li>'選票'</li><li>'表達'</li><li>'民主黨'</li><li>'政府'</li><li>'不滿'</li><li>'而'</li><li>'拜登'</li><li>'還是'</li><li>'那個'</li><li>'政府'</li><li>'副總統'</li><li>'這裡'</li><li>'可以'</li><li>'知道'</li><li>'候選人'</li><li>'人設'</li><li>'這次'</li><li>'選舉'</li><li>'當中'</li><li>'不是'</li><li>'問題'</li><li>'因為'</li><li>'大家'</li><li>'川普'</li><li>'拜登'</li><li>'個人的'</li><li>'紀錄'</li><li>'相當'</li><li>'熟悉'</li><li>'取而代之'</li><li>'議題'</li><li>'態度'</li><li>'這成'</li><li>'為'</li><li>'美國'</li><li>'民眾'</li><li>'選擇的'</li><li>'關鍵'</li><li>'拜登'</li><li>'陣營'</li><li>'顯然'</li><li>'不太'</li><li>'擅長'</li><li>'處理'</li><li>'議題'</li><li>'表態'</li><li>'因為'</li><li>'拜登'</li><li>'本人'</li><li>'從政'</li><li>'四十多年'</li><li>'長時間'</li><li>'沒有'</li><li>'特定'</li><li>'立場'</li><li>'民意代表'</li><li>'從政'</li><li>'歷程'</li><li>'對於'</li><li>'司法'</li><li>'以及'</li><li>'種族問題'</li><li>'甚至'</li><li>'能源'</li><li>'問題'</li><li>'表態'</li><li>'沒有'</li><li>'一致'</li><li>'軌跡'</li><li>'這次'</li><li>'選舉'</li><li>'反覆再三'</li><li>'川普'</li><li>'則是'</li><li>'另'</li><li>'一個'</li><li>'非常'</li><li>'鮮明'</li><li>'反例'</li><li>'敢於'</li><li>'表態'</li><li>'而且'</li><li>'不惜'</li><li>'得罪'</li><li>'其他人'</li><li>'這種'</li><li>'作風'</li><li>'或許'</li><li>'很多'</li><li>'爭議'</li><li>'但是'</li><li>'以'</li><li>'議題'</li><li>'為主'</li><li>'選戰'</li><li>'當中'</li><li>'卻是'</li><li>'相當'</li><li>'有利的'</li><li>'因為'</li><li>'比起'</li><li>'拜登'</li><li>'閃躲'</li><li>'模糊'</li><li>'川普'</li><li>'直白'</li><li>'選民'</li><li>'抉擇'</li><li>'更加'</li><li>'清楚'</li><li>'簡單'</li><li>'最後'</li><li>'不管'</li><li>'民調'</li><li>'怎麼'</li><li>'回答'</li><li>'問到'</li><li>'議題'</li><li>'立場'</li><li>'選民'</li><li>'知道'</li><li>'川普'</li><li>'立場'</li><li>'因此'</li><li>'能夠'</li><li>'決定'</li><li>'支持'</li><li>'與否'</li><li>'這就'</li><li>'造成'</li><li>'目前'</li><li>'選舉'</li><li>'跌破眼鏡'</li><li>'結果'</li><li>'以下'</li><li>'搭配'</li><li>'目前'</li><li>'有點'</li><li>'跌破'</li><li>'大家'</li><li>'眼鏡'</li><li>'幾個'</li><li>'搖擺'</li><li>'州來'</li><li>'進行'</li><li>'分析'</li><li>'同時'</li><li>'對比'</li><li>'一下'</li><li>'拜登'</li><li>'與'</li><li>'川普'</li><li>'議題'</li><li>'表態'</li><li>'上'</li><li>'導致'</li><li>'怎樣'</li><li>'選民'</li><li>'投票'</li><li>'行為'</li><li>'轉變'</li></ol>\n"
            ]
          },
          "metadata": {
            "tags": []
          }
        }
      ]
    },
    {
      "cell_type": "code",
      "metadata": {
        "id": "Yr_BmB1umXMm"
      },
      "source": [
        "txt_freq <- freq(seg_words)\n",
        "txt_freq <- arrange(txt_freq,desc(freq))"
      ],
      "execution_count": 32,
      "outputs": []
    },
    {
      "cell_type": "code",
      "metadata": {
        "id": "kpSN3QmSmu00",
        "outputId": "c2be24aa-f2b0-469e-b2c9-ff9f8ec60099",
        "colab": {
          "base_uri": "https://localhost:8080/",
          "height": 221
        }
      },
      "source": [
        "head(txt_freq)"
      ],
      "execution_count": 33,
      "outputs": [
        {
          "output_type": "display_data",
          "data": {
            "text/plain": [
              "  char freq\n",
              "1 川普 8   \n",
              "2 拜登 7   \n",
              "3 議題 6   \n",
              "4 很多 5   \n",
              "5 選舉 5   \n",
              "6 從政 4   "
            ],
            "text/latex": "A data.frame: 6 × 2\n\\begin{tabular}{r|ll}\n  & char & freq\\\\\n  & <chr> & <dbl>\\\\\n\\hline\n\t1 & 川普 & 8\\\\\n\t2 & 拜登 & 7\\\\\n\t3 & 議題 & 6\\\\\n\t4 & 很多 & 5\\\\\n\t5 & 選舉 & 5\\\\\n\t6 & 從政 & 4\\\\\n\\end{tabular}\n",
            "text/markdown": "\nA data.frame: 6 × 2\n\n| <!--/--> | char &lt;chr&gt; | freq &lt;dbl&gt; |\n|---|---|---|\n| 1 | 川普 | 8 |\n| 2 | 拜登 | 7 |\n| 3 | 議題 | 6 |\n| 4 | 很多 | 5 |\n| 5 | 選舉 | 5 |\n| 6 | 從政 | 4 |\n\n",
            "text/html": [
              "<table>\n",
              "<caption>A data.frame: 6 × 2</caption>\n",
              "<thead>\n",
              "\t<tr><th></th><th scope=col>char</th><th scope=col>freq</th></tr>\n",
              "\t<tr><th></th><th scope=col>&lt;chr&gt;</th><th scope=col>&lt;dbl&gt;</th></tr>\n",
              "</thead>\n",
              "<tbody>\n",
              "\t<tr><th scope=row>1</th><td>川普</td><td>8</td></tr>\n",
              "\t<tr><th scope=row>2</th><td>拜登</td><td>7</td></tr>\n",
              "\t<tr><th scope=row>3</th><td>議題</td><td>6</td></tr>\n",
              "\t<tr><th scope=row>4</th><td>很多</td><td>5</td></tr>\n",
              "\t<tr><th scope=row>5</th><td>選舉</td><td>5</td></tr>\n",
              "\t<tr><th scope=row>6</th><td>從政</td><td>4</td></tr>\n",
              "</tbody>\n",
              "</table>\n"
            ]
          },
          "metadata": {
            "tags": []
          }
        }
      ]
    },
    {
      "cell_type": "code",
      "metadata": {
        "id": "NUFiyMUtn_rL",
        "outputId": "26872aa8-5ae8-41a0-fef7-57f5874aa250",
        "colab": {
          "base_uri": "https://localhost:8080/"
        }
      },
      "source": [
        "install.packages(\"showtext\")"
      ],
      "execution_count": 25,
      "outputs": [
        {
          "output_type": "stream",
          "text": [
            "Installing package into ‘/usr/local/lib/R/site-library’\n",
            "(as ‘lib’ is unspecified)\n",
            "\n",
            "also installing the dependencies ‘sysfonts’, ‘showtextdb’\n",
            "\n",
            "\n"
          ],
          "name": "stderr"
        }
      ]
    },
    {
      "cell_type": "code",
      "metadata": {
        "id": "vTbSIclsoZPg",
        "outputId": "adb0b2e0-5504-451c-96f8-d20598faf0ef",
        "colab": {
          "base_uri": "https://localhost:8080/"
        }
      },
      "source": [
        "library(showtext)"
      ],
      "execution_count": 26,
      "outputs": [
        {
          "output_type": "stream",
          "text": [
            "Loading required package: sysfonts\n",
            "\n",
            "Loading required package: showtextdb\n",
            "\n"
          ],
          "name": "stderr"
        }
      ]
    },
    {
      "cell_type": "code",
      "metadata": {
        "id": "Wv5KqnZ8p2kY",
        "outputId": "b272adae-07f7-4d07-a9cb-eec41f182aac",
        "colab": {
          "base_uri": "https://localhost:8080/"
        }
      },
      "source": [
        "showtext.auto(enable = TRUE)"
      ],
      "execution_count": 27,
      "outputs": [
        {
          "output_type": "stream",
          "text": [
            "'showtext.auto()' is now renamed to 'showtext_auto()'\n",
            "The old version still works, but consider using the new function in future code\n",
            "\n"
          ],
          "name": "stderr"
        }
      ]
    },
    {
      "cell_type": "code",
      "metadata": {
        "id": "i0njZhaSo0re",
        "outputId": "b327398f-2a9d-4de6-e25e-a6c3d9bd623d",
        "colab": {
          "base_uri": "https://localhost:8080/",
          "height": 1000
        }
      },
      "source": [
        "par(family=(\"Microsoft YaHei\"))\n",
        "wordcloud(txt_freq$char, txt_freq$freq,min.freq = 2, random.order = F,\n",
        "ordered.colors = F, colors = rainbow(nrow(txt_freq)))"
      ],
      "execution_count": 34,
      "outputs": [
        {
          "output_type": "stream",
          "text": [
            "Warning message in strwidth(words[i], cex = size[i], ...):\n",
            "“font family 'Microsoft YaHei' not found, will use 'wqy-microhei' instead”\n",
            "Warning message in strheight(words[i], cex = size[i], ...):\n",
            "“font family 'Microsoft YaHei' not found, will use 'sans' instead”\n",
            "Warning message in text.default(x1, y1, words[i], cex = size[i], offset = 0, srt = rotWord * :\n",
            "“font family 'Microsoft YaHei' not found, will use 'wqy-microhei' instead”\n",
            "Warning message in text.default(x1, y1, words[i], cex = size[i], offset = 0, srt = rotWord * :\n",
            "“font family 'Microsoft YaHei' not found, will use 'wqy-microhei' instead”\n",
            "Warning message in text.default(x1, y1, words[i], cex = size[i], offset = 0, srt = rotWord * :\n",
            "“font family 'Microsoft YaHei' not found, will use 'wqy-microhei' instead”\n",
            "Warning message in text.default(x1, y1, words[i], cex = size[i], offset = 0, srt = rotWord * :\n",
            "“font family 'Microsoft YaHei' not found, will use 'wqy-microhei' instead”\n",
            "Warning message in strwidth(words[i], cex = size[i], ...):\n",
            "“font family 'Microsoft YaHei' not found, will use 'wqy-microhei' instead”\n",
            "Warning message in strheight(words[i], cex = size[i], ...):\n",
            "“font family 'Microsoft YaHei' not found, will use 'sans' instead”\n",
            "Warning message in text.default(x1, y1, words[i], cex = size[i], offset = 0, srt = rotWord * :\n",
            "“font family 'Microsoft YaHei' not found, will use 'wqy-microhei' instead”\n",
            "Warning message in text.default(x1, y1, words[i], cex = size[i], offset = 0, srt = rotWord * :\n",
            "“font family 'Microsoft YaHei' not found, will use 'wqy-microhei' instead”\n",
            "Warning message in text.default(x1, y1, words[i], cex = size[i], offset = 0, srt = rotWord * :\n",
            "“font family 'Microsoft YaHei' not found, will use 'wqy-microhei' instead”\n",
            "Warning message in text.default(x1, y1, words[i], cex = size[i], offset = 0, srt = rotWord * :\n",
            "“font family 'Microsoft YaHei' not found, will use 'wqy-microhei' instead”\n",
            "Warning message in strwidth(words[i], cex = size[i], ...):\n",
            "“font family 'Microsoft YaHei' not found, will use 'wqy-microhei' instead”\n",
            "Warning message in strheight(words[i], cex = size[i], ...):\n",
            "“font family 'Microsoft YaHei' not found, will use 'sans' instead”\n",
            "Warning message in text.default(x1, y1, words[i], cex = size[i], offset = 0, srt = rotWord * :\n",
            "“font family 'Microsoft YaHei' not found, will use 'wqy-microhei' instead”\n",
            "Warning message in text.default(x1, y1, words[i], cex = size[i], offset = 0, srt = rotWord * :\n",
            "“font family 'Microsoft YaHei' not found, will use 'wqy-microhei' instead”\n",
            "Warning message in text.default(x1, y1, words[i], cex = size[i], offset = 0, srt = rotWord * :\n",
            "“font family 'Microsoft YaHei' not found, will use 'wqy-microhei' instead”\n",
            "Warning message in text.default(x1, y1, words[i], cex = size[i], offset = 0, srt = rotWord * :\n",
            "“font family 'Microsoft YaHei' not found, will use 'wqy-microhei' instead”\n",
            "Warning message in strwidth(words[i], cex = size[i], ...):\n",
            "“font family 'Microsoft YaHei' not found, will use 'wqy-microhei' instead”\n",
            "Warning message in strheight(words[i], cex = size[i], ...):\n",
            "“font family 'Microsoft YaHei' not found, will use 'sans' instead”\n",
            "Warning message in text.default(x1, y1, words[i], cex = size[i], offset = 0, srt = rotWord * :\n",
            "“font family 'Microsoft YaHei' not found, will use 'wqy-microhei' instead”\n",
            "Warning message in text.default(x1, y1, words[i], cex = size[i], offset = 0, srt = rotWord * :\n",
            "“font family 'Microsoft YaHei' not found, will use 'wqy-microhei' instead”\n",
            "Warning message in text.default(x1, y1, words[i], cex = size[i], offset = 0, srt = rotWord * :\n",
            "“font family 'Microsoft YaHei' not found, will use 'wqy-microhei' instead”\n",
            "Warning message in text.default(x1, y1, words[i], cex = size[i], offset = 0, srt = rotWord * :\n",
            "“font family 'Microsoft YaHei' not found, will use 'wqy-microhei' instead”\n",
            "Warning message in strwidth(words[i], cex = size[i], ...):\n",
            "“font family 'Microsoft YaHei' not found, will use 'wqy-microhei' instead”\n",
            "Warning message in text.default(x1, y1, words[i], cex = size[i], offset = 0, srt = rotWord * :\n",
            "“font family 'Microsoft YaHei' not found, will use 'wqy-microhei' instead”\n",
            "Warning message in text.default(x1, y1, words[i], cex = size[i], offset = 0, srt = rotWord * :\n",
            "“font family 'Microsoft YaHei' not found, will use 'wqy-microhei' instead”\n",
            "Warning message in text.default(x1, y1, words[i], cex = size[i], offset = 0, srt = rotWord * :\n",
            "“font family 'Microsoft YaHei' not found, will use 'wqy-microhei' instead”\n",
            "Warning message in text.default(x1, y1, words[i], cex = size[i], offset = 0, srt = rotWord * :\n",
            "“font family 'Microsoft YaHei' not found, will use 'wqy-microhei' instead”\n",
            "Warning message in strwidth(words[i], cex = size[i], ...):\n",
            "“font family 'Microsoft YaHei' not found, will use 'wqy-microhei' instead”\n",
            "Warning message in strheight(words[i], cex = size[i], ...):\n",
            "“font family 'Microsoft YaHei' not found, will use 'sans' instead”\n",
            "Warning message in text.default(x1, y1, words[i], cex = size[i], offset = 0, srt = rotWord * :\n",
            "“font family 'Microsoft YaHei' not found, will use 'wqy-microhei' instead”\n",
            "Warning message in text.default(x1, y1, words[i], cex = size[i], offset = 0, srt = rotWord * :\n",
            "“font family 'Microsoft YaHei' not found, will use 'wqy-microhei' instead”\n",
            "Warning message in text.default(x1, y1, words[i], cex = size[i], offset = 0, srt = rotWord * :\n",
            "“font family 'Microsoft YaHei' not found, will use 'wqy-microhei' instead”\n",
            "Warning message in text.default(x1, y1, words[i], cex = size[i], offset = 0, srt = rotWord * :\n",
            "“font family 'Microsoft YaHei' not found, will use 'wqy-microhei' instead”\n",
            "Warning message in strwidth(words[i], cex = size[i], ...):\n",
            "“font family 'Microsoft YaHei' not found, will use 'wqy-microhei' instead”\n",
            "Warning message in text.default(x1, y1, words[i], cex = size[i], offset = 0, srt = rotWord * :\n",
            "“font family 'Microsoft YaHei' not found, will use 'wqy-microhei' instead”\n",
            "Warning message in text.default(x1, y1, words[i], cex = size[i], offset = 0, srt = rotWord * :\n",
            "“font family 'Microsoft YaHei' not found, will use 'wqy-microhei' instead”\n",
            "Warning message in text.default(x1, y1, words[i], cex = size[i], offset = 0, srt = rotWord * :\n",
            "“font family 'Microsoft YaHei' not found, will use 'wqy-microhei' instead”\n",
            "Warning message in text.default(x1, y1, words[i], cex = size[i], offset = 0, srt = rotWord * :\n",
            "“font family 'Microsoft YaHei' not found, will use 'wqy-microhei' instead”\n",
            "Warning message in strwidth(words[i], cex = size[i], ...):\n",
            "“font family 'Microsoft YaHei' not found, will use 'wqy-microhei' instead”\n",
            "Warning message in text.default(x1, y1, words[i], cex = size[i], offset = 0, srt = rotWord * :\n",
            "“font family 'Microsoft YaHei' not found, will use 'wqy-microhei' instead”\n",
            "Warning message in text.default(x1, y1, words[i], cex = size[i], offset = 0, srt = rotWord * :\n",
            "“font family 'Microsoft YaHei' not found, will use 'wqy-microhei' instead”\n",
            "Warning message in text.default(x1, y1, words[i], cex = size[i], offset = 0, srt = rotWord * :\n",
            "“font family 'Microsoft YaHei' not found, will use 'wqy-microhei' instead”\n",
            "Warning message in text.default(x1, y1, words[i], cex = size[i], offset = 0, srt = rotWord * :\n",
            "“font family 'Microsoft YaHei' not found, will use 'wqy-microhei' instead”\n",
            "Warning message in strwidth(words[i], cex = size[i], ...):\n",
            "“font family 'Microsoft YaHei' not found, will use 'wqy-microhei' instead”\n",
            "Warning message in strheight(words[i], cex = size[i], ...):\n",
            "“font family 'Microsoft YaHei' not found, will use 'sans' instead”\n",
            "Warning message in text.default(x1, y1, words[i], cex = size[i], offset = 0, srt = rotWord * :\n",
            "“font family 'Microsoft YaHei' not found, will use 'wqy-microhei' instead”\n",
            "Warning message in text.default(x1, y1, words[i], cex = size[i], offset = 0, srt = rotWord * :\n",
            "“font family 'Microsoft YaHei' not found, will use 'wqy-microhei' instead”\n",
            "Warning message in text.default(x1, y1, words[i], cex = size[i], offset = 0, srt = rotWord * :\n",
            "“font family 'Microsoft YaHei' not found, will use 'wqy-microhei' instead”\n",
            "Warning message in text.default(x1, y1, words[i], cex = size[i], offset = 0, srt = rotWord * :\n",
            "“font family 'Microsoft YaHei' not found, will use 'wqy-microhei' instead”\n",
            "Warning message in strwidth(words[i], cex = size[i], ...):\n",
            "“font family 'Microsoft YaHei' not found, will use 'wqy-microhei' instead”\n",
            "Warning message in text.default(x1, y1, words[i], cex = size[i], offset = 0, srt = rotWord * :\n",
            "“font family 'Microsoft YaHei' not found, will use 'wqy-microhei' instead”\n",
            "Warning message in text.default(x1, y1, words[i], cex = size[i], offset = 0, srt = rotWord * :\n",
            "“font family 'Microsoft YaHei' not found, will use 'wqy-microhei' instead”\n",
            "Warning message in text.default(x1, y1, words[i], cex = size[i], offset = 0, srt = rotWord * :\n",
            "“font family 'Microsoft YaHei' not found, will use 'wqy-microhei' instead”\n",
            "Warning message in text.default(x1, y1, words[i], cex = size[i], offset = 0, srt = rotWord * :\n",
            "“font family 'Microsoft YaHei' not found, will use 'wqy-microhei' instead”\n",
            "Warning message in strwidth(words[i], cex = size[i], ...):\n",
            "“font family 'Microsoft YaHei' not found, will use 'wqy-microhei' instead”\n",
            "Warning message in text.default(x1, y1, words[i], cex = size[i], offset = 0, srt = rotWord * :\n",
            "“font family 'Microsoft YaHei' not found, will use 'wqy-microhei' instead”\n",
            "Warning message in text.default(x1, y1, words[i], cex = size[i], offset = 0, srt = rotWord * :\n",
            "“font family 'Microsoft YaHei' not found, will use 'wqy-microhei' instead”\n",
            "Warning message in text.default(x1, y1, words[i], cex = size[i], offset = 0, srt = rotWord * :\n",
            "“font family 'Microsoft YaHei' not found, will use 'wqy-microhei' instead”\n",
            "Warning message in text.default(x1, y1, words[i], cex = size[i], offset = 0, srt = rotWord * :\n",
            "“font family 'Microsoft YaHei' not found, will use 'wqy-microhei' instead”\n",
            "Warning message in strwidth(words[i], cex = size[i], ...):\n",
            "“font family 'Microsoft YaHei' not found, will use 'wqy-microhei' instead”\n",
            "Warning message in strheight(words[i], cex = size[i], ...):\n",
            "“font family 'Microsoft YaHei' not found, will use 'sans' instead”\n",
            "Warning message in text.default(x1, y1, words[i], cex = size[i], offset = 0, srt = rotWord * :\n",
            "“font family 'Microsoft YaHei' not found, will use 'wqy-microhei' instead”\n",
            "Warning message in text.default(x1, y1, words[i], cex = size[i], offset = 0, srt = rotWord * :\n",
            "“font family 'Microsoft YaHei' not found, will use 'wqy-microhei' instead”\n",
            "Warning message in text.default(x1, y1, words[i], cex = size[i], offset = 0, srt = rotWord * :\n",
            "“font family 'Microsoft YaHei' not found, will use 'wqy-microhei' instead”\n",
            "Warning message in text.default(x1, y1, words[i], cex = size[i], offset = 0, srt = rotWord * :\n",
            "“font family 'Microsoft YaHei' not found, will use 'wqy-microhei' instead”\n",
            "Warning message in strwidth(words[i], cex = size[i], ...):\n",
            "“font family 'Microsoft YaHei' not found, will use 'wqy-microhei' instead”\n",
            "Warning message in text.default(x1, y1, words[i], cex = size[i], offset = 0, srt = rotWord * :\n",
            "“font family 'Microsoft YaHei' not found, will use 'wqy-microhei' instead”\n",
            "Warning message in text.default(x1, y1, words[i], cex = size[i], offset = 0, srt = rotWord * :\n",
            "“font family 'Microsoft YaHei' not found, will use 'wqy-microhei' instead”\n",
            "Warning message in text.default(x1, y1, words[i], cex = size[i], offset = 0, srt = rotWord * :\n",
            "“font family 'Microsoft YaHei' not found, will use 'wqy-microhei' instead”\n",
            "Warning message in text.default(x1, y1, words[i], cex = size[i], offset = 0, srt = rotWord * :\n",
            "“font family 'Microsoft YaHei' not found, will use 'wqy-microhei' instead”\n",
            "Warning message in strwidth(words[i], cex = size[i], ...):\n",
            "“font family 'Microsoft YaHei' not found, will use 'wqy-microhei' instead”\n",
            "Warning message in text.default(x1, y1, words[i], cex = size[i], offset = 0, srt = rotWord * :\n",
            "“font family 'Microsoft YaHei' not found, will use 'wqy-microhei' instead”\n",
            "Warning message in text.default(x1, y1, words[i], cex = size[i], offset = 0, srt = rotWord * :\n",
            "“font family 'Microsoft YaHei' not found, will use 'wqy-microhei' instead”\n",
            "Warning message in text.default(x1, y1, words[i], cex = size[i], offset = 0, srt = rotWord * :\n",
            "“font family 'Microsoft YaHei' not found, will use 'wqy-microhei' instead”\n",
            "Warning message in text.default(x1, y1, words[i], cex = size[i], offset = 0, srt = rotWord * :\n",
            "“font family 'Microsoft YaHei' not found, will use 'wqy-microhei' instead”\n",
            "Warning message in strwidth(words[i], cex = size[i], ...):\n",
            "“font family 'Microsoft YaHei' not found, will use 'wqy-microhei' instead”\n",
            "Warning message in text.default(x1, y1, words[i], cex = size[i], offset = 0, srt = rotWord * :\n",
            "“font family 'Microsoft YaHei' not found, will use 'wqy-microhei' instead”\n",
            "Warning message in text.default(x1, y1, words[i], cex = size[i], offset = 0, srt = rotWord * :\n",
            "“font family 'Microsoft YaHei' not found, will use 'wqy-microhei' instead”\n",
            "Warning message in text.default(x1, y1, words[i], cex = size[i], offset = 0, srt = rotWord * :\n",
            "“font family 'Microsoft YaHei' not found, will use 'wqy-microhei' instead”\n",
            "Warning message in text.default(x1, y1, words[i], cex = size[i], offset = 0, srt = rotWord * :\n",
            "“font family 'Microsoft YaHei' not found, will use 'wqy-microhei' instead”\n",
            "Warning message in strwidth(words[i], cex = size[i], ...):\n",
            "“font family 'Microsoft YaHei' not found, will use 'wqy-microhei' instead”\n",
            "Warning message in text.default(x1, y1, words[i], cex = size[i], offset = 0, srt = rotWord * :\n",
            "“font family 'Microsoft YaHei' not found, will use 'wqy-microhei' instead”\n",
            "Warning message in text.default(x1, y1, words[i], cex = size[i], offset = 0, srt = rotWord * :\n",
            "“font family 'Microsoft YaHei' not found, will use 'wqy-microhei' instead”\n",
            "Warning message in text.default(x1, y1, words[i], cex = size[i], offset = 0, srt = rotWord * :\n",
            "“font family 'Microsoft YaHei' not found, will use 'wqy-microhei' instead”\n",
            "Warning message in text.default(x1, y1, words[i], cex = size[i], offset = 0, srt = rotWord * :\n",
            "“font family 'Microsoft YaHei' not found, will use 'wqy-microhei' instead”\n",
            "Warning message in strwidth(words[i], cex = size[i], ...):\n",
            "“font family 'Microsoft YaHei' not found, will use 'wqy-microhei' instead”\n",
            "Warning message in text.default(x1, y1, words[i], cex = size[i], offset = 0, srt = rotWord * :\n",
            "“font family 'Microsoft YaHei' not found, will use 'wqy-microhei' instead”\n",
            "Warning message in text.default(x1, y1, words[i], cex = size[i], offset = 0, srt = rotWord * :\n",
            "“font family 'Microsoft YaHei' not found, will use 'wqy-microhei' instead”\n",
            "Warning message in text.default(x1, y1, words[i], cex = size[i], offset = 0, srt = rotWord * :\n",
            "“font family 'Microsoft YaHei' not found, will use 'wqy-microhei' instead”\n",
            "Warning message in text.default(x1, y1, words[i], cex = size[i], offset = 0, srt = rotWord * :\n",
            "“font family 'Microsoft YaHei' not found, will use 'wqy-microhei' instead”\n",
            "Warning message in strwidth(words[i], cex = size[i], ...):\n",
            "“font family 'Microsoft YaHei' not found, will use 'wqy-microhei' instead”\n",
            "Warning message in text.default(x1, y1, words[i], cex = size[i], offset = 0, srt = rotWord * :\n",
            "“font family 'Microsoft YaHei' not found, will use 'wqy-microhei' instead”\n",
            "Warning message in text.default(x1, y1, words[i], cex = size[i], offset = 0, srt = rotWord * :\n",
            "“font family 'Microsoft YaHei' not found, will use 'wqy-microhei' instead”\n",
            "Warning message in text.default(x1, y1, words[i], cex = size[i], offset = 0, srt = rotWord * :\n",
            "“font family 'Microsoft YaHei' not found, will use 'wqy-microhei' instead”\n",
            "Warning message in text.default(x1, y1, words[i], cex = size[i], offset = 0, srt = rotWord * :\n",
            "“font family 'Microsoft YaHei' not found, will use 'wqy-microhei' instead”\n",
            "Warning message in strwidth(words[i], cex = size[i], ...):\n",
            "“font family 'Microsoft YaHei' not found, will use 'wqy-microhei' instead”\n",
            "Warning message in text.default(x1, y1, words[i], cex = size[i], offset = 0, srt = rotWord * :\n",
            "“font family 'Microsoft YaHei' not found, will use 'wqy-microhei' instead”\n",
            "Warning message in text.default(x1, y1, words[i], cex = size[i], offset = 0, srt = rotWord * :\n",
            "“font family 'Microsoft YaHei' not found, will use 'wqy-microhei' instead”\n",
            "Warning message in text.default(x1, y1, words[i], cex = size[i], offset = 0, srt = rotWord * :\n",
            "“font family 'Microsoft YaHei' not found, will use 'wqy-microhei' instead”\n",
            "Warning message in text.default(x1, y1, words[i], cex = size[i], offset = 0, srt = rotWord * :\n",
            "“font family 'Microsoft YaHei' not found, will use 'wqy-microhei' instead”\n",
            "Warning message in strwidth(words[i], cex = size[i], ...):\n",
            "“font family 'Microsoft YaHei' not found, will use 'wqy-microhei' instead”\n",
            "Warning message in text.default(x1, y1, words[i], cex = size[i], offset = 0, srt = rotWord * :\n",
            "“font family 'Microsoft YaHei' not found, will use 'wqy-microhei' instead”\n",
            "Warning message in text.default(x1, y1, words[i], cex = size[i], offset = 0, srt = rotWord * :\n",
            "“font family 'Microsoft YaHei' not found, will use 'wqy-microhei' instead”\n",
            "Warning message in text.default(x1, y1, words[i], cex = size[i], offset = 0, srt = rotWord * :\n",
            "“font family 'Microsoft YaHei' not found, will use 'wqy-microhei' instead”\n",
            "Warning message in text.default(x1, y1, words[i], cex = size[i], offset = 0, srt = rotWord * :\n",
            "“font family 'Microsoft YaHei' not found, will use 'wqy-microhei' instead”\n",
            "Warning message in strwidth(words[i], cex = size[i], ...):\n",
            "“font family 'Microsoft YaHei' not found, will use 'wqy-microhei' instead”\n",
            "Warning message in text.default(x1, y1, words[i], cex = size[i], offset = 0, srt = rotWord * :\n",
            "“font family 'Microsoft YaHei' not found, will use 'wqy-microhei' instead”\n",
            "Warning message in text.default(x1, y1, words[i], cex = size[i], offset = 0, srt = rotWord * :\n",
            "“font family 'Microsoft YaHei' not found, will use 'wqy-microhei' instead”\n",
            "Warning message in text.default(x1, y1, words[i], cex = size[i], offset = 0, srt = rotWord * :\n",
            "“font family 'Microsoft YaHei' not found, will use 'wqy-microhei' instead”\n",
            "Warning message in text.default(x1, y1, words[i], cex = size[i], offset = 0, srt = rotWord * :\n",
            "“font family 'Microsoft YaHei' not found, will use 'wqy-microhei' instead”\n",
            "Warning message in strwidth(words[i], cex = size[i], ...):\n",
            "“font family 'Microsoft YaHei' not found, will use 'wqy-microhei' instead”\n",
            "Warning message in text.default(x1, y1, words[i], cex = size[i], offset = 0, srt = rotWord * :\n",
            "“font family 'Microsoft YaHei' not found, will use 'wqy-microhei' instead”\n",
            "Warning message in text.default(x1, y1, words[i], cex = size[i], offset = 0, srt = rotWord * :\n",
            "“font family 'Microsoft YaHei' not found, will use 'wqy-microhei' instead”\n",
            "Warning message in text.default(x1, y1, words[i], cex = size[i], offset = 0, srt = rotWord * :\n",
            "“font family 'Microsoft YaHei' not found, will use 'wqy-microhei' instead”\n",
            "Warning message in text.default(x1, y1, words[i], cex = size[i], offset = 0, srt = rotWord * :\n",
            "“font family 'Microsoft YaHei' not found, will use 'wqy-microhei' instead”\n",
            "Warning message in text.default(x1, y1, words[i], cex = size[i], offset = 0, srt = rotWord * :\n",
            "“font family 'Microsoft YaHei' not found, will use 'wqy-microhei' instead”\n",
            "Warning message in strwidth(words[i], cex = size[i], ...):\n",
            "“font family 'Microsoft YaHei' not found, will use 'wqy-microhei' instead”\n",
            "Warning message in text.default(x1, y1, words[i], cex = size[i], offset = 0, srt = rotWord * :\n",
            "“font family 'Microsoft YaHei' not found, will use 'wqy-microhei' instead”\n",
            "Warning message in text.default(x1, y1, words[i], cex = size[i], offset = 0, srt = rotWord * :\n",
            "“font family 'Microsoft YaHei' not found, will use 'wqy-microhei' instead”\n",
            "Warning message in text.default(x1, y1, words[i], cex = size[i], offset = 0, srt = rotWord * :\n",
            "“font family 'Microsoft YaHei' not found, will use 'wqy-microhei' instead”\n",
            "Warning message in text.default(x1, y1, words[i], cex = size[i], offset = 0, srt = rotWord * :\n",
            "“font family 'Microsoft YaHei' not found, will use 'wqy-microhei' instead”\n",
            "Warning message in strwidth(words[i], cex = size[i], ...):\n",
            "“font family 'Microsoft YaHei' not found, will use 'wqy-microhei' instead”\n",
            "Warning message in text.default(x1, y1, words[i], cex = size[i], offset = 0, srt = rotWord * :\n",
            "“font family 'Microsoft YaHei' not found, will use 'wqy-microhei' instead”\n",
            "Warning message in text.default(x1, y1, words[i], cex = size[i], offset = 0, srt = rotWord * :\n",
            "“font family 'Microsoft YaHei' not found, will use 'wqy-microhei' instead”\n",
            "Warning message in text.default(x1, y1, words[i], cex = size[i], offset = 0, srt = rotWord * :\n",
            "“font family 'Microsoft YaHei' not found, will use 'wqy-microhei' instead”\n",
            "Warning message in text.default(x1, y1, words[i], cex = size[i], offset = 0, srt = rotWord * :\n",
            "“font family 'Microsoft YaHei' not found, will use 'wqy-microhei' instead”\n",
            "Warning message in strwidth(words[i], cex = size[i], ...):\n",
            "“font family 'Microsoft YaHei' not found, will use 'wqy-microhei' instead”\n",
            "Warning message in text.default(x1, y1, words[i], cex = size[i], offset = 0, srt = rotWord * :\n",
            "“font family 'Microsoft YaHei' not found, will use 'wqy-microhei' instead”\n",
            "Warning message in text.default(x1, y1, words[i], cex = size[i], offset = 0, srt = rotWord * :\n",
            "“font family 'Microsoft YaHei' not found, will use 'wqy-microhei' instead”\n",
            "Warning message in text.default(x1, y1, words[i], cex = size[i], offset = 0, srt = rotWord * :\n",
            "“font family 'Microsoft YaHei' not found, will use 'wqy-microhei' instead”\n",
            "Warning message in text.default(x1, y1, words[i], cex = size[i], offset = 0, srt = rotWord * :\n",
            "“font family 'Microsoft YaHei' not found, will use 'wqy-microhei' instead”\n",
            "Warning message in strwidth(words[i], cex = size[i], ...):\n",
            "“font family 'Microsoft YaHei' not found, will use 'wqy-microhei' instead”\n",
            "Warning message in text.default(x1, y1, words[i], cex = size[i], offset = 0, srt = rotWord * :\n",
            "“font family 'Microsoft YaHei' not found, will use 'wqy-microhei' instead”\n",
            "Warning message in text.default(x1, y1, words[i], cex = size[i], offset = 0, srt = rotWord * :\n",
            "“font family 'Microsoft YaHei' not found, will use 'wqy-microhei' instead”\n",
            "Warning message in text.default(x1, y1, words[i], cex = size[i], offset = 0, srt = rotWord * :\n",
            "“font family 'Microsoft YaHei' not found, will use 'wqy-microhei' instead”\n",
            "Warning message in text.default(x1, y1, words[i], cex = size[i], offset = 0, srt = rotWord * :\n",
            "“font family 'Microsoft YaHei' not found, will use 'wqy-microhei' instead”\n"
          ],
          "name": "stderr"
        },
        {
          "output_type": "display_data",
          "data": {
            "image/png": "[encoded data removed]",
            "text/plain": [
              "plot without title"
            ]
          },
          "metadata": {
            "tags": [],
            "image/png": {
              "width": 420,
              "height": 420
            }
          }
        }
      ]
    }
  ]
}