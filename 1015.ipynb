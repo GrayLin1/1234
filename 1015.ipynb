{
  "nbformat": 4,
  "nbformat_minor": 0,
  "metadata": {
    "colab": {
      "name": "1015.ipynb",
      "provenance": [],
      "collapsed_sections": [],
      "include_colab_link": true
    },
    "kernelspec": {
      "name": "ir",
      "display_name": "R"
    }
  },
  "cells": [
    {
      "cell_type": "markdown",
      "metadata": {
        "id": "view-in-github",
        "colab_type": "text"
      },
      "source": [
        "<a href=\"https://colab.research.google.com/github/GrayLin1/1234/blob/master/1015.ipynb\" target=\"_parent\"><img src=\"https://colab.research.google.com/assets/colab-badge.svg\" alt=\"Open In Colab\"/></a>"
      ]
    },
    {
      "cell_type": "code",
      "metadata": {
        "id": "VQwhk3UAWi01"
      },
      "source": [
        "a <-5 \n",
        "b <- 3.8\n",
        "c <- -1"
      ],
      "execution_count": 11,
      "outputs": []
    },
    {
      "cell_type": "code",
      "metadata": {
        "id": "f5nRO5RrXQZb"
      },
      "source": [
        "str(a)\n",
        "str(b)\n",
        "str(c)"
      ],
      "execution_count": null,
      "outputs": []
    },
    {
      "cell_type": "code",
      "metadata": {
        "id": "WF7gXDl4Xp1u"
      },
      "source": [
        "d <- \"Hello\"\n",
        "e <- \"Hi\""
      ],
      "execution_count": 13,
      "outputs": []
    },
    {
      "cell_type": "code",
      "metadata": {
        "id": "chCmGbSTX3It"
      },
      "source": [
        "str(d)\n",
        "str(e)"
      ],
      "execution_count": null,
      "outputs": []
    },
    {
      "cell_type": "code",
      "metadata": {
        "id": "Q_MEnw0PYJBj"
      },
      "source": [
        "f <- c(1,2,3,4,5)"
      ],
      "execution_count": 16,
      "outputs": []
    },
    {
      "cell_type": "code",
      "metadata": {
        "id": "Hi-BiOxkYSmy"
      },
      "source": [
        "g <- c(\"蔡英文\",\"賴清德\",\"蘇貞昌\")"
      ],
      "execution_count": 15,
      "outputs": []
    },
    {
      "cell_type": "code",
      "metadata": {
        "id": "esZd5cAVYq7U"
      },
      "source": [
        "f[2]\n",
        "g[3]\n",
        "g[c(1,2)]\n",
        "g[c(1,3)]"
      ],
      "execution_count": null,
      "outputs": []
    },
    {
      "cell_type": "code",
      "metadata": {
        "id": "41Ab0TvwZEV1"
      },
      "source": [
        "h <- c(1,2,3,4,5,6,7,8,9)\n",
        "i <- c(2,3,4,5,6,7,8,9,10)"
      ],
      "execution_count": 20,
      "outputs": []
    },
    {
      "cell_type": "code",
      "metadata": {
        "id": "wq-ROxfYZSWe"
      },
      "source": [
        "h * i\n",
        "h^3\n",
        "i > 5"
      ],
      "execution_count": null,
      "outputs": []
    },
    {
      "cell_type": "code",
      "metadata": {
        "id": "UMrJddR4asps"
      },
      "source": [
        "gender <- c(\"男\",\"女\",\"男\",\"男\",\"女\",\"中\")\n",
        "gender <- factor(gender)\n",
        "gender\n",
        "levels(gender)"
      ],
      "execution_count": null,
      "outputs": []
    },
    {
      "cell_type": "code",
      "metadata": {
        "id": "etKS_4EeccTJ"
      },
      "source": [
        "j <- matrix(c(1:6),nrow=3,ncol=2)\n",
        "j\n",
        "k <- matrix(c(7:12),nrow=2,ncol=3)\n",
        "k"
      ],
      "execution_count": null,
      "outputs": []
    },
    {
      "cell_type": "code",
      "metadata": {
        "id": "e5WME1uSgbXl"
      },
      "source": [
        "j[2,2]\n",
        "j[2,]\n",
        "j[,2]"
      ],
      "execution_count": null,
      "outputs": []
    },
    {
      "cell_type": "code",
      "metadata": {
        "id": "wkG9AHVyhDeW"
      },
      "source": [
        "tmp <- data.frame(Student_ID=c(1,2,3,4,5),\n",
        "          name=c(\"Helen\",\"Lun\",\"Leon\",\"Kevin\",\"Tommy\"),\n",
        "          score=c(80,36,88.9,97.5,60))\n",
        "tmp"
      ],
      "execution_count": null,
      "outputs": []
    },
    {
      "cell_type": "code",
      "metadata": {
        "id": "M-TsFVK9iciN"
      },
      "source": [
        "tmp[2,3]\n",
        "tmp[,2]\n",
        "tmp$name==\"Kevin\"\n",
        "tmp[tmp$name==\"Lun\",]\n",
        "tmp[tmp$name==\"Tommy\",]"
      ],
      "execution_count": null,
      "outputs": []
    },
    {
      "cell_type": "code",
      "metadata": {
        "id": "hwXfUWjYkch8",
        "outputId": "3b6dfc19-faff-43c3-8f4e-d87afde5ce00",
        "colab": {
          "base_uri": "https://localhost:8080/",
          "height": 68
        }
      },
      "source": [
        "install.packages(\"SportsAnalytics\")"
      ],
      "execution_count": 42,
      "outputs": [
        {
          "output_type": "stream",
          "text": [
            "Installing package into ‘/usr/local/lib/R/site-library’\n",
            "(as ‘lib’ is unspecified)\n",
            "\n"
          ],
          "name": "stderr"
        }
      ]
    },
    {
      "cell_type": "code",
      "metadata": {
        "id": "MKuQad74jhlg"
      },
      "source": [
        "library(SportsAnalytics)"
      ],
      "execution_count": 52,
      "outputs": []
    },
    {
      "cell_type": "code",
      "metadata": {
        "id": "ZrURrWd1kjhW"
      },
      "source": [
        "NBA1516 <- fetch_NBAPlayerStatistics(\"15-16\")"
      ],
      "execution_count": 53,
      "outputs": []
    },
    {
      "cell_type": "code",
      "metadata": {
        "id": "W2rUrOrMkzw9"
      },
      "source": [
        "str(NBA1516)"
      ],
      "execution_count": null,
      "outputs": []
    },
    {
      "cell_type": "code",
      "metadata": {
        "id": "6A7YR7u2lJ5D"
      },
      "source": [
        "head(NBA1516)"
      ],
      "execution_count": null,
      "outputs": []
    },
    {
      "cell_type": "code",
      "metadata": {
        "id": "UH-VrmoslT3M",
        "outputId": "f7141754-f295-4a7a-8471-b5bff7910823",
        "colab": {
          "base_uri": "https://localhost:8080/",
          "height": 634
        }
      },
      "source": [
        "NBA15160rder<-NBA1516[order(NBA1516$GamesPlayed,decreasing = T),]\n",
        "NBA15160rder[1:20,]"
      ],
      "execution_count": 55,
      "outputs": [
        {
          "output_type": "display_data",
          "data": {
            "text/plain": [
              "    League Name             Team Position GamesPlayed TotalMinutesPlayed\n",
              "11  NBA    Al-farouq Aminu  POR  SF       82          2342              \n",
              "37  NBA    Will Barton      DEN  SG       82          2355              \n",
              "48  NBA    Bismack Biyombo  TOR  PF       82          1810              \n",
              "62  NBA    Corey Brewer     HOU  SG       82          1670              \n",
              "118 NBA    Gorgui Dieng     MIN  C        82          2222              \n",
              "148 NBA    Langsto Galloway NYK  PG       82          2032              \n",
              "178 NBA    James Harden     HOU  SG       82          3121              \n",
              "208 NBA    Al Horford       ATL  PF       82          2638              \n",
              "246 NBA    Enes Kanter      OKL  C        82          1721              \n",
              "259 NBA    Zach Lavine      MIN  PG       82          2295              \n",
              "272 NBA    Robin Lopez      NYK  C        82          2213              \n",
              "320 NBA    Shabazz Muhammad MIN  SF       82          1678              \n",
              "357 NBA    Mason Plumlee    POR  PF       82          2087              \n",
              "394 NBA    Ramon Sessions   WAS  PG       82          1667              \n",
              "422 NBA    Isaiah Thomas    BOS  PG       82          2647              \n",
              "427 NBA    Tristan Thompson CLE  C        82          2269              \n",
              "431 NBA    Karl-antho Towns MIN  C        82          2621              \n",
              "432 NBA    P.j. Tucker      PHO  SF       82          2540              \n",
              "24  NBA    Trevor Ariza     HOU  SF       81          2860              \n",
              "41  NBA    Aron Baynes      DET  PF       81          1241              \n",
              "    FieldGoalsMade FieldGoalsAttempted ThreesMade ThreesAttempted ⋯ Steals\n",
              "11  299             719                126        349             ⋯  72   \n",
              "37  426             984                112        324             ⋯  71   \n",
              "48  156             288                  0          1             ⋯  19   \n",
              "62  212             552                 61        225             ⋯  84   \n",
              "118 308             578                  6         20             ⋯  94   \n",
              "148 231             588                 77        224             ⋯  77   \n",
              "178 710            1617                236        656             ⋯ 138   \n",
              "208 529            1049                 88        257             ⋯  67   \n",
              "246 415             720                 10         21             ⋯  26   \n",
              "259 433             960                123        316             ⋯  69   \n",
              "272 357             662                  0          1             ⋯  16   \n",
              "320 317             681                 44        152             ⋯  24   \n",
              "357 267             517                  0          4             ⋯  68   \n",
              "394 280             592                 36        111             ⋯  47   \n",
              "422 591            1382                167        465             ⋯  91   \n",
              "427 247             420                  0          0             ⋯  38   \n",
              "431 625            1152                 30         88             ⋯  58   \n",
              "432 239             582                 68        206             ⋯ 106   \n",
              "24  357             858                185        497             ⋯ 161   \n",
              "41  194             384                  0          2             ⋯  21   \n",
              "    Turnovers Blocks PersonalFouls Disqualifications TotalPoints Technicals\n",
              "11  120        53    171           0                  839        3         \n",
              "37  139        39    147           0                 1180        2         \n",
              "48   71       133    225           2                  454        3         \n",
              "62   78        19    168           1                  590        0         \n",
              "118 140        96    219           0                  827        1         \n",
              "148  61        22    177           2                  625        0         \n",
              "178 374        51    229           1                 2376        2         \n",
              "208 107       122    163           0                 1249        1         \n",
              "246 115        33    166           1                 1040        2         \n",
              "259 155        17    193           1                 1150        0         \n",
              "272 133       129    182           2                  842        3         \n",
              "320  70         7     94           0                  863        0         \n",
              "357 154        82    253           4                  749        1         \n",
              "394 115         5    102           0                  810        0         \n",
              "422 220         9    167           1                 1823        9         \n",
              "427  61        51    202           0                  643        1         \n",
              "431 183       138    245           1                 1503        2         \n",
              "432 111        20    202           3                  652        4         \n",
              "24  113        26    177           0                 1025        2         \n",
              "41   67        52    151           0                  514        0         \n",
              "    Ejections FlagrantFouls GamesStarted\n",
              "11  0         0             82          \n",
              "37  0         0              1          \n",
              "48  0         0             22          \n",
              "62  0         0             12          \n",
              "118 0         0             39          \n",
              "148 0         0              7          \n",
              "178 0         0             82          \n",
              "208 0         0             82          \n",
              "246 0         0              1          \n",
              "259 0         0             33          \n",
              "272 0         0             82          \n",
              "320 0         0              0          \n",
              "357 0         0             82          \n",
              "394 0         0              5          \n",
              "422 0         0             79          \n",
              "427 0         0             34          \n",
              "431 0         0             82          \n",
              "432 0         0             80          \n",
              "24  0         0             81          \n",
              "41  0         0              1          "
            ],
            "text/latex": "A data.frame: 20 × 25\n\\begin{tabular}{r|lllllllllllllllllllll}\n  & League & Name & Team & Position & GamesPlayed & TotalMinutesPlayed & FieldGoalsMade & FieldGoalsAttempted & ThreesMade & ThreesAttempted & ⋯ & Steals & Turnovers & Blocks & PersonalFouls & Disqualifications & TotalPoints & Technicals & Ejections & FlagrantFouls & GamesStarted\\\\\n  & <fct> & <chr> & <fct> & <fct> & <int> & <int> & <int> & <int> & <int> & <int> & ⋯ & <int> & <int> & <int> & <int> & <int> & <int> & <int> & <int> & <int> & <int>\\\\\n\\hline\n\t11 & NBA & Al-farouq Aminu  & POR & SF & 82 & 2342 & 299 &  719 & 126 & 349 & ⋯ &  72 & 120 &  53 & 171 & 0 &  839 & 3 & 0 & 0 & 82\\\\\n\t37 & NBA & Will Barton      & DEN & SG & 82 & 2355 & 426 &  984 & 112 & 324 & ⋯ &  71 & 139 &  39 & 147 & 0 & 1180 & 2 & 0 & 0 &  1\\\\\n\t48 & NBA & Bismack Biyombo  & TOR & PF & 82 & 1810 & 156 &  288 &   0 &   1 & ⋯ &  19 &  71 & 133 & 225 & 2 &  454 & 3 & 0 & 0 & 22\\\\\n\t62 & NBA & Corey Brewer     & HOU & SG & 82 & 1670 & 212 &  552 &  61 & 225 & ⋯ &  84 &  78 &  19 & 168 & 1 &  590 & 0 & 0 & 0 & 12\\\\\n\t118 & NBA & Gorgui Dieng     & MIN & C  & 82 & 2222 & 308 &  578 &   6 &  20 & ⋯ &  94 & 140 &  96 & 219 & 0 &  827 & 1 & 0 & 0 & 39\\\\\n\t148 & NBA & Langsto Galloway & NYK & PG & 82 & 2032 & 231 &  588 &  77 & 224 & ⋯ &  77 &  61 &  22 & 177 & 2 &  625 & 0 & 0 & 0 &  7\\\\\n\t178 & NBA & James Harden     & HOU & SG & 82 & 3121 & 710 & 1617 & 236 & 656 & ⋯ & 138 & 374 &  51 & 229 & 1 & 2376 & 2 & 0 & 0 & 82\\\\\n\t208 & NBA & Al Horford       & ATL & PF & 82 & 2638 & 529 & 1049 &  88 & 257 & ⋯ &  67 & 107 & 122 & 163 & 0 & 1249 & 1 & 0 & 0 & 82\\\\\n\t246 & NBA & Enes Kanter      & OKL & C  & 82 & 1721 & 415 &  720 &  10 &  21 & ⋯ &  26 & 115 &  33 & 166 & 1 & 1040 & 2 & 0 & 0 &  1\\\\\n\t259 & NBA & Zach Lavine      & MIN & PG & 82 & 2295 & 433 &  960 & 123 & 316 & ⋯ &  69 & 155 &  17 & 193 & 1 & 1150 & 0 & 0 & 0 & 33\\\\\n\t272 & NBA & Robin Lopez      & NYK & C  & 82 & 2213 & 357 &  662 &   0 &   1 & ⋯ &  16 & 133 & 129 & 182 & 2 &  842 & 3 & 0 & 0 & 82\\\\\n\t320 & NBA & Shabazz Muhammad & MIN & SF & 82 & 1678 & 317 &  681 &  44 & 152 & ⋯ &  24 &  70 &   7 &  94 & 0 &  863 & 0 & 0 & 0 &  0\\\\\n\t357 & NBA & Mason Plumlee    & POR & PF & 82 & 2087 & 267 &  517 &   0 &   4 & ⋯ &  68 & 154 &  82 & 253 & 4 &  749 & 1 & 0 & 0 & 82\\\\\n\t394 & NBA & Ramon Sessions   & WAS & PG & 82 & 1667 & 280 &  592 &  36 & 111 & ⋯ &  47 & 115 &   5 & 102 & 0 &  810 & 0 & 0 & 0 &  5\\\\\n\t422 & NBA & Isaiah Thomas    & BOS & PG & 82 & 2647 & 591 & 1382 & 167 & 465 & ⋯ &  91 & 220 &   9 & 167 & 1 & 1823 & 9 & 0 & 0 & 79\\\\\n\t427 & NBA & Tristan Thompson & CLE & C  & 82 & 2269 & 247 &  420 &   0 &   0 & ⋯ &  38 &  61 &  51 & 202 & 0 &  643 & 1 & 0 & 0 & 34\\\\\n\t431 & NBA & Karl-antho Towns & MIN & C  & 82 & 2621 & 625 & 1152 &  30 &  88 & ⋯ &  58 & 183 & 138 & 245 & 1 & 1503 & 2 & 0 & 0 & 82\\\\\n\t432 & NBA & P.j. Tucker      & PHO & SF & 82 & 2540 & 239 &  582 &  68 & 206 & ⋯ & 106 & 111 &  20 & 202 & 3 &  652 & 4 & 0 & 0 & 80\\\\\n\t24 & NBA & Trevor Ariza     & HOU & SF & 81 & 2860 & 357 &  858 & 185 & 497 & ⋯ & 161 & 113 &  26 & 177 & 0 & 1025 & 2 & 0 & 0 & 81\\\\\n\t41 & NBA & Aron Baynes      & DET & PF & 81 & 1241 & 194 &  384 &   0 &   2 & ⋯ &  21 &  67 &  52 & 151 & 0 &  514 & 0 & 0 & 0 &  1\\\\\n\\end{tabular}\n",
            "text/markdown": "\nA data.frame: 20 × 25\n\n| <!--/--> | League &lt;fct&gt; | Name &lt;chr&gt; | Team &lt;fct&gt; | Position &lt;fct&gt; | GamesPlayed &lt;int&gt; | TotalMinutesPlayed &lt;int&gt; | FieldGoalsMade &lt;int&gt; | FieldGoalsAttempted &lt;int&gt; | ThreesMade &lt;int&gt; | ThreesAttempted &lt;int&gt; | ⋯ ⋯ | Steals &lt;int&gt; | Turnovers &lt;int&gt; | Blocks &lt;int&gt; | PersonalFouls &lt;int&gt; | Disqualifications &lt;int&gt; | TotalPoints &lt;int&gt; | Technicals &lt;int&gt; | Ejections &lt;int&gt; | FlagrantFouls &lt;int&gt; | GamesStarted &lt;int&gt; |\n|---|---|---|---|---|---|---|---|---|---|---|---|---|---|---|---|---|---|---|---|---|---|\n| 11 | NBA | Al-farouq Aminu  | POR | SF | 82 | 2342 | 299 |  719 | 126 | 349 | ⋯ |  72 | 120 |  53 | 171 | 0 |  839 | 3 | 0 | 0 | 82 |\n| 37 | NBA | Will Barton      | DEN | SG | 82 | 2355 | 426 |  984 | 112 | 324 | ⋯ |  71 | 139 |  39 | 147 | 0 | 1180 | 2 | 0 | 0 |  1 |\n| 48 | NBA | Bismack Biyombo  | TOR | PF | 82 | 1810 | 156 |  288 |   0 |   1 | ⋯ |  19 |  71 | 133 | 225 | 2 |  454 | 3 | 0 | 0 | 22 |\n| 62 | NBA | Corey Brewer     | HOU | SG | 82 | 1670 | 212 |  552 |  61 | 225 | ⋯ |  84 |  78 |  19 | 168 | 1 |  590 | 0 | 0 | 0 | 12 |\n| 118 | NBA | Gorgui Dieng     | MIN | C  | 82 | 2222 | 308 |  578 |   6 |  20 | ⋯ |  94 | 140 |  96 | 219 | 0 |  827 | 1 | 0 | 0 | 39 |\n| 148 | NBA | Langsto Galloway | NYK | PG | 82 | 2032 | 231 |  588 |  77 | 224 | ⋯ |  77 |  61 |  22 | 177 | 2 |  625 | 0 | 0 | 0 |  7 |\n| 178 | NBA | James Harden     | HOU | SG | 82 | 3121 | 710 | 1617 | 236 | 656 | ⋯ | 138 | 374 |  51 | 229 | 1 | 2376 | 2 | 0 | 0 | 82 |\n| 208 | NBA | Al Horford       | ATL | PF | 82 | 2638 | 529 | 1049 |  88 | 257 | ⋯ |  67 | 107 | 122 | 163 | 0 | 1249 | 1 | 0 | 0 | 82 |\n| 246 | NBA | Enes Kanter      | OKL | C  | 82 | 1721 | 415 |  720 |  10 |  21 | ⋯ |  26 | 115 |  33 | 166 | 1 | 1040 | 2 | 0 | 0 |  1 |\n| 259 | NBA | Zach Lavine      | MIN | PG | 82 | 2295 | 433 |  960 | 123 | 316 | ⋯ |  69 | 155 |  17 | 193 | 1 | 1150 | 0 | 0 | 0 | 33 |\n| 272 | NBA | Robin Lopez      | NYK | C  | 82 | 2213 | 357 |  662 |   0 |   1 | ⋯ |  16 | 133 | 129 | 182 | 2 |  842 | 3 | 0 | 0 | 82 |\n| 320 | NBA | Shabazz Muhammad | MIN | SF | 82 | 1678 | 317 |  681 |  44 | 152 | ⋯ |  24 |  70 |   7 |  94 | 0 |  863 | 0 | 0 | 0 |  0 |\n| 357 | NBA | Mason Plumlee    | POR | PF | 82 | 2087 | 267 |  517 |   0 |   4 | ⋯ |  68 | 154 |  82 | 253 | 4 |  749 | 1 | 0 | 0 | 82 |\n| 394 | NBA | Ramon Sessions   | WAS | PG | 82 | 1667 | 280 |  592 |  36 | 111 | ⋯ |  47 | 115 |   5 | 102 | 0 |  810 | 0 | 0 | 0 |  5 |\n| 422 | NBA | Isaiah Thomas    | BOS | PG | 82 | 2647 | 591 | 1382 | 167 | 465 | ⋯ |  91 | 220 |   9 | 167 | 1 | 1823 | 9 | 0 | 0 | 79 |\n| 427 | NBA | Tristan Thompson | CLE | C  | 82 | 2269 | 247 |  420 |   0 |   0 | ⋯ |  38 |  61 |  51 | 202 | 0 |  643 | 1 | 0 | 0 | 34 |\n| 431 | NBA | Karl-antho Towns | MIN | C  | 82 | 2621 | 625 | 1152 |  30 |  88 | ⋯ |  58 | 183 | 138 | 245 | 1 | 1503 | 2 | 0 | 0 | 82 |\n| 432 | NBA | P.j. Tucker      | PHO | SF | 82 | 2540 | 239 |  582 |  68 | 206 | ⋯ | 106 | 111 |  20 | 202 | 3 |  652 | 4 | 0 | 0 | 80 |\n| 24 | NBA | Trevor Ariza     | HOU | SF | 81 | 2860 | 357 |  858 | 185 | 497 | ⋯ | 161 | 113 |  26 | 177 | 0 | 1025 | 2 | 0 | 0 | 81 |\n| 41 | NBA | Aron Baynes      | DET | PF | 81 | 1241 | 194 |  384 |   0 |   2 | ⋯ |  21 |  67 |  52 | 151 | 0 |  514 | 0 | 0 | 0 |  1 |\n\n",
            "text/html": [
              "<table>\n",
              "<caption>A data.frame: 20 × 25</caption>\n",
              "<thead>\n",
              "\t<tr><th></th><th scope=col>League</th><th scope=col>Name</th><th scope=col>Team</th><th scope=col>Position</th><th scope=col>GamesPlayed</th><th scope=col>TotalMinutesPlayed</th><th scope=col>FieldGoalsMade</th><th scope=col>FieldGoalsAttempted</th><th scope=col>ThreesMade</th><th scope=col>ThreesAttempted</th><th scope=col>⋯</th><th scope=col>Steals</th><th scope=col>Turnovers</th><th scope=col>Blocks</th><th scope=col>PersonalFouls</th><th scope=col>Disqualifications</th><th scope=col>TotalPoints</th><th scope=col>Technicals</th><th scope=col>Ejections</th><th scope=col>FlagrantFouls</th><th scope=col>GamesStarted</th></tr>\n",
              "\t<tr><th></th><th scope=col>&lt;fct&gt;</th><th scope=col>&lt;chr&gt;</th><th scope=col>&lt;fct&gt;</th><th scope=col>&lt;fct&gt;</th><th scope=col>&lt;int&gt;</th><th scope=col>&lt;int&gt;</th><th scope=col>&lt;int&gt;</th><th scope=col>&lt;int&gt;</th><th scope=col>&lt;int&gt;</th><th scope=col>&lt;int&gt;</th><th scope=col>⋯</th><th scope=col>&lt;int&gt;</th><th scope=col>&lt;int&gt;</th><th scope=col>&lt;int&gt;</th><th scope=col>&lt;int&gt;</th><th scope=col>&lt;int&gt;</th><th scope=col>&lt;int&gt;</th><th scope=col>&lt;int&gt;</th><th scope=col>&lt;int&gt;</th><th scope=col>&lt;int&gt;</th><th scope=col>&lt;int&gt;</th></tr>\n",
              "</thead>\n",
              "<tbody>\n",
              "\t<tr><th scope=row>11</th><td>NBA</td><td>Al-farouq Aminu </td><td>POR</td><td>SF</td><td>82</td><td>2342</td><td>299</td><td> 719</td><td>126</td><td>349</td><td>⋯</td><td> 72</td><td>120</td><td> 53</td><td>171</td><td>0</td><td> 839</td><td>3</td><td>0</td><td>0</td><td>82</td></tr>\n",
              "\t<tr><th scope=row>37</th><td>NBA</td><td>Will Barton     </td><td>DEN</td><td>SG</td><td>82</td><td>2355</td><td>426</td><td> 984</td><td>112</td><td>324</td><td>⋯</td><td> 71</td><td>139</td><td> 39</td><td>147</td><td>0</td><td>1180</td><td>2</td><td>0</td><td>0</td><td> 1</td></tr>\n",
              "\t<tr><th scope=row>48</th><td>NBA</td><td>Bismack Biyombo </td><td>TOR</td><td>PF</td><td>82</td><td>1810</td><td>156</td><td> 288</td><td>  0</td><td>  1</td><td>⋯</td><td> 19</td><td> 71</td><td>133</td><td>225</td><td>2</td><td> 454</td><td>3</td><td>0</td><td>0</td><td>22</td></tr>\n",
              "\t<tr><th scope=row>62</th><td>NBA</td><td>Corey Brewer    </td><td>HOU</td><td>SG</td><td>82</td><td>1670</td><td>212</td><td> 552</td><td> 61</td><td>225</td><td>⋯</td><td> 84</td><td> 78</td><td> 19</td><td>168</td><td>1</td><td> 590</td><td>0</td><td>0</td><td>0</td><td>12</td></tr>\n",
              "\t<tr><th scope=row>118</th><td>NBA</td><td>Gorgui Dieng    </td><td>MIN</td><td>C </td><td>82</td><td>2222</td><td>308</td><td> 578</td><td>  6</td><td> 20</td><td>⋯</td><td> 94</td><td>140</td><td> 96</td><td>219</td><td>0</td><td> 827</td><td>1</td><td>0</td><td>0</td><td>39</td></tr>\n",
              "\t<tr><th scope=row>148</th><td>NBA</td><td>Langsto Galloway</td><td>NYK</td><td>PG</td><td>82</td><td>2032</td><td>231</td><td> 588</td><td> 77</td><td>224</td><td>⋯</td><td> 77</td><td> 61</td><td> 22</td><td>177</td><td>2</td><td> 625</td><td>0</td><td>0</td><td>0</td><td> 7</td></tr>\n",
              "\t<tr><th scope=row>178</th><td>NBA</td><td>James Harden    </td><td>HOU</td><td>SG</td><td>82</td><td>3121</td><td>710</td><td>1617</td><td>236</td><td>656</td><td>⋯</td><td>138</td><td>374</td><td> 51</td><td>229</td><td>1</td><td>2376</td><td>2</td><td>0</td><td>0</td><td>82</td></tr>\n",
              "\t<tr><th scope=row>208</th><td>NBA</td><td>Al Horford      </td><td>ATL</td><td>PF</td><td>82</td><td>2638</td><td>529</td><td>1049</td><td> 88</td><td>257</td><td>⋯</td><td> 67</td><td>107</td><td>122</td><td>163</td><td>0</td><td>1249</td><td>1</td><td>0</td><td>0</td><td>82</td></tr>\n",
              "\t<tr><th scope=row>246</th><td>NBA</td><td>Enes Kanter     </td><td>OKL</td><td>C </td><td>82</td><td>1721</td><td>415</td><td> 720</td><td> 10</td><td> 21</td><td>⋯</td><td> 26</td><td>115</td><td> 33</td><td>166</td><td>1</td><td>1040</td><td>2</td><td>0</td><td>0</td><td> 1</td></tr>\n",
              "\t<tr><th scope=row>259</th><td>NBA</td><td>Zach Lavine     </td><td>MIN</td><td>PG</td><td>82</td><td>2295</td><td>433</td><td> 960</td><td>123</td><td>316</td><td>⋯</td><td> 69</td><td>155</td><td> 17</td><td>193</td><td>1</td><td>1150</td><td>0</td><td>0</td><td>0</td><td>33</td></tr>\n",
              "\t<tr><th scope=row>272</th><td>NBA</td><td>Robin Lopez     </td><td>NYK</td><td>C </td><td>82</td><td>2213</td><td>357</td><td> 662</td><td>  0</td><td>  1</td><td>⋯</td><td> 16</td><td>133</td><td>129</td><td>182</td><td>2</td><td> 842</td><td>3</td><td>0</td><td>0</td><td>82</td></tr>\n",
              "\t<tr><th scope=row>320</th><td>NBA</td><td>Shabazz Muhammad</td><td>MIN</td><td>SF</td><td>82</td><td>1678</td><td>317</td><td> 681</td><td> 44</td><td>152</td><td>⋯</td><td> 24</td><td> 70</td><td>  7</td><td> 94</td><td>0</td><td> 863</td><td>0</td><td>0</td><td>0</td><td> 0</td></tr>\n",
              "\t<tr><th scope=row>357</th><td>NBA</td><td>Mason Plumlee   </td><td>POR</td><td>PF</td><td>82</td><td>2087</td><td>267</td><td> 517</td><td>  0</td><td>  4</td><td>⋯</td><td> 68</td><td>154</td><td> 82</td><td>253</td><td>4</td><td> 749</td><td>1</td><td>0</td><td>0</td><td>82</td></tr>\n",
              "\t<tr><th scope=row>394</th><td>NBA</td><td>Ramon Sessions  </td><td>WAS</td><td>PG</td><td>82</td><td>1667</td><td>280</td><td> 592</td><td> 36</td><td>111</td><td>⋯</td><td> 47</td><td>115</td><td>  5</td><td>102</td><td>0</td><td> 810</td><td>0</td><td>0</td><td>0</td><td> 5</td></tr>\n",
              "\t<tr><th scope=row>422</th><td>NBA</td><td>Isaiah Thomas   </td><td>BOS</td><td>PG</td><td>82</td><td>2647</td><td>591</td><td>1382</td><td>167</td><td>465</td><td>⋯</td><td> 91</td><td>220</td><td>  9</td><td>167</td><td>1</td><td>1823</td><td>9</td><td>0</td><td>0</td><td>79</td></tr>\n",
              "\t<tr><th scope=row>427</th><td>NBA</td><td>Tristan Thompson</td><td>CLE</td><td>C </td><td>82</td><td>2269</td><td>247</td><td> 420</td><td>  0</td><td>  0</td><td>⋯</td><td> 38</td><td> 61</td><td> 51</td><td>202</td><td>0</td><td> 643</td><td>1</td><td>0</td><td>0</td><td>34</td></tr>\n",
              "\t<tr><th scope=row>431</th><td>NBA</td><td>Karl-antho Towns</td><td>MIN</td><td>C </td><td>82</td><td>2621</td><td>625</td><td>1152</td><td> 30</td><td> 88</td><td>⋯</td><td> 58</td><td>183</td><td>138</td><td>245</td><td>1</td><td>1503</td><td>2</td><td>0</td><td>0</td><td>82</td></tr>\n",
              "\t<tr><th scope=row>432</th><td>NBA</td><td>P.j. Tucker     </td><td>PHO</td><td>SF</td><td>82</td><td>2540</td><td>239</td><td> 582</td><td> 68</td><td>206</td><td>⋯</td><td>106</td><td>111</td><td> 20</td><td>202</td><td>3</td><td> 652</td><td>4</td><td>0</td><td>0</td><td>80</td></tr>\n",
              "\t<tr><th scope=row>24</th><td>NBA</td><td>Trevor Ariza    </td><td>HOU</td><td>SF</td><td>81</td><td>2860</td><td>357</td><td> 858</td><td>185</td><td>497</td><td>⋯</td><td>161</td><td>113</td><td> 26</td><td>177</td><td>0</td><td>1025</td><td>2</td><td>0</td><td>0</td><td>81</td></tr>\n",
              "\t<tr><th scope=row>41</th><td>NBA</td><td>Aron Baynes     </td><td>DET</td><td>PF</td><td>81</td><td>1241</td><td>194</td><td> 384</td><td>  0</td><td>  2</td><td>⋯</td><td> 21</td><td> 67</td><td> 52</td><td>151</td><td>0</td><td> 514</td><td>0</td><td>0</td><td>0</td><td> 1</td></tr>\n",
              "</tbody>\n",
              "</table>\n"
            ]
          },
          "metadata": {
            "tags": []
          }
        }
      ]
    },
    {
      "cell_type": "code",
      "metadata": {
        "id": "dChf8ODOnBdt",
        "outputId": "961f6cd0-6929-4655-bdb3-a6d96d0511fa",
        "colab": {
          "base_uri": "https://localhost:8080/",
          "height": 51
        }
      },
      "source": [
        "NBA15160rderM <- NBA1516[order(NBA1516$TotalMinutesPlayed,decreasing = T),]\n",
        "NBA15160rderM[1:20,\"Name\"]"
      ],
      "execution_count": 58,
      "outputs": [
        {
          "output_type": "display_data",
          "data": {
            "text/plain": [
              " [1] \"James Harden\"     \"Gordon Hayward\"   \"Kemba Walker\"     \"Trevor Ariza\"    \n",
              " [5] \"Khris Middleton\"  \"Kyle Lowry\"       \"Marcus Morris\"    \"Andrew Wiggins\"  \n",
              " [9] \"Paul George\"      \"Gi Antetokounmpo\" \"Draymond Green\"   \"Demar Derozan\"   \n",
              "[13] \"Ke Caldwell-pope\" \"John Wall\"        \"C.j. Mccollum\"    \"Russel Westbrook\"\n",
              "[17] \"Monta Ellis\"      \"Lebron James\"     \"Stephen Curry\"    \"Joe Johnson\"     "
            ],
            "text/latex": "\\begin{enumerate*}\n\\item 'James Harden'\n\\item 'Gordon Hayward'\n\\item 'Kemba Walker'\n\\item 'Trevor Ariza'\n\\item 'Khris Middleton'\n\\item 'Kyle Lowry'\n\\item 'Marcus Morris'\n\\item 'Andrew Wiggins'\n\\item 'Paul George'\n\\item 'Gi Antetokounmpo'\n\\item 'Draymond Green'\n\\item 'Demar Derozan'\n\\item 'Ke Caldwell-pope'\n\\item 'John Wall'\n\\item 'C.j. Mccollum'\n\\item 'Russel Westbrook'\n\\item 'Monta Ellis'\n\\item 'Lebron James'\n\\item 'Stephen Curry'\n\\item 'Joe Johnson'\n\\end{enumerate*}\n",
            "text/markdown": "1. 'James Harden'\n2. 'Gordon Hayward'\n3. 'Kemba Walker'\n4. 'Trevor Ariza'\n5. 'Khris Middleton'\n6. 'Kyle Lowry'\n7. 'Marcus Morris'\n8. 'Andrew Wiggins'\n9. 'Paul George'\n10. 'Gi Antetokounmpo'\n11. 'Draymond Green'\n12. 'Demar Derozan'\n13. 'Ke Caldwell-pope'\n14. 'John Wall'\n15. 'C.j. Mccollum'\n16. 'Russel Westbrook'\n17. 'Monta Ellis'\n18. 'Lebron James'\n19. 'Stephen Curry'\n20. 'Joe Johnson'\n\n\n",
            "text/html": [
              "<style>\n",
              ".list-inline {list-style: none; margin:0; padding: 0}\n",
              ".list-inline>li {display: inline-block}\n",
              ".list-inline>li:not(:last-child)::after {content: \"\\00b7\"; padding: 0 .5ex}\n",
              "</style>\n",
              "<ol class=list-inline><li>'James Harden'</li><li>'Gordon Hayward'</li><li>'Kemba Walker'</li><li>'Trevor Ariza'</li><li>'Khris Middleton'</li><li>'Kyle Lowry'</li><li>'Marcus Morris'</li><li>'Andrew Wiggins'</li><li>'Paul George'</li><li>'Gi Antetokounmpo'</li><li>'Draymond Green'</li><li>'Demar Derozan'</li><li>'Ke Caldwell-pope'</li><li>'John Wall'</li><li>'C.j. Mccollum'</li><li>'Russel Westbrook'</li><li>'Monta Ellis'</li><li>'Lebron James'</li><li>'Stephen Curry'</li><li>'Joe Johnson'</li></ol>\n"
            ]
          },
          "metadata": {
            "tags": []
          }
        }
      ]
    },
    {
      "cell_type": "code",
      "metadata": {
        "id": "NR3gvA6DpCML",
        "outputId": "6b8e9279-8e3b-486a-a07d-b7829e778de4",
        "colab": {
          "base_uri": "https://localhost:8080/",
          "height": 546
        }
      },
      "source": [
        "subset(NBA1516,Team==\"GSW\")"
      ],
      "execution_count": 60,
      "outputs": [
        {
          "output_type": "display_data",
          "data": {
            "text/plain": [
              "    League Name             Team Position GamesPlayed TotalMinutesPlayed\n",
              "32  NBA    Leandro Barbosa  GSW  SG       68          1079              \n",
              "35  NBA    Harrison Barnes  GSW  SF       66          2043              \n",
              "55  NBA    Andrew Bogut     GSW  C        70          1452              \n",
              "88  NBA    Ian Clark        GSW  SG       66           579              \n",
              "106 NBA    Stephen Curry    GSW  PG       79          2705              \n",
              "136 NBA    Festus Ezeli     GSW  C        46           769              \n",
              "167 NBA    Draymond Green   GSW  SF       81          2807              \n",
              "215 NBA    Andre Iguodala   GSW  SG       65          1736              \n",
              "269 NBA    Shaun Livingston GSW  PG       78          1512              \n",
              "270 NBA    Kevon Looney     GSW  SF        5            21              \n",
              "286 NBA    James Mcadoo     GSW  SG       41           265              \n",
              "385 NBA    Brandon Rush     GSW  SG       72          1050              \n",
              "408 NBA    Marrees Speights GSW  C        72           836              \n",
              "426 NBA    Klay Thompson    GSW  SG       80          2661              \n",
              "437 NBA    Anderson Varejao GSW  C        53           494              \n",
              "    FieldGoalsMade FieldGoalsAttempted ThreesMade ThreesAttempted ⋯ Steals\n",
              "32  171             370                 39        111             ⋯  44   \n",
              "35  295             633                 82        214             ⋯  41   \n",
              "55  175             279                  1          1             ⋯  32   \n",
              "88   89             202                 30         84             ⋯  17   \n",
              "106 805            1597                402        887             ⋯ 169   \n",
              "136 125             228                  0          0             ⋯  18   \n",
              "167 401             819                100        258             ⋯ 118   \n",
              "215 176             368                 54        154             ⋯  73   \n",
              "269 203             379                  2         12             ⋯  57   \n",
              "270   4               7                  1          2             ⋯   0   \n",
              "286  45              84                  1          2             ⋯  10   \n",
              "385 111             260                 65        157             ⋯  21   \n",
              "408 197             456                 24         62             ⋯  19   \n",
              "426 651            1386                276        648             ⋯  60   \n",
              "437  53             124                  0          1             ⋯  16   \n",
              "    Turnovers Blocks PersonalFouls Disqualifications TotalPoints Technicals\n",
              "32   53        10    107           0                  433         1        \n",
              "35   58        10    136           1                  774         0        \n",
              "55   83       113    221           4                  375         0        \n",
              "88   43        13     58           0                  236         1        \n",
              "106 261        16    161           0                 2375         1        \n",
              "136  38        50     94           1                  320         0        \n",
              "167 259       111    240           2                 1131        11        \n",
              "215  79        19    102           0                  457         1        \n",
              "269  78        27    140           0                  488         2        \n",
              "270   1         0      2           0                    9         0        \n",
              "286  16         8     39           0                  117         0        \n",
              "385  33        23     57           1                  305         0        \n",
              "408  66        34    117           0                  512         2        \n",
              "426 138        50    152           0                 1771         0        \n",
              "437  22        10     70           0                  138         1        \n",
              "    Ejections FlagrantFouls GamesStarted\n",
              "32  0         0              0          \n",
              "35  0         0             59          \n",
              "55  0         0             66          \n",
              "88  0         0              1          \n",
              "106 0         0             79          \n",
              "136 0         0             13          \n",
              "167 0         0             81          \n",
              "215 0         0              1          \n",
              "269 0         0              3          \n",
              "270 0         0              0          \n",
              "286 0         0              1          \n",
              "385 0         0             25          \n",
              "408 0         0              0          \n",
              "426 0         0             80          \n",
              "437 0         0              0          "
            ],
            "text/latex": "A data.frame: 15 × 25\n\\begin{tabular}{r|lllllllllllllllllllll}\n  & League & Name & Team & Position & GamesPlayed & TotalMinutesPlayed & FieldGoalsMade & FieldGoalsAttempted & ThreesMade & ThreesAttempted & ⋯ & Steals & Turnovers & Blocks & PersonalFouls & Disqualifications & TotalPoints & Technicals & Ejections & FlagrantFouls & GamesStarted\\\\\n  & <fct> & <chr> & <fct> & <fct> & <int> & <int> & <int> & <int> & <int> & <int> & ⋯ & <int> & <int> & <int> & <int> & <int> & <int> & <int> & <int> & <int> & <int>\\\\\n\\hline\n\t32 & NBA & Leandro Barbosa  & GSW & SG & 68 & 1079 & 171 &  370 &  39 & 111 & ⋯ &  44 &  53 &  10 & 107 & 0 &  433 &  1 & 0 & 0 &  0\\\\\n\t35 & NBA & Harrison Barnes  & GSW & SF & 66 & 2043 & 295 &  633 &  82 & 214 & ⋯ &  41 &  58 &  10 & 136 & 1 &  774 &  0 & 0 & 0 & 59\\\\\n\t55 & NBA & Andrew Bogut     & GSW & C  & 70 & 1452 & 175 &  279 &   1 &   1 & ⋯ &  32 &  83 & 113 & 221 & 4 &  375 &  0 & 0 & 0 & 66\\\\\n\t88 & NBA & Ian Clark        & GSW & SG & 66 &  579 &  89 &  202 &  30 &  84 & ⋯ &  17 &  43 &  13 &  58 & 0 &  236 &  1 & 0 & 0 &  1\\\\\n\t106 & NBA & Stephen Curry    & GSW & PG & 79 & 2705 & 805 & 1597 & 402 & 887 & ⋯ & 169 & 261 &  16 & 161 & 0 & 2375 &  1 & 0 & 0 & 79\\\\\n\t136 & NBA & Festus Ezeli     & GSW & C  & 46 &  769 & 125 &  228 &   0 &   0 & ⋯ &  18 &  38 &  50 &  94 & 1 &  320 &  0 & 0 & 0 & 13\\\\\n\t167 & NBA & Draymond Green   & GSW & SF & 81 & 2807 & 401 &  819 & 100 & 258 & ⋯ & 118 & 259 & 111 & 240 & 2 & 1131 & 11 & 0 & 0 & 81\\\\\n\t215 & NBA & Andre Iguodala   & GSW & SG & 65 & 1736 & 176 &  368 &  54 & 154 & ⋯ &  73 &  79 &  19 & 102 & 0 &  457 &  1 & 0 & 0 &  1\\\\\n\t269 & NBA & Shaun Livingston & GSW & PG & 78 & 1512 & 203 &  379 &   2 &  12 & ⋯ &  57 &  78 &  27 & 140 & 0 &  488 &  2 & 0 & 0 &  3\\\\\n\t270 & NBA & Kevon Looney     & GSW & SF &  5 &   21 &   4 &    7 &   1 &   2 & ⋯ &   0 &   1 &   0 &   2 & 0 &    9 &  0 & 0 & 0 &  0\\\\\n\t286 & NBA & James Mcadoo     & GSW & SG & 41 &  265 &  45 &   84 &   1 &   2 & ⋯ &  10 &  16 &   8 &  39 & 0 &  117 &  0 & 0 & 0 &  1\\\\\n\t385 & NBA & Brandon Rush     & GSW & SG & 72 & 1050 & 111 &  260 &  65 & 157 & ⋯ &  21 &  33 &  23 &  57 & 1 &  305 &  0 & 0 & 0 & 25\\\\\n\t408 & NBA & Marrees Speights & GSW & C  & 72 &  836 & 197 &  456 &  24 &  62 & ⋯ &  19 &  66 &  34 & 117 & 0 &  512 &  2 & 0 & 0 &  0\\\\\n\t426 & NBA & Klay Thompson    & GSW & SG & 80 & 2661 & 651 & 1386 & 276 & 648 & ⋯ &  60 & 138 &  50 & 152 & 0 & 1771 &  0 & 0 & 0 & 80\\\\\n\t437 & NBA & Anderson Varejao & GSW & C  & 53 &  494 &  53 &  124 &   0 &   1 & ⋯ &  16 &  22 &  10 &  70 & 0 &  138 &  1 & 0 & 0 &  0\\\\\n\\end{tabular}\n",
            "text/markdown": "\nA data.frame: 15 × 25\n\n| <!--/--> | League &lt;fct&gt; | Name &lt;chr&gt; | Team &lt;fct&gt; | Position &lt;fct&gt; | GamesPlayed &lt;int&gt; | TotalMinutesPlayed &lt;int&gt; | FieldGoalsMade &lt;int&gt; | FieldGoalsAttempted &lt;int&gt; | ThreesMade &lt;int&gt; | ThreesAttempted &lt;int&gt; | ⋯ ⋯ | Steals &lt;int&gt; | Turnovers &lt;int&gt; | Blocks &lt;int&gt; | PersonalFouls &lt;int&gt; | Disqualifications &lt;int&gt; | TotalPoints &lt;int&gt; | Technicals &lt;int&gt; | Ejections &lt;int&gt; | FlagrantFouls &lt;int&gt; | GamesStarted &lt;int&gt; |\n|---|---|---|---|---|---|---|---|---|---|---|---|---|---|---|---|---|---|---|---|---|---|\n| 32 | NBA | Leandro Barbosa  | GSW | SG | 68 | 1079 | 171 |  370 |  39 | 111 | ⋯ |  44 |  53 |  10 | 107 | 0 |  433 |  1 | 0 | 0 |  0 |\n| 35 | NBA | Harrison Barnes  | GSW | SF | 66 | 2043 | 295 |  633 |  82 | 214 | ⋯ |  41 |  58 |  10 | 136 | 1 |  774 |  0 | 0 | 0 | 59 |\n| 55 | NBA | Andrew Bogut     | GSW | C  | 70 | 1452 | 175 |  279 |   1 |   1 | ⋯ |  32 |  83 | 113 | 221 | 4 |  375 |  0 | 0 | 0 | 66 |\n| 88 | NBA | Ian Clark        | GSW | SG | 66 |  579 |  89 |  202 |  30 |  84 | ⋯ |  17 |  43 |  13 |  58 | 0 |  236 |  1 | 0 | 0 |  1 |\n| 106 | NBA | Stephen Curry    | GSW | PG | 79 | 2705 | 805 | 1597 | 402 | 887 | ⋯ | 169 | 261 |  16 | 161 | 0 | 2375 |  1 | 0 | 0 | 79 |\n| 136 | NBA | Festus Ezeli     | GSW | C  | 46 |  769 | 125 |  228 |   0 |   0 | ⋯ |  18 |  38 |  50 |  94 | 1 |  320 |  0 | 0 | 0 | 13 |\n| 167 | NBA | Draymond Green   | GSW | SF | 81 | 2807 | 401 |  819 | 100 | 258 | ⋯ | 118 | 259 | 111 | 240 | 2 | 1131 | 11 | 0 | 0 | 81 |\n| 215 | NBA | Andre Iguodala   | GSW | SG | 65 | 1736 | 176 |  368 |  54 | 154 | ⋯ |  73 |  79 |  19 | 102 | 0 |  457 |  1 | 0 | 0 |  1 |\n| 269 | NBA | Shaun Livingston | GSW | PG | 78 | 1512 | 203 |  379 |   2 |  12 | ⋯ |  57 |  78 |  27 | 140 | 0 |  488 |  2 | 0 | 0 |  3 |\n| 270 | NBA | Kevon Looney     | GSW | SF |  5 |   21 |   4 |    7 |   1 |   2 | ⋯ |   0 |   1 |   0 |   2 | 0 |    9 |  0 | 0 | 0 |  0 |\n| 286 | NBA | James Mcadoo     | GSW | SG | 41 |  265 |  45 |   84 |   1 |   2 | ⋯ |  10 |  16 |   8 |  39 | 0 |  117 |  0 | 0 | 0 |  1 |\n| 385 | NBA | Brandon Rush     | GSW | SG | 72 | 1050 | 111 |  260 |  65 | 157 | ⋯ |  21 |  33 |  23 |  57 | 1 |  305 |  0 | 0 | 0 | 25 |\n| 408 | NBA | Marrees Speights | GSW | C  | 72 |  836 | 197 |  456 |  24 |  62 | ⋯ |  19 |  66 |  34 | 117 | 0 |  512 |  2 | 0 | 0 |  0 |\n| 426 | NBA | Klay Thompson    | GSW | SG | 80 | 2661 | 651 | 1386 | 276 | 648 | ⋯ |  60 | 138 |  50 | 152 | 0 | 1771 |  0 | 0 | 0 | 80 |\n| 437 | NBA | Anderson Varejao | GSW | C  | 53 |  494 |  53 |  124 |   0 |   1 | ⋯ |  16 |  22 |  10 |  70 | 0 |  138 |  1 | 0 | 0 |  0 |\n\n",
            "text/html": [
              "<table>\n",
              "<caption>A data.frame: 15 × 25</caption>\n",
              "<thead>\n",
              "\t<tr><th></th><th scope=col>League</th><th scope=col>Name</th><th scope=col>Team</th><th scope=col>Position</th><th scope=col>GamesPlayed</th><th scope=col>TotalMinutesPlayed</th><th scope=col>FieldGoalsMade</th><th scope=col>FieldGoalsAttempted</th><th scope=col>ThreesMade</th><th scope=col>ThreesAttempted</th><th scope=col>⋯</th><th scope=col>Steals</th><th scope=col>Turnovers</th><th scope=col>Blocks</th><th scope=col>PersonalFouls</th><th scope=col>Disqualifications</th><th scope=col>TotalPoints</th><th scope=col>Technicals</th><th scope=col>Ejections</th><th scope=col>FlagrantFouls</th><th scope=col>GamesStarted</th></tr>\n",
              "\t<tr><th></th><th scope=col>&lt;fct&gt;</th><th scope=col>&lt;chr&gt;</th><th scope=col>&lt;fct&gt;</th><th scope=col>&lt;fct&gt;</th><th scope=col>&lt;int&gt;</th><th scope=col>&lt;int&gt;</th><th scope=col>&lt;int&gt;</th><th scope=col>&lt;int&gt;</th><th scope=col>&lt;int&gt;</th><th scope=col>&lt;int&gt;</th><th scope=col>⋯</th><th scope=col>&lt;int&gt;</th><th scope=col>&lt;int&gt;</th><th scope=col>&lt;int&gt;</th><th scope=col>&lt;int&gt;</th><th scope=col>&lt;int&gt;</th><th scope=col>&lt;int&gt;</th><th scope=col>&lt;int&gt;</th><th scope=col>&lt;int&gt;</th><th scope=col>&lt;int&gt;</th><th scope=col>&lt;int&gt;</th></tr>\n",
              "</thead>\n",
              "<tbody>\n",
              "\t<tr><th scope=row>32</th><td>NBA</td><td>Leandro Barbosa </td><td>GSW</td><td>SG</td><td>68</td><td>1079</td><td>171</td><td> 370</td><td> 39</td><td>111</td><td>⋯</td><td> 44</td><td> 53</td><td> 10</td><td>107</td><td>0</td><td> 433</td><td> 1</td><td>0</td><td>0</td><td> 0</td></tr>\n",
              "\t<tr><th scope=row>35</th><td>NBA</td><td>Harrison Barnes </td><td>GSW</td><td>SF</td><td>66</td><td>2043</td><td>295</td><td> 633</td><td> 82</td><td>214</td><td>⋯</td><td> 41</td><td> 58</td><td> 10</td><td>136</td><td>1</td><td> 774</td><td> 0</td><td>0</td><td>0</td><td>59</td></tr>\n",
              "\t<tr><th scope=row>55</th><td>NBA</td><td>Andrew Bogut    </td><td>GSW</td><td>C </td><td>70</td><td>1452</td><td>175</td><td> 279</td><td>  1</td><td>  1</td><td>⋯</td><td> 32</td><td> 83</td><td>113</td><td>221</td><td>4</td><td> 375</td><td> 0</td><td>0</td><td>0</td><td>66</td></tr>\n",
              "\t<tr><th scope=row>88</th><td>NBA</td><td>Ian Clark       </td><td>GSW</td><td>SG</td><td>66</td><td> 579</td><td> 89</td><td> 202</td><td> 30</td><td> 84</td><td>⋯</td><td> 17</td><td> 43</td><td> 13</td><td> 58</td><td>0</td><td> 236</td><td> 1</td><td>0</td><td>0</td><td> 1</td></tr>\n",
              "\t<tr><th scope=row>106</th><td>NBA</td><td>Stephen Curry   </td><td>GSW</td><td>PG</td><td>79</td><td>2705</td><td>805</td><td>1597</td><td>402</td><td>887</td><td>⋯</td><td>169</td><td>261</td><td> 16</td><td>161</td><td>0</td><td>2375</td><td> 1</td><td>0</td><td>0</td><td>79</td></tr>\n",
              "\t<tr><th scope=row>136</th><td>NBA</td><td>Festus Ezeli    </td><td>GSW</td><td>C </td><td>46</td><td> 769</td><td>125</td><td> 228</td><td>  0</td><td>  0</td><td>⋯</td><td> 18</td><td> 38</td><td> 50</td><td> 94</td><td>1</td><td> 320</td><td> 0</td><td>0</td><td>0</td><td>13</td></tr>\n",
              "\t<tr><th scope=row>167</th><td>NBA</td><td>Draymond Green  </td><td>GSW</td><td>SF</td><td>81</td><td>2807</td><td>401</td><td> 819</td><td>100</td><td>258</td><td>⋯</td><td>118</td><td>259</td><td>111</td><td>240</td><td>2</td><td>1131</td><td>11</td><td>0</td><td>0</td><td>81</td></tr>\n",
              "\t<tr><th scope=row>215</th><td>NBA</td><td>Andre Iguodala  </td><td>GSW</td><td>SG</td><td>65</td><td>1736</td><td>176</td><td> 368</td><td> 54</td><td>154</td><td>⋯</td><td> 73</td><td> 79</td><td> 19</td><td>102</td><td>0</td><td> 457</td><td> 1</td><td>0</td><td>0</td><td> 1</td></tr>\n",
              "\t<tr><th scope=row>269</th><td>NBA</td><td>Shaun Livingston</td><td>GSW</td><td>PG</td><td>78</td><td>1512</td><td>203</td><td> 379</td><td>  2</td><td> 12</td><td>⋯</td><td> 57</td><td> 78</td><td> 27</td><td>140</td><td>0</td><td> 488</td><td> 2</td><td>0</td><td>0</td><td> 3</td></tr>\n",
              "\t<tr><th scope=row>270</th><td>NBA</td><td>Kevon Looney    </td><td>GSW</td><td>SF</td><td> 5</td><td>  21</td><td>  4</td><td>   7</td><td>  1</td><td>  2</td><td>⋯</td><td>  0</td><td>  1</td><td>  0</td><td>  2</td><td>0</td><td>   9</td><td> 0</td><td>0</td><td>0</td><td> 0</td></tr>\n",
              "\t<tr><th scope=row>286</th><td>NBA</td><td>James Mcadoo    </td><td>GSW</td><td>SG</td><td>41</td><td> 265</td><td> 45</td><td>  84</td><td>  1</td><td>  2</td><td>⋯</td><td> 10</td><td> 16</td><td>  8</td><td> 39</td><td>0</td><td> 117</td><td> 0</td><td>0</td><td>0</td><td> 1</td></tr>\n",
              "\t<tr><th scope=row>385</th><td>NBA</td><td>Brandon Rush    </td><td>GSW</td><td>SG</td><td>72</td><td>1050</td><td>111</td><td> 260</td><td> 65</td><td>157</td><td>⋯</td><td> 21</td><td> 33</td><td> 23</td><td> 57</td><td>1</td><td> 305</td><td> 0</td><td>0</td><td>0</td><td>25</td></tr>\n",
              "\t<tr><th scope=row>408</th><td>NBA</td><td>Marrees Speights</td><td>GSW</td><td>C </td><td>72</td><td> 836</td><td>197</td><td> 456</td><td> 24</td><td> 62</td><td>⋯</td><td> 19</td><td> 66</td><td> 34</td><td>117</td><td>0</td><td> 512</td><td> 2</td><td>0</td><td>0</td><td> 0</td></tr>\n",
              "\t<tr><th scope=row>426</th><td>NBA</td><td>Klay Thompson   </td><td>GSW</td><td>SG</td><td>80</td><td>2661</td><td>651</td><td>1386</td><td>276</td><td>648</td><td>⋯</td><td> 60</td><td>138</td><td> 50</td><td>152</td><td>0</td><td>1771</td><td> 0</td><td>0</td><td>0</td><td>80</td></tr>\n",
              "\t<tr><th scope=row>437</th><td>NBA</td><td>Anderson Varejao</td><td>GSW</td><td>C </td><td>53</td><td> 494</td><td> 53</td><td> 124</td><td>  0</td><td>  1</td><td>⋯</td><td> 16</td><td> 22</td><td> 10</td><td> 70</td><td>0</td><td> 138</td><td> 1</td><td>0</td><td>0</td><td> 0</td></tr>\n",
              "</tbody>\n",
              "</table>\n"
            ]
          },
          "metadata": {
            "tags": []
          }
        }
      ]
    },
    {
      "cell_type": "code",
      "metadata": {
        "id": "MKkKMd7kpCaL",
        "outputId": "047acae1-5f0a-4dfc-9e88-1d782db6ef6b",
        "colab": {
          "base_uri": "https://localhost:8080/",
          "height": 120
        }
      },
      "source": [
        "NBA1516[grepl(\"Curry\",NBA1516$Name),]"
      ],
      "execution_count": 61,
      "outputs": [
        {
          "output_type": "display_data",
          "data": {
            "text/plain": [
              "    League Name          Team Position GamesPlayed TotalMinutesPlayed\n",
              "105 NBA    Seth Curry    SAC  SG       44           694              \n",
              "106 NBA    Stephen Curry GSW  PG       79          2705              \n",
              "    FieldGoalsMade FieldGoalsAttempted ThreesMade ThreesAttempted ⋯ Steals\n",
              "105 102             224                 50        111             ⋯  22   \n",
              "106 805            1597                402        887             ⋯ 169   \n",
              "    Turnovers Blocks PersonalFouls Disqualifications TotalPoints Technicals\n",
              "105  36        3      41           0                  299        0         \n",
              "106 261       16     161           0                 2375        1         \n",
              "    Ejections FlagrantFouls GamesStarted\n",
              "105 0         0              9          \n",
              "106 0         0             79          "
            ],
            "text/latex": "A data.frame: 2 × 25\n\\begin{tabular}{r|lllllllllllllllllllll}\n  & League & Name & Team & Position & GamesPlayed & TotalMinutesPlayed & FieldGoalsMade & FieldGoalsAttempted & ThreesMade & ThreesAttempted & ⋯ & Steals & Turnovers & Blocks & PersonalFouls & Disqualifications & TotalPoints & Technicals & Ejections & FlagrantFouls & GamesStarted\\\\\n  & <fct> & <chr> & <fct> & <fct> & <int> & <int> & <int> & <int> & <int> & <int> & ⋯ & <int> & <int> & <int> & <int> & <int> & <int> & <int> & <int> & <int> & <int>\\\\\n\\hline\n\t105 & NBA & Seth Curry    & SAC & SG & 44 &  694 & 102 &  224 &  50 & 111 & ⋯ &  22 &  36 &  3 &  41 & 0 &  299 & 0 & 0 & 0 &  9\\\\\n\t106 & NBA & Stephen Curry & GSW & PG & 79 & 2705 & 805 & 1597 & 402 & 887 & ⋯ & 169 & 261 & 16 & 161 & 0 & 2375 & 1 & 0 & 0 & 79\\\\\n\\end{tabular}\n",
            "text/markdown": "\nA data.frame: 2 × 25\n\n| <!--/--> | League &lt;fct&gt; | Name &lt;chr&gt; | Team &lt;fct&gt; | Position &lt;fct&gt; | GamesPlayed &lt;int&gt; | TotalMinutesPlayed &lt;int&gt; | FieldGoalsMade &lt;int&gt; | FieldGoalsAttempted &lt;int&gt; | ThreesMade &lt;int&gt; | ThreesAttempted &lt;int&gt; | ⋯ ⋯ | Steals &lt;int&gt; | Turnovers &lt;int&gt; | Blocks &lt;int&gt; | PersonalFouls &lt;int&gt; | Disqualifications &lt;int&gt; | TotalPoints &lt;int&gt; | Technicals &lt;int&gt; | Ejections &lt;int&gt; | FlagrantFouls &lt;int&gt; | GamesStarted &lt;int&gt; |\n|---|---|---|---|---|---|---|---|---|---|---|---|---|---|---|---|---|---|---|---|---|---|\n| 105 | NBA | Seth Curry    | SAC | SG | 44 |  694 | 102 |  224 |  50 | 111 | ⋯ |  22 |  36 |  3 |  41 | 0 |  299 | 0 | 0 | 0 |  9 |\n| 106 | NBA | Stephen Curry | GSW | PG | 79 | 2705 | 805 | 1597 | 402 | 887 | ⋯ | 169 | 261 | 16 | 161 | 0 | 2375 | 1 | 0 | 0 | 79 |\n\n",
            "text/html": [
              "<table>\n",
              "<caption>A data.frame: 2 × 25</caption>\n",
              "<thead>\n",
              "\t<tr><th></th><th scope=col>League</th><th scope=col>Name</th><th scope=col>Team</th><th scope=col>Position</th><th scope=col>GamesPlayed</th><th scope=col>TotalMinutesPlayed</th><th scope=col>FieldGoalsMade</th><th scope=col>FieldGoalsAttempted</th><th scope=col>ThreesMade</th><th scope=col>ThreesAttempted</th><th scope=col>⋯</th><th scope=col>Steals</th><th scope=col>Turnovers</th><th scope=col>Blocks</th><th scope=col>PersonalFouls</th><th scope=col>Disqualifications</th><th scope=col>TotalPoints</th><th scope=col>Technicals</th><th scope=col>Ejections</th><th scope=col>FlagrantFouls</th><th scope=col>GamesStarted</th></tr>\n",
              "\t<tr><th></th><th scope=col>&lt;fct&gt;</th><th scope=col>&lt;chr&gt;</th><th scope=col>&lt;fct&gt;</th><th scope=col>&lt;fct&gt;</th><th scope=col>&lt;int&gt;</th><th scope=col>&lt;int&gt;</th><th scope=col>&lt;int&gt;</th><th scope=col>&lt;int&gt;</th><th scope=col>&lt;int&gt;</th><th scope=col>&lt;int&gt;</th><th scope=col>⋯</th><th scope=col>&lt;int&gt;</th><th scope=col>&lt;int&gt;</th><th scope=col>&lt;int&gt;</th><th scope=col>&lt;int&gt;</th><th scope=col>&lt;int&gt;</th><th scope=col>&lt;int&gt;</th><th scope=col>&lt;int&gt;</th><th scope=col>&lt;int&gt;</th><th scope=col>&lt;int&gt;</th><th scope=col>&lt;int&gt;</th></tr>\n",
              "</thead>\n",
              "<tbody>\n",
              "\t<tr><th scope=row>105</th><td>NBA</td><td>Seth Curry   </td><td>SAC</td><td>SG</td><td>44</td><td> 694</td><td>102</td><td> 224</td><td> 50</td><td>111</td><td>⋯</td><td> 22</td><td> 36</td><td> 3</td><td> 41</td><td>0</td><td> 299</td><td>0</td><td>0</td><td>0</td><td> 9</td></tr>\n",
              "\t<tr><th scope=row>106</th><td>NBA</td><td>Stephen Curry</td><td>GSW</td><td>PG</td><td>79</td><td>2705</td><td>805</td><td>1597</td><td>402</td><td>887</td><td>⋯</td><td>169</td><td>261</td><td>16</td><td>161</td><td>0</td><td>2375</td><td>1</td><td>0</td><td>0</td><td>79</td></tr>\n",
              "</tbody>\n",
              "</table>\n"
            ]
          },
          "metadata": {
            "tags": []
          }
        }
      ]
    },
    {
      "cell_type": "code",
      "metadata": {
        "id": "WM7-NlDHqCbY",
        "outputId": "034e6a26-2666-46c9-cd9f-1e3ee5865289",
        "colab": {
          "base_uri": "https://localhost:8080/",
          "height": 1000
        }
      },
      "source": [
        "subset(NBA1516,Position==\"SG\")"
      ],
      "execution_count": 67,
      "outputs": [
        {
          "output_type": "display_data",
          "data": {
            "text/plain": [
              "    League Name             Team Position GamesPlayed TotalMinutesPlayed\n",
              "2   NBA    Jordan Adams     MEM  SG        2            15              \n",
              "4   NBA    Arron Afflalo    NYK  SG       71          2359              \n",
              "10  NBA    Tony Allen       MEM  SG       64          1622              \n",
              "14  NBA    Alan Anderson    WAS  SG       13           193              \n",
              "15  NBA    James Anderson   SAC  SG       51           721              \n",
              "16  NBA    Justin Anderson  DAL  SG       55           644              \n",
              "32  NBA    Leandro Barbosa  GSW  SG       68          1079              \n",
              "37  NBA    Will Barton      DEN  SG       82          2355              \n",
              "42  NBA    Kent Bazemore    ATL  SG       75          2077              \n",
              "43  NBA    Bradley Beal     WAS  SG       55          1709              \n",
              "54  NBA    Bojan Bogdanovic BRO  SG       79          2114              \n",
              "57  NBA    Devin Booker     PHO  SG       76          2110              \n",
              "62  NBA    Corey Brewer     HOU  SG       82          1670              \n",
              "66  NBA    Markel Brown     BRO  SG       62           989              \n",
              "67  NBA    Kobe Bryant      LAL  SG       66          1861              \n",
              "73  NBA    Jimmy Butler     CHI  SG       67          2473              \n",
              "77  NBA    Ke Caldwell-pope DET  SG       76          2789              \n",
              "81  NBA    Vince Carter     MEM  SG       60          1009              \n",
              "88  NBA    Ian Clark        GSW  SG       66           579              \n",
              "95  NBA    Pat Connaughton  POR  SG       34           147              \n",
              "101 NBA    Jamal Crawford   LAC  SG       79          2126              \n",
              "104 NBA    Jared Cunningham MIL  SG       45           415              \n",
              "105 NBA    Seth Curry       SAC  SG       44           694              \n",
              "107 NBA    Troy Daniels     CHA  SG       43           478              \n",
              "112 NBA    Bry Dejean-jones NOR  SG       11           271              \n",
              "116 NBA    Demar Derozan    TOR  SG       78          2804              \n",
              "121 NBA    Goran Dragic     MIA  SG       72          2362              \n",
              "123 NBA    Jared Dudley     WAS  SG       81          2098              \n",
              "126 NBA    Mike Dunleavy    CHI  SG       31           702              \n",
              "129 NBA    Jarell Eddie     WAS  SG       26           147              \n",
              "⋮   ⋮      ⋮                ⋮    ⋮        ⋮           ⋮                 \n",
              "363 NBA    Norman Powell    TOR  SG       49           729              \n",
              "364 NBA    Phil Pressey     PHO  SG       22           280              \n",
              "370 NBA    J.j. Redick      LAC  SG       75          2098              \n",
              "372 NBA    Josh Richardson  MIA  SG       52          1105              \n",
              "373 NBA    Austin Rivers    LAC  SG       67          1466              \n",
              "374 NBA    Andre Roberson   OKL  SG       70          1552              \n",
              "385 NBA    Brandon Rush     GSW  SG       72          1050              \n",
              "388 NBA    Jakarr Sampson   DEN  SG       73          1166              \n",
              "392 NBA    Thabo Sefolosha  ATL  SG       75          1749              \n",
              "395 NBA    Iman Shumpert    CLE  SG       54          1319              \n",
              "396 NBA    Jonathon Simmons SAN  SG       55           811              \n",
              "403 NBA    J.r. Smith       CLE  SG       77          2367              \n",
              "410 NBA    Nik Stauskas     PHI  SG       73          1798              \n",
              "420 NBA    Garrett Temple   WAS  SG       80          1951              \n",
              "421 NBA    Jason Terry      HOU  SG       72          1261              \n",
              "424 NBA    Hollis Thompson  PHI  SG       77          2158              \n",
              "426 NBA    Klay Thompson    GSW  SG       80          2661              \n",
              "428 NBA    Marcus Thornton  WAS  SG       61          1110              \n",
              "430 NBA    Axel Toupane     DEN  SG       21           307              \n",
              "433 NBA    Evan Turner      BOS  SG       81          2270              \n",
              "439 NBA    Rashad Vaughn    MIL  SG       70          1000              \n",
              "443 NBA    Sasha Vujacic    NYK  SG       61           910              \n",
              "444 NBA    Dwyane Wade      MIA  SG       74          2258              \n",
              "445 NBA    Dion Waiters     OKL  SG       78          2157              \n",
              "451 NBA    Sonny Weems      PHI  SG       43           501              \n",
              "457 NBA    C.j. Wilcox      LAC  SG       23           168              \n",
              "461 NBA    Elliot Williams  MEM  SG        5            46              \n",
              "462 NBA    Louis Williams   LAL  SG       67          1911              \n",
              "470 NBA    Tony Wroten      PHI  SG        8           145              \n",
              "471 NBA    James Young      BOS  SG       29           200              \n",
              "    FieldGoalsMade FieldGoalsAttempted ThreesMade ThreesAttempted ⋯ Steals\n",
              "2     2               6                  0          1             ⋯   3   \n",
              "4   354             799                 91        238             ⋯  25   \n",
              "10  215             469                 15         42             ⋯ 109   \n",
              "14   21              59                 12         37             ⋯   4   \n",
              "15   67             178                 23         86             ⋯  21   \n",
              "16   71             176                 22         83             ⋯  19   \n",
              "32  171             370                 39        111             ⋯  44   \n",
              "37  426             984                112        324             ⋯  71   \n",
              "42  320             724                109        304             ⋯  98   \n",
              "43  359             799                105        271             ⋯  54   \n",
              "54  324             749                129        337             ⋯  29   \n",
              "57  367             867                 99        289             ⋯  44   \n",
              "62  212             552                 61        225             ⋯  84   \n",
              "66  127             322                 38        121             ⋯  38   \n",
              "67  398            1112                133        466             ⋯  62   \n",
              "73  470            1034                 64        206             ⋯ 110   \n",
              "77  403             960                114        368             ⋯ 110   \n",
              "81  133             343                 59        169             ⋯  38   \n",
              "88   89             202                 30         84             ⋯  17   \n",
              "95   13              49                  5         21             ⋯   2   \n",
              "101 379             940                117        345             ⋯  52   \n",
              "104  36             105                 12         39             ⋯  14   \n",
              "105 102             224                 50        111             ⋯  22   \n",
              "107  89             187                 59        122             ⋯  11   \n",
              "112  27              67                 11         30             ⋯  10   \n",
              "116 614            1377                 47        139             ⋯  82   \n",
              "121 417             875                 64        205             ⋯  71   \n",
              "123 233             487                100        239             ⋯  75   \n",
              "126  77             188                 39         99             ⋯  14   \n",
              "129  20              65                 15         47             ⋯   5   \n",
              "⋮   ⋮              ⋮                   ⋮          ⋮               ⋱ ⋮     \n",
              "363  97             229                 36         88             ⋯ 29    \n",
              "364  30              77                  4         17             ⋯ 17    \n",
              "370 422             880                200        420             ⋯ 42    \n",
              "372 123             272                 53        115             ⋯ 36    \n",
              "373 226             516                 62        185             ⋯ 48    \n",
              "374 136             274                 32        103             ⋯ 54    \n",
              "385 111             260                 65        157             ⋯ 21    \n",
              "388 140             318                 14         63             ⋯ 23    \n",
              "392 188             374                 42        125             ⋯ 84    \n",
              "395 114             305                 43        146             ⋯ 54    \n",
              "396 122             241                 18         47             ⋯ 24    \n",
              "403 353             849                204        510             ⋯ 81    \n",
              "410 210             542                106        324             ⋯ 44    \n",
              "420 201             505                 89        257             ⋯ 69    \n",
              "421 151             376                 93        261             ⋯ 47    \n",
              "424 270             681                149        393             ⋯ 36    \n",
              "426 651            1386                276        648             ⋯ 60    \n",
              "428 216             542                 91        271             ⋯ 47    \n",
              "430  25              70                 13         40             ⋯  7    \n",
              "433 343             753                 20         83             ⋯ 80    \n",
              "439  82             266                 44        147             ⋯ 29    \n",
              "443 106             277                 52        143             ⋯ 34    \n",
              "444 540            1183                  7         44             ⋯ 79    \n",
              "445 282             705                 86        241             ⋯ 81    \n",
              "451  42             111                 15         42             ⋯ 10    \n",
              "457  26              66                  9         23             ⋯ 10    \n",
              "461   2              10                  1          4             ⋯  1    \n",
              "462 283             695                110        321             ⋯ 62    \n",
              "470  22              65                  3         17             ⋯  3    \n",
              "471  11              36                  6         26             ⋯  6    \n",
              "    Turnovers Blocks PersonalFouls Disqualifications TotalPoints Technicals\n",
              "2     2        0       2           0                    7        0         \n",
              "4    82       10     142           1                  909        1         \n",
              "10   78       18     175           1                  535        1         \n",
              "14    2        1      25           0                   65        0         \n",
              "15   42       14      54           0                  179        0         \n",
              "16   24       25      45           0                  208        0         \n",
              "32   53       10     107           0                  433        1         \n",
              "37  139       39     147           0                 1180        2         \n",
              "42  138       38     176           2                  872        4         \n",
              "43  112       11     117           0                  958        0         \n",
              "54  115        5     119           0                  887        2         \n",
              "57  160       20     225           5                 1048        0         \n",
              "62   78       19     168           1                  590        0         \n",
              "66   54       15      94           1                  363        1         \n",
              "67  130       13     115           0                 1161        1         \n",
              "73  132       43     124           1                 1399        1         \n",
              "77  105       17     167           0                 1105        3         \n",
              "81   35       16     101           0                  395        1         \n",
              "88   43       13      58           0                  236        1         \n",
              "95   10        0       6           0                   36        0         \n",
              "101 113       12     122           0                 1120        3         \n",
              "104  21        2      42           0                  120        0         \n",
              "105  36        3      41           0                  299        0         \n",
              "107  24        3      40           0                  242        0         \n",
              "112  11        2      16           0                   76        0         \n",
              "116 174       21     167           0                 1830        2         \n",
              "121 185       17     188           1                 1018        1         \n",
              "123  80       18     190           1                  638        1         \n",
              "126  26       10      66           0                  222        0         \n",
              "129   1        1       5           0                   63        0         \n",
              "⋮   ⋮         ⋮      ⋮             ⋮                 ⋮           ⋮         \n",
              "363  32       10      59           0                  273        0         \n",
              "364  33        4      28           0                   77        0         \n",
              "370  79        5     135           0                 1226        1         \n",
              "372  35       25     107           0                  341        0         \n",
              "373  61       10     137           1                  593        2         \n",
              "374  35       42     133           0                  337        1         \n",
              "385  33       23      57           1                  305        0         \n",
              "388  70       33     142           1                  374        2         \n",
              "392  68       37     109           0                  480        0         \n",
              "395  56       19     119           1                  311        1         \n",
              "396  53        5     103           0                  331        0         \n",
              "403  59       21     204           1                  955        3         \n",
              "410  93       20     111           0                  617        0         \n",
              "420  64       18     195           3                  582        0         \n",
              "421  49        9      91           0                  422        1         \n",
              "424  76       24     187           2                  758        0         \n",
              "426 138       50     152           0                 1771        0         \n",
              "428  51        4      90           0                  590        0         \n",
              "430   6        6      40           0                   76        0         \n",
              "433 169       28     139           0                  854        2         \n",
              "439  28       16      73           0                  220        0         \n",
              "443  44        5      83           0                  296        1         \n",
              "444 203       42     116           0                 1409        3         \n",
              "445 120       15     143           0                  762        4         \n",
              "451  41        1      47           0                  107        0         \n",
              "457   2        2      15           0                   70        0         \n",
              "461   1        0       2           0                    8        0         \n",
              "462 107       19     107           1                 1028        1         \n",
              "470  29        0      11           0                   67        0         \n",
              "471   5        1      17           0                   29        0         \n",
              "    Ejections FlagrantFouls GamesStarted\n",
              "2   0         0              0          \n",
              "4   0         0             57          \n",
              "10  0         0             56          \n",
              "14  0         0              0          \n",
              "15  0         0             15          \n",
              "16  0         0              9          \n",
              "32  0         0              0          \n",
              "37  0         0              1          \n",
              "42  0         0             68          \n",
              "43  0         0             35          \n",
              "54  0         0             39          \n",
              "57  0         0             51          \n",
              "62  0         0             12          \n",
              "66  0         0              6          \n",
              "67  0         0             66          \n",
              "73  0         0             67          \n",
              "77  0         0             76          \n",
              "81  0         0              3          \n",
              "88  0         0              1          \n",
              "95  0         0              0          \n",
              "101 0         0              5          \n",
              "104 0         0              3          \n",
              "105 0         0              9          \n",
              "107 0         0              0          \n",
              "112 0         0             11          \n",
              "116 0         0             78          \n",
              "121 0         0             72          \n",
              "123 0         0             41          \n",
              "126 0         0             30          \n",
              "129 0         0              0          \n",
              "⋮   ⋮         ⋮             ⋮           \n",
              "363 0         0             24          \n",
              "364 0         0              0          \n",
              "370 0         0             75          \n",
              "372 0         0              2          \n",
              "373 0         0              7          \n",
              "374 0         0             70          \n",
              "385 0         0             25          \n",
              "388 0         0             40          \n",
              "392 0         0             11          \n",
              "395 0         0              5          \n",
              "396 0         0              2          \n",
              "403 0         0             77          \n",
              "410 0         0             35          \n",
              "420 0         0             43          \n",
              "421 0         0              7          \n",
              "424 0         0             17          \n",
              "426 0         0             80          \n",
              "428 0         0              8          \n",
              "430 0         0              0          \n",
              "433 0         0             12          \n",
              "439 0         0              6          \n",
              "443 0         0             25          \n",
              "444 0         0             73          \n",
              "445 0         0             15          \n",
              "451 0         0              0          \n",
              "457 0         0              0          \n",
              "461 0         0              0          \n",
              "462 0         0             35          \n",
              "470 0         0              3          \n",
              "471 0         0              0          "
            ],
            "text/latex": "A data.frame: 109 × 25\n\\begin{tabular}{r|lllllllllllllllllllll}\n  & League & Name & Team & Position & GamesPlayed & TotalMinutesPlayed & FieldGoalsMade & FieldGoalsAttempted & ThreesMade & ThreesAttempted & ⋯ & Steals & Turnovers & Blocks & PersonalFouls & Disqualifications & TotalPoints & Technicals & Ejections & FlagrantFouls & GamesStarted\\\\\n  & <fct> & <chr> & <fct> & <fct> & <int> & <int> & <int> & <int> & <int> & <int> & ⋯ & <int> & <int> & <int> & <int> & <int> & <int> & <int> & <int> & <int> & <int>\\\\\n\\hline\n\t2 & NBA & Jordan Adams     & MEM & SG &  2 &   15 &   2 &    6 &   0 &   1 & ⋯ &   3 &   2 &  0 &   2 & 0 &    7 & 0 & 0 & 0 &  0\\\\\n\t4 & NBA & Arron Afflalo    & NYK & SG & 71 & 2359 & 354 &  799 &  91 & 238 & ⋯ &  25 &  82 & 10 & 142 & 1 &  909 & 1 & 0 & 0 & 57\\\\\n\t10 & NBA & Tony Allen       & MEM & SG & 64 & 1622 & 215 &  469 &  15 &  42 & ⋯ & 109 &  78 & 18 & 175 & 1 &  535 & 1 & 0 & 0 & 56\\\\\n\t14 & NBA & Alan Anderson    & WAS & SG & 13 &  193 &  21 &   59 &  12 &  37 & ⋯ &   4 &   2 &  1 &  25 & 0 &   65 & 0 & 0 & 0 &  0\\\\\n\t15 & NBA & James Anderson   & SAC & SG & 51 &  721 &  67 &  178 &  23 &  86 & ⋯ &  21 &  42 & 14 &  54 & 0 &  179 & 0 & 0 & 0 & 15\\\\\n\t16 & NBA & Justin Anderson  & DAL & SG & 55 &  644 &  71 &  176 &  22 &  83 & ⋯ &  19 &  24 & 25 &  45 & 0 &  208 & 0 & 0 & 0 &  9\\\\\n\t32 & NBA & Leandro Barbosa  & GSW & SG & 68 & 1079 & 171 &  370 &  39 & 111 & ⋯ &  44 &  53 & 10 & 107 & 0 &  433 & 1 & 0 & 0 &  0\\\\\n\t37 & NBA & Will Barton      & DEN & SG & 82 & 2355 & 426 &  984 & 112 & 324 & ⋯ &  71 & 139 & 39 & 147 & 0 & 1180 & 2 & 0 & 0 &  1\\\\\n\t42 & NBA & Kent Bazemore    & ATL & SG & 75 & 2077 & 320 &  724 & 109 & 304 & ⋯ &  98 & 138 & 38 & 176 & 2 &  872 & 4 & 0 & 0 & 68\\\\\n\t43 & NBA & Bradley Beal     & WAS & SG & 55 & 1709 & 359 &  799 & 105 & 271 & ⋯ &  54 & 112 & 11 & 117 & 0 &  958 & 0 & 0 & 0 & 35\\\\\n\t54 & NBA & Bojan Bogdanovic & BRO & SG & 79 & 2114 & 324 &  749 & 129 & 337 & ⋯ &  29 & 115 &  5 & 119 & 0 &  887 & 2 & 0 & 0 & 39\\\\\n\t57 & NBA & Devin Booker     & PHO & SG & 76 & 2110 & 367 &  867 &  99 & 289 & ⋯ &  44 & 160 & 20 & 225 & 5 & 1048 & 0 & 0 & 0 & 51\\\\\n\t62 & NBA & Corey Brewer     & HOU & SG & 82 & 1670 & 212 &  552 &  61 & 225 & ⋯ &  84 &  78 & 19 & 168 & 1 &  590 & 0 & 0 & 0 & 12\\\\\n\t66 & NBA & Markel Brown     & BRO & SG & 62 &  989 & 127 &  322 &  38 & 121 & ⋯ &  38 &  54 & 15 &  94 & 1 &  363 & 1 & 0 & 0 &  6\\\\\n\t67 & NBA & Kobe Bryant      & LAL & SG & 66 & 1861 & 398 & 1112 & 133 & 466 & ⋯ &  62 & 130 & 13 & 115 & 0 & 1161 & 1 & 0 & 0 & 66\\\\\n\t73 & NBA & Jimmy Butler     & CHI & SG & 67 & 2473 & 470 & 1034 &  64 & 206 & ⋯ & 110 & 132 & 43 & 124 & 1 & 1399 & 1 & 0 & 0 & 67\\\\\n\t77 & NBA & Ke Caldwell-pope & DET & SG & 76 & 2789 & 403 &  960 & 114 & 368 & ⋯ & 110 & 105 & 17 & 167 & 0 & 1105 & 3 & 0 & 0 & 76\\\\\n\t81 & NBA & Vince Carter     & MEM & SG & 60 & 1009 & 133 &  343 &  59 & 169 & ⋯ &  38 &  35 & 16 & 101 & 0 &  395 & 1 & 0 & 0 &  3\\\\\n\t88 & NBA & Ian Clark        & GSW & SG & 66 &  579 &  89 &  202 &  30 &  84 & ⋯ &  17 &  43 & 13 &  58 & 0 &  236 & 1 & 0 & 0 &  1\\\\\n\t95 & NBA & Pat Connaughton  & POR & SG & 34 &  147 &  13 &   49 &   5 &  21 & ⋯ &   2 &  10 &  0 &   6 & 0 &   36 & 0 & 0 & 0 &  0\\\\\n\t101 & NBA & Jamal Crawford   & LAC & SG & 79 & 2126 & 379 &  940 & 117 & 345 & ⋯ &  52 & 113 & 12 & 122 & 0 & 1120 & 3 & 0 & 0 &  5\\\\\n\t104 & NBA & Jared Cunningham & MIL & SG & 45 &  415 &  36 &  105 &  12 &  39 & ⋯ &  14 &  21 &  2 &  42 & 0 &  120 & 0 & 0 & 0 &  3\\\\\n\t105 & NBA & Seth Curry       & SAC & SG & 44 &  694 & 102 &  224 &  50 & 111 & ⋯ &  22 &  36 &  3 &  41 & 0 &  299 & 0 & 0 & 0 &  9\\\\\n\t107 & NBA & Troy Daniels     & CHA & SG & 43 &  478 &  89 &  187 &  59 & 122 & ⋯ &  11 &  24 &  3 &  40 & 0 &  242 & 0 & 0 & 0 &  0\\\\\n\t112 & NBA & Bry Dejean-jones & NOR & SG & 11 &  271 &  27 &   67 &  11 &  30 & ⋯ &  10 &  11 &  2 &  16 & 0 &   76 & 0 & 0 & 0 & 11\\\\\n\t116 & NBA & Demar Derozan    & TOR & SG & 78 & 2804 & 614 & 1377 &  47 & 139 & ⋯ &  82 & 174 & 21 & 167 & 0 & 1830 & 2 & 0 & 0 & 78\\\\\n\t121 & NBA & Goran Dragic     & MIA & SG & 72 & 2362 & 417 &  875 &  64 & 205 & ⋯ &  71 & 185 & 17 & 188 & 1 & 1018 & 1 & 0 & 0 & 72\\\\\n\t123 & NBA & Jared Dudley     & WAS & SG & 81 & 2098 & 233 &  487 & 100 & 239 & ⋯ &  75 &  80 & 18 & 190 & 1 &  638 & 1 & 0 & 0 & 41\\\\\n\t126 & NBA & Mike Dunleavy    & CHI & SG & 31 &  702 &  77 &  188 &  39 &  99 & ⋯ &  14 &  26 & 10 &  66 & 0 &  222 & 0 & 0 & 0 & 30\\\\\n\t129 & NBA & Jarell Eddie     & WAS & SG & 26 &  147 &  20 &   65 &  15 &  47 & ⋯ &   5 &   1 &  1 &   5 & 0 &   63 & 0 & 0 & 0 &  0\\\\\n\t⋮ & ⋮ & ⋮ & ⋮ & ⋮ & ⋮ & ⋮ & ⋮ & ⋮ & ⋮ & ⋮ & ⋱ & ⋮ & ⋮ & ⋮ & ⋮ & ⋮ & ⋮ & ⋮ & ⋮ & ⋮ & ⋮\\\\\n\t363 & NBA & Norman Powell    & TOR & SG & 49 &  729 &  97 &  229 &  36 &  88 & ⋯ & 29 &  32 & 10 &  59 & 0 &  273 & 0 & 0 & 0 & 24\\\\\n\t364 & NBA & Phil Pressey     & PHO & SG & 22 &  280 &  30 &   77 &   4 &  17 & ⋯ & 17 &  33 &  4 &  28 & 0 &   77 & 0 & 0 & 0 &  0\\\\\n\t370 & NBA & J.j. Redick      & LAC & SG & 75 & 2098 & 422 &  880 & 200 & 420 & ⋯ & 42 &  79 &  5 & 135 & 0 & 1226 & 1 & 0 & 0 & 75\\\\\n\t372 & NBA & Josh Richardson  & MIA & SG & 52 & 1105 & 123 &  272 &  53 & 115 & ⋯ & 36 &  35 & 25 & 107 & 0 &  341 & 0 & 0 & 0 &  2\\\\\n\t373 & NBA & Austin Rivers    & LAC & SG & 67 & 1466 & 226 &  516 &  62 & 185 & ⋯ & 48 &  61 & 10 & 137 & 1 &  593 & 2 & 0 & 0 &  7\\\\\n\t374 & NBA & Andre Roberson   & OKL & SG & 70 & 1552 & 136 &  274 &  32 & 103 & ⋯ & 54 &  35 & 42 & 133 & 0 &  337 & 1 & 0 & 0 & 70\\\\\n\t385 & NBA & Brandon Rush     & GSW & SG & 72 & 1050 & 111 &  260 &  65 & 157 & ⋯ & 21 &  33 & 23 &  57 & 1 &  305 & 0 & 0 & 0 & 25\\\\\n\t388 & NBA & Jakarr Sampson   & DEN & SG & 73 & 1166 & 140 &  318 &  14 &  63 & ⋯ & 23 &  70 & 33 & 142 & 1 &  374 & 2 & 0 & 0 & 40\\\\\n\t392 & NBA & Thabo Sefolosha  & ATL & SG & 75 & 1749 & 188 &  374 &  42 & 125 & ⋯ & 84 &  68 & 37 & 109 & 0 &  480 & 0 & 0 & 0 & 11\\\\\n\t395 & NBA & Iman Shumpert    & CLE & SG & 54 & 1319 & 114 &  305 &  43 & 146 & ⋯ & 54 &  56 & 19 & 119 & 1 &  311 & 1 & 0 & 0 &  5\\\\\n\t396 & NBA & Jonathon Simmons & SAN & SG & 55 &  811 & 122 &  241 &  18 &  47 & ⋯ & 24 &  53 &  5 & 103 & 0 &  331 & 0 & 0 & 0 &  2\\\\\n\t403 & NBA & J.r. Smith       & CLE & SG & 77 & 2367 & 353 &  849 & 204 & 510 & ⋯ & 81 &  59 & 21 & 204 & 1 &  955 & 3 & 0 & 0 & 77\\\\\n\t410 & NBA & Nik Stauskas     & PHI & SG & 73 & 1798 & 210 &  542 & 106 & 324 & ⋯ & 44 &  93 & 20 & 111 & 0 &  617 & 0 & 0 & 0 & 35\\\\\n\t420 & NBA & Garrett Temple   & WAS & SG & 80 & 1951 & 201 &  505 &  89 & 257 & ⋯ & 69 &  64 & 18 & 195 & 3 &  582 & 0 & 0 & 0 & 43\\\\\n\t421 & NBA & Jason Terry      & HOU & SG & 72 & 1261 & 151 &  376 &  93 & 261 & ⋯ & 47 &  49 &  9 &  91 & 0 &  422 & 1 & 0 & 0 &  7\\\\\n\t424 & NBA & Hollis Thompson  & PHI & SG & 77 & 2158 & 270 &  681 & 149 & 393 & ⋯ & 36 &  76 & 24 & 187 & 2 &  758 & 0 & 0 & 0 & 17\\\\\n\t426 & NBA & Klay Thompson    & GSW & SG & 80 & 2661 & 651 & 1386 & 276 & 648 & ⋯ & 60 & 138 & 50 & 152 & 0 & 1771 & 0 & 0 & 0 & 80\\\\\n\t428 & NBA & Marcus Thornton  & WAS & SG & 61 & 1110 & 216 &  542 &  91 & 271 & ⋯ & 47 &  51 &  4 &  90 & 0 &  590 & 0 & 0 & 0 &  8\\\\\n\t430 & NBA & Axel Toupane     & DEN & SG & 21 &  307 &  25 &   70 &  13 &  40 & ⋯ &  7 &   6 &  6 &  40 & 0 &   76 & 0 & 0 & 0 &  0\\\\\n\t433 & NBA & Evan Turner      & BOS & SG & 81 & 2270 & 343 &  753 &  20 &  83 & ⋯ & 80 & 169 & 28 & 139 & 0 &  854 & 2 & 0 & 0 & 12\\\\\n\t439 & NBA & Rashad Vaughn    & MIL & SG & 70 & 1000 &  82 &  266 &  44 & 147 & ⋯ & 29 &  28 & 16 &  73 & 0 &  220 & 0 & 0 & 0 &  6\\\\\n\t443 & NBA & Sasha Vujacic    & NYK & SG & 61 &  910 & 106 &  277 &  52 & 143 & ⋯ & 34 &  44 &  5 &  83 & 0 &  296 & 1 & 0 & 0 & 25\\\\\n\t444 & NBA & Dwyane Wade      & MIA & SG & 74 & 2258 & 540 & 1183 &   7 &  44 & ⋯ & 79 & 203 & 42 & 116 & 0 & 1409 & 3 & 0 & 0 & 73\\\\\n\t445 & NBA & Dion Waiters     & OKL & SG & 78 & 2157 & 282 &  705 &  86 & 241 & ⋯ & 81 & 120 & 15 & 143 & 0 &  762 & 4 & 0 & 0 & 15\\\\\n\t451 & NBA & Sonny Weems      & PHI & SG & 43 &  501 &  42 &  111 &  15 &  42 & ⋯ & 10 &  41 &  1 &  47 & 0 &  107 & 0 & 0 & 0 &  0\\\\\n\t457 & NBA & C.j. Wilcox      & LAC & SG & 23 &  168 &  26 &   66 &   9 &  23 & ⋯ & 10 &   2 &  2 &  15 & 0 &   70 & 0 & 0 & 0 &  0\\\\\n\t461 & NBA & Elliot Williams  & MEM & SG &  5 &   46 &   2 &   10 &   1 &   4 & ⋯ &  1 &   1 &  0 &   2 & 0 &    8 & 0 & 0 & 0 &  0\\\\\n\t462 & NBA & Louis Williams   & LAL & SG & 67 & 1911 & 283 &  695 & 110 & 321 & ⋯ & 62 & 107 & 19 & 107 & 1 & 1028 & 1 & 0 & 0 & 35\\\\\n\t470 & NBA & Tony Wroten      & PHI & SG &  8 &  145 &  22 &   65 &   3 &  17 & ⋯ &  3 &  29 &  0 &  11 & 0 &   67 & 0 & 0 & 0 &  3\\\\\n\t471 & NBA & James Young      & BOS & SG & 29 &  200 &  11 &   36 &   6 &  26 & ⋯ &  6 &   5 &  1 &  17 & 0 &   29 & 0 & 0 & 0 &  0\\\\\n\\end{tabular}\n",
            "text/markdown": "\nA data.frame: 109 × 25\n\n| <!--/--> | League &lt;fct&gt; | Name &lt;chr&gt; | Team &lt;fct&gt; | Position &lt;fct&gt; | GamesPlayed &lt;int&gt; | TotalMinutesPlayed &lt;int&gt; | FieldGoalsMade &lt;int&gt; | FieldGoalsAttempted &lt;int&gt; | ThreesMade &lt;int&gt; | ThreesAttempted &lt;int&gt; | ⋯ ⋯ | Steals &lt;int&gt; | Turnovers &lt;int&gt; | Blocks &lt;int&gt; | PersonalFouls &lt;int&gt; | Disqualifications &lt;int&gt; | TotalPoints &lt;int&gt; | Technicals &lt;int&gt; | Ejections &lt;int&gt; | FlagrantFouls &lt;int&gt; | GamesStarted &lt;int&gt; |\n|---|---|---|---|---|---|---|---|---|---|---|---|---|---|---|---|---|---|---|---|---|---|\n| 2 | NBA | Jordan Adams     | MEM | SG |  2 |   15 |   2 |    6 |   0 |   1 | ⋯ |   3 |   2 |  0 |   2 | 0 |    7 | 0 | 0 | 0 |  0 |\n| 4 | NBA | Arron Afflalo    | NYK | SG | 71 | 2359 | 354 |  799 |  91 | 238 | ⋯ |  25 |  82 | 10 | 142 | 1 |  909 | 1 | 0 | 0 | 57 |\n| 10 | NBA | Tony Allen       | MEM | SG | 64 | 1622 | 215 |  469 |  15 |  42 | ⋯ | 109 |  78 | 18 | 175 | 1 |  535 | 1 | 0 | 0 | 56 |\n| 14 | NBA | Alan Anderson    | WAS | SG | 13 |  193 |  21 |   59 |  12 |  37 | ⋯ |   4 |   2 |  1 |  25 | 0 |   65 | 0 | 0 | 0 |  0 |\n| 15 | NBA | James Anderson   | SAC | SG | 51 |  721 |  67 |  178 |  23 |  86 | ⋯ |  21 |  42 | 14 |  54 | 0 |  179 | 0 | 0 | 0 | 15 |\n| 16 | NBA | Justin Anderson  | DAL | SG | 55 |  644 |  71 |  176 |  22 |  83 | ⋯ |  19 |  24 | 25 |  45 | 0 |  208 | 0 | 0 | 0 |  9 |\n| 32 | NBA | Leandro Barbosa  | GSW | SG | 68 | 1079 | 171 |  370 |  39 | 111 | ⋯ |  44 |  53 | 10 | 107 | 0 |  433 | 1 | 0 | 0 |  0 |\n| 37 | NBA | Will Barton      | DEN | SG | 82 | 2355 | 426 |  984 | 112 | 324 | ⋯ |  71 | 139 | 39 | 147 | 0 | 1180 | 2 | 0 | 0 |  1 |\n| 42 | NBA | Kent Bazemore    | ATL | SG | 75 | 2077 | 320 |  724 | 109 | 304 | ⋯ |  98 | 138 | 38 | 176 | 2 |  872 | 4 | 0 | 0 | 68 |\n| 43 | NBA | Bradley Beal     | WAS | SG | 55 | 1709 | 359 |  799 | 105 | 271 | ⋯ |  54 | 112 | 11 | 117 | 0 |  958 | 0 | 0 | 0 | 35 |\n| 54 | NBA | Bojan Bogdanovic | BRO | SG | 79 | 2114 | 324 |  749 | 129 | 337 | ⋯ |  29 | 115 |  5 | 119 | 0 |  887 | 2 | 0 | 0 | 39 |\n| 57 | NBA | Devin Booker     | PHO | SG | 76 | 2110 | 367 |  867 |  99 | 289 | ⋯ |  44 | 160 | 20 | 225 | 5 | 1048 | 0 | 0 | 0 | 51 |\n| 62 | NBA | Corey Brewer     | HOU | SG | 82 | 1670 | 212 |  552 |  61 | 225 | ⋯ |  84 |  78 | 19 | 168 | 1 |  590 | 0 | 0 | 0 | 12 |\n| 66 | NBA | Markel Brown     | BRO | SG | 62 |  989 | 127 |  322 |  38 | 121 | ⋯ |  38 |  54 | 15 |  94 | 1 |  363 | 1 | 0 | 0 |  6 |\n| 67 | NBA | Kobe Bryant      | LAL | SG | 66 | 1861 | 398 | 1112 | 133 | 466 | ⋯ |  62 | 130 | 13 | 115 | 0 | 1161 | 1 | 0 | 0 | 66 |\n| 73 | NBA | Jimmy Butler     | CHI | SG | 67 | 2473 | 470 | 1034 |  64 | 206 | ⋯ | 110 | 132 | 43 | 124 | 1 | 1399 | 1 | 0 | 0 | 67 |\n| 77 | NBA | Ke Caldwell-pope | DET | SG | 76 | 2789 | 403 |  960 | 114 | 368 | ⋯ | 110 | 105 | 17 | 167 | 0 | 1105 | 3 | 0 | 0 | 76 |\n| 81 | NBA | Vince Carter     | MEM | SG | 60 | 1009 | 133 |  343 |  59 | 169 | ⋯ |  38 |  35 | 16 | 101 | 0 |  395 | 1 | 0 | 0 |  3 |\n| 88 | NBA | Ian Clark        | GSW | SG | 66 |  579 |  89 |  202 |  30 |  84 | ⋯ |  17 |  43 | 13 |  58 | 0 |  236 | 1 | 0 | 0 |  1 |\n| 95 | NBA | Pat Connaughton  | POR | SG | 34 |  147 |  13 |   49 |   5 |  21 | ⋯ |   2 |  10 |  0 |   6 | 0 |   36 | 0 | 0 | 0 |  0 |\n| 101 | NBA | Jamal Crawford   | LAC | SG | 79 | 2126 | 379 |  940 | 117 | 345 | ⋯ |  52 | 113 | 12 | 122 | 0 | 1120 | 3 | 0 | 0 |  5 |\n| 104 | NBA | Jared Cunningham | MIL | SG | 45 |  415 |  36 |  105 |  12 |  39 | ⋯ |  14 |  21 |  2 |  42 | 0 |  120 | 0 | 0 | 0 |  3 |\n| 105 | NBA | Seth Curry       | SAC | SG | 44 |  694 | 102 |  224 |  50 | 111 | ⋯ |  22 |  36 |  3 |  41 | 0 |  299 | 0 | 0 | 0 |  9 |\n| 107 | NBA | Troy Daniels     | CHA | SG | 43 |  478 |  89 |  187 |  59 | 122 | ⋯ |  11 |  24 |  3 |  40 | 0 |  242 | 0 | 0 | 0 |  0 |\n| 112 | NBA | Bry Dejean-jones | NOR | SG | 11 |  271 |  27 |   67 |  11 |  30 | ⋯ |  10 |  11 |  2 |  16 | 0 |   76 | 0 | 0 | 0 | 11 |\n| 116 | NBA | Demar Derozan    | TOR | SG | 78 | 2804 | 614 | 1377 |  47 | 139 | ⋯ |  82 | 174 | 21 | 167 | 0 | 1830 | 2 | 0 | 0 | 78 |\n| 121 | NBA | Goran Dragic     | MIA | SG | 72 | 2362 | 417 |  875 |  64 | 205 | ⋯ |  71 | 185 | 17 | 188 | 1 | 1018 | 1 | 0 | 0 | 72 |\n| 123 | NBA | Jared Dudley     | WAS | SG | 81 | 2098 | 233 |  487 | 100 | 239 | ⋯ |  75 |  80 | 18 | 190 | 1 |  638 | 1 | 0 | 0 | 41 |\n| 126 | NBA | Mike Dunleavy    | CHI | SG | 31 |  702 |  77 |  188 |  39 |  99 | ⋯ |  14 |  26 | 10 |  66 | 0 |  222 | 0 | 0 | 0 | 30 |\n| 129 | NBA | Jarell Eddie     | WAS | SG | 26 |  147 |  20 |   65 |  15 |  47 | ⋯ |   5 |   1 |  1 |   5 | 0 |   63 | 0 | 0 | 0 |  0 |\n| ⋮ | ⋮ | ⋮ | ⋮ | ⋮ | ⋮ | ⋮ | ⋮ | ⋮ | ⋮ | ⋮ | ⋱ | ⋮ | ⋮ | ⋮ | ⋮ | ⋮ | ⋮ | ⋮ | ⋮ | ⋮ | ⋮ |\n| 363 | NBA | Norman Powell    | TOR | SG | 49 |  729 |  97 |  229 |  36 |  88 | ⋯ | 29 |  32 | 10 |  59 | 0 |  273 | 0 | 0 | 0 | 24 |\n| 364 | NBA | Phil Pressey     | PHO | SG | 22 |  280 |  30 |   77 |   4 |  17 | ⋯ | 17 |  33 |  4 |  28 | 0 |   77 | 0 | 0 | 0 |  0 |\n| 370 | NBA | J.j. Redick      | LAC | SG | 75 | 2098 | 422 |  880 | 200 | 420 | ⋯ | 42 |  79 |  5 | 135 | 0 | 1226 | 1 | 0 | 0 | 75 |\n| 372 | NBA | Josh Richardson  | MIA | SG | 52 | 1105 | 123 |  272 |  53 | 115 | ⋯ | 36 |  35 | 25 | 107 | 0 |  341 | 0 | 0 | 0 |  2 |\n| 373 | NBA | Austin Rivers    | LAC | SG | 67 | 1466 | 226 |  516 |  62 | 185 | ⋯ | 48 |  61 | 10 | 137 | 1 |  593 | 2 | 0 | 0 |  7 |\n| 374 | NBA | Andre Roberson   | OKL | SG | 70 | 1552 | 136 |  274 |  32 | 103 | ⋯ | 54 |  35 | 42 | 133 | 0 |  337 | 1 | 0 | 0 | 70 |\n| 385 | NBA | Brandon Rush     | GSW | SG | 72 | 1050 | 111 |  260 |  65 | 157 | ⋯ | 21 |  33 | 23 |  57 | 1 |  305 | 0 | 0 | 0 | 25 |\n| 388 | NBA | Jakarr Sampson   | DEN | SG | 73 | 1166 | 140 |  318 |  14 |  63 | ⋯ | 23 |  70 | 33 | 142 | 1 |  374 | 2 | 0 | 0 | 40 |\n| 392 | NBA | Thabo Sefolosha  | ATL | SG | 75 | 1749 | 188 |  374 |  42 | 125 | ⋯ | 84 |  68 | 37 | 109 | 0 |  480 | 0 | 0 | 0 | 11 |\n| 395 | NBA | Iman Shumpert    | CLE | SG | 54 | 1319 | 114 |  305 |  43 | 146 | ⋯ | 54 |  56 | 19 | 119 | 1 |  311 | 1 | 0 | 0 |  5 |\n| 396 | NBA | Jonathon Simmons | SAN | SG | 55 |  811 | 122 |  241 |  18 |  47 | ⋯ | 24 |  53 |  5 | 103 | 0 |  331 | 0 | 0 | 0 |  2 |\n| 403 | NBA | J.r. Smith       | CLE | SG | 77 | 2367 | 353 |  849 | 204 | 510 | ⋯ | 81 |  59 | 21 | 204 | 1 |  955 | 3 | 0 | 0 | 77 |\n| 410 | NBA | Nik Stauskas     | PHI | SG | 73 | 1798 | 210 |  542 | 106 | 324 | ⋯ | 44 |  93 | 20 | 111 | 0 |  617 | 0 | 0 | 0 | 35 |\n| 420 | NBA | Garrett Temple   | WAS | SG | 80 | 1951 | 201 |  505 |  89 | 257 | ⋯ | 69 |  64 | 18 | 195 | 3 |  582 | 0 | 0 | 0 | 43 |\n| 421 | NBA | Jason Terry      | HOU | SG | 72 | 1261 | 151 |  376 |  93 | 261 | ⋯ | 47 |  49 |  9 |  91 | 0 |  422 | 1 | 0 | 0 |  7 |\n| 424 | NBA | Hollis Thompson  | PHI | SG | 77 | 2158 | 270 |  681 | 149 | 393 | ⋯ | 36 |  76 | 24 | 187 | 2 |  758 | 0 | 0 | 0 | 17 |\n| 426 | NBA | Klay Thompson    | GSW | SG | 80 | 2661 | 651 | 1386 | 276 | 648 | ⋯ | 60 | 138 | 50 | 152 | 0 | 1771 | 0 | 0 | 0 | 80 |\n| 428 | NBA | Marcus Thornton  | WAS | SG | 61 | 1110 | 216 |  542 |  91 | 271 | ⋯ | 47 |  51 |  4 |  90 | 0 |  590 | 0 | 0 | 0 |  8 |\n| 430 | NBA | Axel Toupane     | DEN | SG | 21 |  307 |  25 |   70 |  13 |  40 | ⋯ |  7 |   6 |  6 |  40 | 0 |   76 | 0 | 0 | 0 |  0 |\n| 433 | NBA | Evan Turner      | BOS | SG | 81 | 2270 | 343 |  753 |  20 |  83 | ⋯ | 80 | 169 | 28 | 139 | 0 |  854 | 2 | 0 | 0 | 12 |\n| 439 | NBA | Rashad Vaughn    | MIL | SG | 70 | 1000 |  82 |  266 |  44 | 147 | ⋯ | 29 |  28 | 16 |  73 | 0 |  220 | 0 | 0 | 0 |  6 |\n| 443 | NBA | Sasha Vujacic    | NYK | SG | 61 |  910 | 106 |  277 |  52 | 143 | ⋯ | 34 |  44 |  5 |  83 | 0 |  296 | 1 | 0 | 0 | 25 |\n| 444 | NBA | Dwyane Wade      | MIA | SG | 74 | 2258 | 540 | 1183 |   7 |  44 | ⋯ | 79 | 203 | 42 | 116 | 0 | 1409 | 3 | 0 | 0 | 73 |\n| 445 | NBA | Dion Waiters     | OKL | SG | 78 | 2157 | 282 |  705 |  86 | 241 | ⋯ | 81 | 120 | 15 | 143 | 0 |  762 | 4 | 0 | 0 | 15 |\n| 451 | NBA | Sonny Weems      | PHI | SG | 43 |  501 |  42 |  111 |  15 |  42 | ⋯ | 10 |  41 |  1 |  47 | 0 |  107 | 0 | 0 | 0 |  0 |\n| 457 | NBA | C.j. Wilcox      | LAC | SG | 23 |  168 |  26 |   66 |   9 |  23 | ⋯ | 10 |   2 |  2 |  15 | 0 |   70 | 0 | 0 | 0 |  0 |\n| 461 | NBA | Elliot Williams  | MEM | SG |  5 |   46 |   2 |   10 |   1 |   4 | ⋯ |  1 |   1 |  0 |   2 | 0 |    8 | 0 | 0 | 0 |  0 |\n| 462 | NBA | Louis Williams   | LAL | SG | 67 | 1911 | 283 |  695 | 110 | 321 | ⋯ | 62 | 107 | 19 | 107 | 1 | 1028 | 1 | 0 | 0 | 35 |\n| 470 | NBA | Tony Wroten      | PHI | SG |  8 |  145 |  22 |   65 |   3 |  17 | ⋯ |  3 |  29 |  0 |  11 | 0 |   67 | 0 | 0 | 0 |  3 |\n| 471 | NBA | James Young      | BOS | SG | 29 |  200 |  11 |   36 |   6 |  26 | ⋯ |  6 |   5 |  1 |  17 | 0 |   29 | 0 | 0 | 0 |  0 |\n\n",
            "text/html": [
              "<table>\n",
              "<caption>A data.frame: 109 × 25</caption>\n",
              "<thead>\n",
              "\t<tr><th></th><th scope=col>League</th><th scope=col>Name</th><th scope=col>Team</th><th scope=col>Position</th><th scope=col>GamesPlayed</th><th scope=col>TotalMinutesPlayed</th><th scope=col>FieldGoalsMade</th><th scope=col>FieldGoalsAttempted</th><th scope=col>ThreesMade</th><th scope=col>ThreesAttempted</th><th scope=col>⋯</th><th scope=col>Steals</th><th scope=col>Turnovers</th><th scope=col>Blocks</th><th scope=col>PersonalFouls</th><th scope=col>Disqualifications</th><th scope=col>TotalPoints</th><th scope=col>Technicals</th><th scope=col>Ejections</th><th scope=col>FlagrantFouls</th><th scope=col>GamesStarted</th></tr>\n",
              "\t<tr><th></th><th scope=col>&lt;fct&gt;</th><th scope=col>&lt;chr&gt;</th><th scope=col>&lt;fct&gt;</th><th scope=col>&lt;fct&gt;</th><th scope=col>&lt;int&gt;</th><th scope=col>&lt;int&gt;</th><th scope=col>&lt;int&gt;</th><th scope=col>&lt;int&gt;</th><th scope=col>&lt;int&gt;</th><th scope=col>&lt;int&gt;</th><th scope=col>⋯</th><th scope=col>&lt;int&gt;</th><th scope=col>&lt;int&gt;</th><th scope=col>&lt;int&gt;</th><th scope=col>&lt;int&gt;</th><th scope=col>&lt;int&gt;</th><th scope=col>&lt;int&gt;</th><th scope=col>&lt;int&gt;</th><th scope=col>&lt;int&gt;</th><th scope=col>&lt;int&gt;</th><th scope=col>&lt;int&gt;</th></tr>\n",
              "</thead>\n",
              "<tbody>\n",
              "\t<tr><th scope=row>2</th><td>NBA</td><td>Jordan Adams    </td><td>MEM</td><td>SG</td><td> 2</td><td>  15</td><td>  2</td><td>   6</td><td>  0</td><td>  1</td><td>⋯</td><td>  3</td><td>  2</td><td> 0</td><td>  2</td><td>0</td><td>   7</td><td>0</td><td>0</td><td>0</td><td> 0</td></tr>\n",
              "\t<tr><th scope=row>4</th><td>NBA</td><td>Arron Afflalo   </td><td>NYK</td><td>SG</td><td>71</td><td>2359</td><td>354</td><td> 799</td><td> 91</td><td>238</td><td>⋯</td><td> 25</td><td> 82</td><td>10</td><td>142</td><td>1</td><td> 909</td><td>1</td><td>0</td><td>0</td><td>57</td></tr>\n",
              "\t<tr><th scope=row>10</th><td>NBA</td><td>Tony Allen      </td><td>MEM</td><td>SG</td><td>64</td><td>1622</td><td>215</td><td> 469</td><td> 15</td><td> 42</td><td>⋯</td><td>109</td><td> 78</td><td>18</td><td>175</td><td>1</td><td> 535</td><td>1</td><td>0</td><td>0</td><td>56</td></tr>\n",
              "\t<tr><th scope=row>14</th><td>NBA</td><td>Alan Anderson   </td><td>WAS</td><td>SG</td><td>13</td><td> 193</td><td> 21</td><td>  59</td><td> 12</td><td> 37</td><td>⋯</td><td>  4</td><td>  2</td><td> 1</td><td> 25</td><td>0</td><td>  65</td><td>0</td><td>0</td><td>0</td><td> 0</td></tr>\n",
              "\t<tr><th scope=row>15</th><td>NBA</td><td>James Anderson  </td><td>SAC</td><td>SG</td><td>51</td><td> 721</td><td> 67</td><td> 178</td><td> 23</td><td> 86</td><td>⋯</td><td> 21</td><td> 42</td><td>14</td><td> 54</td><td>0</td><td> 179</td><td>0</td><td>0</td><td>0</td><td>15</td></tr>\n",
              "\t<tr><th scope=row>16</th><td>NBA</td><td>Justin Anderson </td><td>DAL</td><td>SG</td><td>55</td><td> 644</td><td> 71</td><td> 176</td><td> 22</td><td> 83</td><td>⋯</td><td> 19</td><td> 24</td><td>25</td><td> 45</td><td>0</td><td> 208</td><td>0</td><td>0</td><td>0</td><td> 9</td></tr>\n",
              "\t<tr><th scope=row>32</th><td>NBA</td><td>Leandro Barbosa </td><td>GSW</td><td>SG</td><td>68</td><td>1079</td><td>171</td><td> 370</td><td> 39</td><td>111</td><td>⋯</td><td> 44</td><td> 53</td><td>10</td><td>107</td><td>0</td><td> 433</td><td>1</td><td>0</td><td>0</td><td> 0</td></tr>\n",
              "\t<tr><th scope=row>37</th><td>NBA</td><td>Will Barton     </td><td>DEN</td><td>SG</td><td>82</td><td>2355</td><td>426</td><td> 984</td><td>112</td><td>324</td><td>⋯</td><td> 71</td><td>139</td><td>39</td><td>147</td><td>0</td><td>1180</td><td>2</td><td>0</td><td>0</td><td> 1</td></tr>\n",
              "\t<tr><th scope=row>42</th><td>NBA</td><td>Kent Bazemore   </td><td>ATL</td><td>SG</td><td>75</td><td>2077</td><td>320</td><td> 724</td><td>109</td><td>304</td><td>⋯</td><td> 98</td><td>138</td><td>38</td><td>176</td><td>2</td><td> 872</td><td>4</td><td>0</td><td>0</td><td>68</td></tr>\n",
              "\t<tr><th scope=row>43</th><td>NBA</td><td>Bradley Beal    </td><td>WAS</td><td>SG</td><td>55</td><td>1709</td><td>359</td><td> 799</td><td>105</td><td>271</td><td>⋯</td><td> 54</td><td>112</td><td>11</td><td>117</td><td>0</td><td> 958</td><td>0</td><td>0</td><td>0</td><td>35</td></tr>\n",
              "\t<tr><th scope=row>54</th><td>NBA</td><td>Bojan Bogdanovic</td><td>BRO</td><td>SG</td><td>79</td><td>2114</td><td>324</td><td> 749</td><td>129</td><td>337</td><td>⋯</td><td> 29</td><td>115</td><td> 5</td><td>119</td><td>0</td><td> 887</td><td>2</td><td>0</td><td>0</td><td>39</td></tr>\n",
              "\t<tr><th scope=row>57</th><td>NBA</td><td>Devin Booker    </td><td>PHO</td><td>SG</td><td>76</td><td>2110</td><td>367</td><td> 867</td><td> 99</td><td>289</td><td>⋯</td><td> 44</td><td>160</td><td>20</td><td>225</td><td>5</td><td>1048</td><td>0</td><td>0</td><td>0</td><td>51</td></tr>\n",
              "\t<tr><th scope=row>62</th><td>NBA</td><td>Corey Brewer    </td><td>HOU</td><td>SG</td><td>82</td><td>1670</td><td>212</td><td> 552</td><td> 61</td><td>225</td><td>⋯</td><td> 84</td><td> 78</td><td>19</td><td>168</td><td>1</td><td> 590</td><td>0</td><td>0</td><td>0</td><td>12</td></tr>\n",
              "\t<tr><th scope=row>66</th><td>NBA</td><td>Markel Brown    </td><td>BRO</td><td>SG</td><td>62</td><td> 989</td><td>127</td><td> 322</td><td> 38</td><td>121</td><td>⋯</td><td> 38</td><td> 54</td><td>15</td><td> 94</td><td>1</td><td> 363</td><td>1</td><td>0</td><td>0</td><td> 6</td></tr>\n",
              "\t<tr><th scope=row>67</th><td>NBA</td><td>Kobe Bryant     </td><td>LAL</td><td>SG</td><td>66</td><td>1861</td><td>398</td><td>1112</td><td>133</td><td>466</td><td>⋯</td><td> 62</td><td>130</td><td>13</td><td>115</td><td>0</td><td>1161</td><td>1</td><td>0</td><td>0</td><td>66</td></tr>\n",
              "\t<tr><th scope=row>73</th><td>NBA</td><td>Jimmy Butler    </td><td>CHI</td><td>SG</td><td>67</td><td>2473</td><td>470</td><td>1034</td><td> 64</td><td>206</td><td>⋯</td><td>110</td><td>132</td><td>43</td><td>124</td><td>1</td><td>1399</td><td>1</td><td>0</td><td>0</td><td>67</td></tr>\n",
              "\t<tr><th scope=row>77</th><td>NBA</td><td>Ke Caldwell-pope</td><td>DET</td><td>SG</td><td>76</td><td>2789</td><td>403</td><td> 960</td><td>114</td><td>368</td><td>⋯</td><td>110</td><td>105</td><td>17</td><td>167</td><td>0</td><td>1105</td><td>3</td><td>0</td><td>0</td><td>76</td></tr>\n",
              "\t<tr><th scope=row>81</th><td>NBA</td><td>Vince Carter    </td><td>MEM</td><td>SG</td><td>60</td><td>1009</td><td>133</td><td> 343</td><td> 59</td><td>169</td><td>⋯</td><td> 38</td><td> 35</td><td>16</td><td>101</td><td>0</td><td> 395</td><td>1</td><td>0</td><td>0</td><td> 3</td></tr>\n",
              "\t<tr><th scope=row>88</th><td>NBA</td><td>Ian Clark       </td><td>GSW</td><td>SG</td><td>66</td><td> 579</td><td> 89</td><td> 202</td><td> 30</td><td> 84</td><td>⋯</td><td> 17</td><td> 43</td><td>13</td><td> 58</td><td>0</td><td> 236</td><td>1</td><td>0</td><td>0</td><td> 1</td></tr>\n",
              "\t<tr><th scope=row>95</th><td>NBA</td><td>Pat Connaughton </td><td>POR</td><td>SG</td><td>34</td><td> 147</td><td> 13</td><td>  49</td><td>  5</td><td> 21</td><td>⋯</td><td>  2</td><td> 10</td><td> 0</td><td>  6</td><td>0</td><td>  36</td><td>0</td><td>0</td><td>0</td><td> 0</td></tr>\n",
              "\t<tr><th scope=row>101</th><td>NBA</td><td>Jamal Crawford  </td><td>LAC</td><td>SG</td><td>79</td><td>2126</td><td>379</td><td> 940</td><td>117</td><td>345</td><td>⋯</td><td> 52</td><td>113</td><td>12</td><td>122</td><td>0</td><td>1120</td><td>3</td><td>0</td><td>0</td><td> 5</td></tr>\n",
              "\t<tr><th scope=row>104</th><td>NBA</td><td>Jared Cunningham</td><td>MIL</td><td>SG</td><td>45</td><td> 415</td><td> 36</td><td> 105</td><td> 12</td><td> 39</td><td>⋯</td><td> 14</td><td> 21</td><td> 2</td><td> 42</td><td>0</td><td> 120</td><td>0</td><td>0</td><td>0</td><td> 3</td></tr>\n",
              "\t<tr><th scope=row>105</th><td>NBA</td><td>Seth Curry      </td><td>SAC</td><td>SG</td><td>44</td><td> 694</td><td>102</td><td> 224</td><td> 50</td><td>111</td><td>⋯</td><td> 22</td><td> 36</td><td> 3</td><td> 41</td><td>0</td><td> 299</td><td>0</td><td>0</td><td>0</td><td> 9</td></tr>\n",
              "\t<tr><th scope=row>107</th><td>NBA</td><td>Troy Daniels    </td><td>CHA</td><td>SG</td><td>43</td><td> 478</td><td> 89</td><td> 187</td><td> 59</td><td>122</td><td>⋯</td><td> 11</td><td> 24</td><td> 3</td><td> 40</td><td>0</td><td> 242</td><td>0</td><td>0</td><td>0</td><td> 0</td></tr>\n",
              "\t<tr><th scope=row>112</th><td>NBA</td><td>Bry Dejean-jones</td><td>NOR</td><td>SG</td><td>11</td><td> 271</td><td> 27</td><td>  67</td><td> 11</td><td> 30</td><td>⋯</td><td> 10</td><td> 11</td><td> 2</td><td> 16</td><td>0</td><td>  76</td><td>0</td><td>0</td><td>0</td><td>11</td></tr>\n",
              "\t<tr><th scope=row>116</th><td>NBA</td><td>Demar Derozan   </td><td>TOR</td><td>SG</td><td>78</td><td>2804</td><td>614</td><td>1377</td><td> 47</td><td>139</td><td>⋯</td><td> 82</td><td>174</td><td>21</td><td>167</td><td>0</td><td>1830</td><td>2</td><td>0</td><td>0</td><td>78</td></tr>\n",
              "\t<tr><th scope=row>121</th><td>NBA</td><td>Goran Dragic    </td><td>MIA</td><td>SG</td><td>72</td><td>2362</td><td>417</td><td> 875</td><td> 64</td><td>205</td><td>⋯</td><td> 71</td><td>185</td><td>17</td><td>188</td><td>1</td><td>1018</td><td>1</td><td>0</td><td>0</td><td>72</td></tr>\n",
              "\t<tr><th scope=row>123</th><td>NBA</td><td>Jared Dudley    </td><td>WAS</td><td>SG</td><td>81</td><td>2098</td><td>233</td><td> 487</td><td>100</td><td>239</td><td>⋯</td><td> 75</td><td> 80</td><td>18</td><td>190</td><td>1</td><td> 638</td><td>1</td><td>0</td><td>0</td><td>41</td></tr>\n",
              "\t<tr><th scope=row>126</th><td>NBA</td><td>Mike Dunleavy   </td><td>CHI</td><td>SG</td><td>31</td><td> 702</td><td> 77</td><td> 188</td><td> 39</td><td> 99</td><td>⋯</td><td> 14</td><td> 26</td><td>10</td><td> 66</td><td>0</td><td> 222</td><td>0</td><td>0</td><td>0</td><td>30</td></tr>\n",
              "\t<tr><th scope=row>129</th><td>NBA</td><td>Jarell Eddie    </td><td>WAS</td><td>SG</td><td>26</td><td> 147</td><td> 20</td><td>  65</td><td> 15</td><td> 47</td><td>⋯</td><td>  5</td><td>  1</td><td> 1</td><td>  5</td><td>0</td><td>  63</td><td>0</td><td>0</td><td>0</td><td> 0</td></tr>\n",
              "\t<tr><th scope=row>⋮</th><td>⋮</td><td>⋮</td><td>⋮</td><td>⋮</td><td>⋮</td><td>⋮</td><td>⋮</td><td>⋮</td><td>⋮</td><td>⋮</td><td>⋱</td><td>⋮</td><td>⋮</td><td>⋮</td><td>⋮</td><td>⋮</td><td>⋮</td><td>⋮</td><td>⋮</td><td>⋮</td><td>⋮</td></tr>\n",
              "\t<tr><th scope=row>363</th><td>NBA</td><td>Norman Powell   </td><td>TOR</td><td>SG</td><td>49</td><td> 729</td><td> 97</td><td> 229</td><td> 36</td><td> 88</td><td>⋯</td><td>29</td><td> 32</td><td>10</td><td> 59</td><td>0</td><td> 273</td><td>0</td><td>0</td><td>0</td><td>24</td></tr>\n",
              "\t<tr><th scope=row>364</th><td>NBA</td><td>Phil Pressey    </td><td>PHO</td><td>SG</td><td>22</td><td> 280</td><td> 30</td><td>  77</td><td>  4</td><td> 17</td><td>⋯</td><td>17</td><td> 33</td><td> 4</td><td> 28</td><td>0</td><td>  77</td><td>0</td><td>0</td><td>0</td><td> 0</td></tr>\n",
              "\t<tr><th scope=row>370</th><td>NBA</td><td>J.j. Redick     </td><td>LAC</td><td>SG</td><td>75</td><td>2098</td><td>422</td><td> 880</td><td>200</td><td>420</td><td>⋯</td><td>42</td><td> 79</td><td> 5</td><td>135</td><td>0</td><td>1226</td><td>1</td><td>0</td><td>0</td><td>75</td></tr>\n",
              "\t<tr><th scope=row>372</th><td>NBA</td><td>Josh Richardson </td><td>MIA</td><td>SG</td><td>52</td><td>1105</td><td>123</td><td> 272</td><td> 53</td><td>115</td><td>⋯</td><td>36</td><td> 35</td><td>25</td><td>107</td><td>0</td><td> 341</td><td>0</td><td>0</td><td>0</td><td> 2</td></tr>\n",
              "\t<tr><th scope=row>373</th><td>NBA</td><td>Austin Rivers   </td><td>LAC</td><td>SG</td><td>67</td><td>1466</td><td>226</td><td> 516</td><td> 62</td><td>185</td><td>⋯</td><td>48</td><td> 61</td><td>10</td><td>137</td><td>1</td><td> 593</td><td>2</td><td>0</td><td>0</td><td> 7</td></tr>\n",
              "\t<tr><th scope=row>374</th><td>NBA</td><td>Andre Roberson  </td><td>OKL</td><td>SG</td><td>70</td><td>1552</td><td>136</td><td> 274</td><td> 32</td><td>103</td><td>⋯</td><td>54</td><td> 35</td><td>42</td><td>133</td><td>0</td><td> 337</td><td>1</td><td>0</td><td>0</td><td>70</td></tr>\n",
              "\t<tr><th scope=row>385</th><td>NBA</td><td>Brandon Rush    </td><td>GSW</td><td>SG</td><td>72</td><td>1050</td><td>111</td><td> 260</td><td> 65</td><td>157</td><td>⋯</td><td>21</td><td> 33</td><td>23</td><td> 57</td><td>1</td><td> 305</td><td>0</td><td>0</td><td>0</td><td>25</td></tr>\n",
              "\t<tr><th scope=row>388</th><td>NBA</td><td>Jakarr Sampson  </td><td>DEN</td><td>SG</td><td>73</td><td>1166</td><td>140</td><td> 318</td><td> 14</td><td> 63</td><td>⋯</td><td>23</td><td> 70</td><td>33</td><td>142</td><td>1</td><td> 374</td><td>2</td><td>0</td><td>0</td><td>40</td></tr>\n",
              "\t<tr><th scope=row>392</th><td>NBA</td><td>Thabo Sefolosha </td><td>ATL</td><td>SG</td><td>75</td><td>1749</td><td>188</td><td> 374</td><td> 42</td><td>125</td><td>⋯</td><td>84</td><td> 68</td><td>37</td><td>109</td><td>0</td><td> 480</td><td>0</td><td>0</td><td>0</td><td>11</td></tr>\n",
              "\t<tr><th scope=row>395</th><td>NBA</td><td>Iman Shumpert   </td><td>CLE</td><td>SG</td><td>54</td><td>1319</td><td>114</td><td> 305</td><td> 43</td><td>146</td><td>⋯</td><td>54</td><td> 56</td><td>19</td><td>119</td><td>1</td><td> 311</td><td>1</td><td>0</td><td>0</td><td> 5</td></tr>\n",
              "\t<tr><th scope=row>396</th><td>NBA</td><td>Jonathon Simmons</td><td>SAN</td><td>SG</td><td>55</td><td> 811</td><td>122</td><td> 241</td><td> 18</td><td> 47</td><td>⋯</td><td>24</td><td> 53</td><td> 5</td><td>103</td><td>0</td><td> 331</td><td>0</td><td>0</td><td>0</td><td> 2</td></tr>\n",
              "\t<tr><th scope=row>403</th><td>NBA</td><td>J.r. Smith      </td><td>CLE</td><td>SG</td><td>77</td><td>2367</td><td>353</td><td> 849</td><td>204</td><td>510</td><td>⋯</td><td>81</td><td> 59</td><td>21</td><td>204</td><td>1</td><td> 955</td><td>3</td><td>0</td><td>0</td><td>77</td></tr>\n",
              "\t<tr><th scope=row>410</th><td>NBA</td><td>Nik Stauskas    </td><td>PHI</td><td>SG</td><td>73</td><td>1798</td><td>210</td><td> 542</td><td>106</td><td>324</td><td>⋯</td><td>44</td><td> 93</td><td>20</td><td>111</td><td>0</td><td> 617</td><td>0</td><td>0</td><td>0</td><td>35</td></tr>\n",
              "\t<tr><th scope=row>420</th><td>NBA</td><td>Garrett Temple  </td><td>WAS</td><td>SG</td><td>80</td><td>1951</td><td>201</td><td> 505</td><td> 89</td><td>257</td><td>⋯</td><td>69</td><td> 64</td><td>18</td><td>195</td><td>3</td><td> 582</td><td>0</td><td>0</td><td>0</td><td>43</td></tr>\n",
              "\t<tr><th scope=row>421</th><td>NBA</td><td>Jason Terry     </td><td>HOU</td><td>SG</td><td>72</td><td>1261</td><td>151</td><td> 376</td><td> 93</td><td>261</td><td>⋯</td><td>47</td><td> 49</td><td> 9</td><td> 91</td><td>0</td><td> 422</td><td>1</td><td>0</td><td>0</td><td> 7</td></tr>\n",
              "\t<tr><th scope=row>424</th><td>NBA</td><td>Hollis Thompson </td><td>PHI</td><td>SG</td><td>77</td><td>2158</td><td>270</td><td> 681</td><td>149</td><td>393</td><td>⋯</td><td>36</td><td> 76</td><td>24</td><td>187</td><td>2</td><td> 758</td><td>0</td><td>0</td><td>0</td><td>17</td></tr>\n",
              "\t<tr><th scope=row>426</th><td>NBA</td><td>Klay Thompson   </td><td>GSW</td><td>SG</td><td>80</td><td>2661</td><td>651</td><td>1386</td><td>276</td><td>648</td><td>⋯</td><td>60</td><td>138</td><td>50</td><td>152</td><td>0</td><td>1771</td><td>0</td><td>0</td><td>0</td><td>80</td></tr>\n",
              "\t<tr><th scope=row>428</th><td>NBA</td><td>Marcus Thornton </td><td>WAS</td><td>SG</td><td>61</td><td>1110</td><td>216</td><td> 542</td><td> 91</td><td>271</td><td>⋯</td><td>47</td><td> 51</td><td> 4</td><td> 90</td><td>0</td><td> 590</td><td>0</td><td>0</td><td>0</td><td> 8</td></tr>\n",
              "\t<tr><th scope=row>430</th><td>NBA</td><td>Axel Toupane    </td><td>DEN</td><td>SG</td><td>21</td><td> 307</td><td> 25</td><td>  70</td><td> 13</td><td> 40</td><td>⋯</td><td> 7</td><td>  6</td><td> 6</td><td> 40</td><td>0</td><td>  76</td><td>0</td><td>0</td><td>0</td><td> 0</td></tr>\n",
              "\t<tr><th scope=row>433</th><td>NBA</td><td>Evan Turner     </td><td>BOS</td><td>SG</td><td>81</td><td>2270</td><td>343</td><td> 753</td><td> 20</td><td> 83</td><td>⋯</td><td>80</td><td>169</td><td>28</td><td>139</td><td>0</td><td> 854</td><td>2</td><td>0</td><td>0</td><td>12</td></tr>\n",
              "\t<tr><th scope=row>439</th><td>NBA</td><td>Rashad Vaughn   </td><td>MIL</td><td>SG</td><td>70</td><td>1000</td><td> 82</td><td> 266</td><td> 44</td><td>147</td><td>⋯</td><td>29</td><td> 28</td><td>16</td><td> 73</td><td>0</td><td> 220</td><td>0</td><td>0</td><td>0</td><td> 6</td></tr>\n",
              "\t<tr><th scope=row>443</th><td>NBA</td><td>Sasha Vujacic   </td><td>NYK</td><td>SG</td><td>61</td><td> 910</td><td>106</td><td> 277</td><td> 52</td><td>143</td><td>⋯</td><td>34</td><td> 44</td><td> 5</td><td> 83</td><td>0</td><td> 296</td><td>1</td><td>0</td><td>0</td><td>25</td></tr>\n",
              "\t<tr><th scope=row>444</th><td>NBA</td><td>Dwyane Wade     </td><td>MIA</td><td>SG</td><td>74</td><td>2258</td><td>540</td><td>1183</td><td>  7</td><td> 44</td><td>⋯</td><td>79</td><td>203</td><td>42</td><td>116</td><td>0</td><td>1409</td><td>3</td><td>0</td><td>0</td><td>73</td></tr>\n",
              "\t<tr><th scope=row>445</th><td>NBA</td><td>Dion Waiters    </td><td>OKL</td><td>SG</td><td>78</td><td>2157</td><td>282</td><td> 705</td><td> 86</td><td>241</td><td>⋯</td><td>81</td><td>120</td><td>15</td><td>143</td><td>0</td><td> 762</td><td>4</td><td>0</td><td>0</td><td>15</td></tr>\n",
              "\t<tr><th scope=row>451</th><td>NBA</td><td>Sonny Weems     </td><td>PHI</td><td>SG</td><td>43</td><td> 501</td><td> 42</td><td> 111</td><td> 15</td><td> 42</td><td>⋯</td><td>10</td><td> 41</td><td> 1</td><td> 47</td><td>0</td><td> 107</td><td>0</td><td>0</td><td>0</td><td> 0</td></tr>\n",
              "\t<tr><th scope=row>457</th><td>NBA</td><td>C.j. Wilcox     </td><td>LAC</td><td>SG</td><td>23</td><td> 168</td><td> 26</td><td>  66</td><td>  9</td><td> 23</td><td>⋯</td><td>10</td><td>  2</td><td> 2</td><td> 15</td><td>0</td><td>  70</td><td>0</td><td>0</td><td>0</td><td> 0</td></tr>\n",
              "\t<tr><th scope=row>461</th><td>NBA</td><td>Elliot Williams </td><td>MEM</td><td>SG</td><td> 5</td><td>  46</td><td>  2</td><td>  10</td><td>  1</td><td>  4</td><td>⋯</td><td> 1</td><td>  1</td><td> 0</td><td>  2</td><td>0</td><td>   8</td><td>0</td><td>0</td><td>0</td><td> 0</td></tr>\n",
              "\t<tr><th scope=row>462</th><td>NBA</td><td>Louis Williams  </td><td>LAL</td><td>SG</td><td>67</td><td>1911</td><td>283</td><td> 695</td><td>110</td><td>321</td><td>⋯</td><td>62</td><td>107</td><td>19</td><td>107</td><td>1</td><td>1028</td><td>1</td><td>0</td><td>0</td><td>35</td></tr>\n",
              "\t<tr><th scope=row>470</th><td>NBA</td><td>Tony Wroten     </td><td>PHI</td><td>SG</td><td> 8</td><td> 145</td><td> 22</td><td>  65</td><td>  3</td><td> 17</td><td>⋯</td><td> 3</td><td> 29</td><td> 0</td><td> 11</td><td>0</td><td>  67</td><td>0</td><td>0</td><td>0</td><td> 3</td></tr>\n",
              "\t<tr><th scope=row>471</th><td>NBA</td><td>James Young     </td><td>BOS</td><td>SG</td><td>29</td><td> 200</td><td> 11</td><td>  36</td><td>  6</td><td> 26</td><td>⋯</td><td> 6</td><td>  5</td><td> 1</td><td> 17</td><td>0</td><td>  29</td><td>0</td><td>0</td><td>0</td><td> 0</td></tr>\n",
              "</tbody>\n",
              "</table>\n"
            ]
          },
          "metadata": {
            "tags": []
          }
        }
      ]
    },
    {
      "cell_type": "code",
      "metadata": {
        "id": "hzrAI3GHq9dY"
      },
      "source": [
        ""
      ],
      "execution_count": null,
      "outputs": []
    }
  ]
}